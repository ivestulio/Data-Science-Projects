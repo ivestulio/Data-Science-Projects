{
 "cells": [
  {
   "cell_type": "markdown",
   "id": "ab84cc61",
   "metadata": {
    "_kg_hide-input": false,
    "papermill": {
     "duration": 0.02934,
     "end_time": "2021-10-21T12:46:56.990243",
     "exception": false,
     "start_time": "2021-10-21T12:46:56.960903",
     "status": "completed"
    },
    "tags": []
   },
   "source": [
    "# <html>\n",
    "<div  style=\"background-color:w; color:#636363;border:#63b365; border-width:5px;border-radius:10px 10px; border-style:solid;\">\n",
    "\n",
    "    \n",
    "<p><center><img src=\"https://drive.google.com/thumbnail?id=1yPGYO8HkTanlqsIXozDIUvUVuvawAdG_\" width =\"6%\"  /><font size=8> <b>Lung Cancer Prediction</b></font> </p>\n",
    "\n",
    "\n",
    "</div>"
   ]
  },
  {
   "cell_type": "markdown",
   "id": "88c837ec",
   "metadata": {
    "papermill": {
     "duration": 0.024707,
     "end_time": "2021-10-21T12:46:57.040792",
     "exception": false,
     "start_time": "2021-10-21T12:46:57.016085",
     "status": "completed"
    },
    "tags": []
   },
   "source": [
    "# <span style=\"color:#32936f;\"> <center>Libraries </span>"
   ]
  },
  {
   "cell_type": "code",
   "execution_count": 1,
   "id": "634538f9",
   "metadata": {
    "execution": {
     "iopub.execute_input": "2021-10-21T12:46:57.095284Z",
     "iopub.status.busy": "2021-10-21T12:46:57.094046Z",
     "iopub.status.idle": "2021-10-21T12:47:00.008418Z",
     "shell.execute_reply": "2021-10-21T12:47:00.007490Z",
     "shell.execute_reply.started": "2021-10-21T12:43:29.894271Z"
    },
    "papermill": {
     "duration": 2.943039,
     "end_time": "2021-10-21T12:47:00.008623",
     "exception": false,
     "start_time": "2021-10-21T12:46:57.065584",
     "status": "completed"
    },
    "tags": []
   },
   "outputs": [],
   "source": [
    "# Data Manipulation:\n",
    "import pandas as pd\n",
    "import matplotlib as mpl\n",
    "import seaborn as sns \n",
    "\n",
    "\n",
    "\n",
    "# Visualization:\n",
    "import matplotlib.pyplot as plt\n",
    "import plotly.express as px\n",
    "\n",
    "# Data tratament :\n",
    "from sklearn.preprocessing import StandardScaler \n",
    "from collections import Counter\n",
    "from sklearn.model_selection import train_test_split\n",
    "\n",
    "# Models:\n",
    "from sklearn.linear_model import LogisticRegression,RidgeClassifier,SGDClassifier,PassiveAggressiveClassifier\n",
    "from sklearn.linear_model import Perceptron\n",
    "from sklearn.svm import SVC,LinearSVC,NuSVC\n",
    "from sklearn.neighbors import KNeighborsClassifier,NearestCentroid\n",
    "from sklearn.tree import DecisionTreeClassifier\n",
    "from sklearn.ensemble import RandomForestClassifier,AdaBoostClassifier,GradientBoostingClassifier\n",
    "from sklearn.naive_bayes import GaussianNB,BernoulliNB\n",
    "from sklearn.ensemble import VotingClassifier\n",
    "\n",
    "# Evolution:\n",
    "from sklearn.metrics import precision_score,accuracy_score\n",
    "from sklearn.model_selection import RandomizedSearchCV,GridSearchCV,RepeatedStratifiedKFold"
   ]
  },
  {
   "cell_type": "markdown",
   "id": "defe4657",
   "metadata": {
    "papermill": {
     "duration": 0.02471,
     "end_time": "2021-10-21T12:47:00.059927",
     "exception": false,
     "start_time": "2021-10-21T12:47:00.035217",
     "status": "completed"
    },
    "tags": []
   },
   "source": [
    "# <span style=\"color:#32936f;\"> <center>Importing Dataset </span>"
   ]
  },
  {
   "cell_type": "code",
   "execution_count": 2,
   "id": "e76dfc88",
   "metadata": {
    "execution": {
     "iopub.execute_input": "2021-10-21T12:47:00.116592Z",
     "iopub.status.busy": "2021-10-21T12:47:00.115899Z",
     "iopub.status.idle": "2021-10-21T12:47:00.156195Z",
     "shell.execute_reply": "2021-10-21T12:47:00.156792Z",
     "shell.execute_reply.started": "2021-10-21T12:14:14.876100Z"
    },
    "papermill": {
     "duration": 0.071943,
     "end_time": "2021-10-21T12:47:00.157012",
     "exception": false,
     "start_time": "2021-10-21T12:47:00.085069",
     "status": "completed"
    },
    "tags": []
   },
   "outputs": [
    {
     "data": {
      "text/html": [
       "<div>\n",
       "<style scoped>\n",
       "    .dataframe tbody tr th:only-of-type {\n",
       "        vertical-align: middle;\n",
       "    }\n",
       "\n",
       "    .dataframe tbody tr th {\n",
       "        vertical-align: top;\n",
       "    }\n",
       "\n",
       "    .dataframe thead th {\n",
       "        text-align: right;\n",
       "    }\n",
       "</style>\n",
       "<table border=\"1\" class=\"dataframe\">\n",
       "  <thead>\n",
       "    <tr style=\"text-align: right;\">\n",
       "      <th></th>\n",
       "      <th>GENDER</th>\n",
       "      <th>AGE</th>\n",
       "      <th>SMOKING</th>\n",
       "      <th>YELLOW_FINGERS</th>\n",
       "      <th>ANXIETY</th>\n",
       "      <th>PEER_PRESSURE</th>\n",
       "      <th>CHRONIC DISEASE</th>\n",
       "      <th>FATIGUE</th>\n",
       "      <th>ALLERGY</th>\n",
       "      <th>WHEEZING</th>\n",
       "      <th>ALCOHOL CONSUMING</th>\n",
       "      <th>COUGHING</th>\n",
       "      <th>SHORTNESS OF BREATH</th>\n",
       "      <th>SWALLOWING DIFFICULTY</th>\n",
       "      <th>CHEST PAIN</th>\n",
       "      <th>LUNG_CANCER</th>\n",
       "    </tr>\n",
       "  </thead>\n",
       "  <tbody>\n",
       "    <tr>\n",
       "      <th>0</th>\n",
       "      <td>M</td>\n",
       "      <td>69</td>\n",
       "      <td>1</td>\n",
       "      <td>2</td>\n",
       "      <td>2</td>\n",
       "      <td>1</td>\n",
       "      <td>1</td>\n",
       "      <td>2</td>\n",
       "      <td>1</td>\n",
       "      <td>2</td>\n",
       "      <td>2</td>\n",
       "      <td>2</td>\n",
       "      <td>2</td>\n",
       "      <td>2</td>\n",
       "      <td>2</td>\n",
       "      <td>YES</td>\n",
       "    </tr>\n",
       "    <tr>\n",
       "      <th>1</th>\n",
       "      <td>M</td>\n",
       "      <td>74</td>\n",
       "      <td>2</td>\n",
       "      <td>1</td>\n",
       "      <td>1</td>\n",
       "      <td>1</td>\n",
       "      <td>2</td>\n",
       "      <td>2</td>\n",
       "      <td>2</td>\n",
       "      <td>1</td>\n",
       "      <td>1</td>\n",
       "      <td>1</td>\n",
       "      <td>2</td>\n",
       "      <td>2</td>\n",
       "      <td>2</td>\n",
       "      <td>YES</td>\n",
       "    </tr>\n",
       "    <tr>\n",
       "      <th>2</th>\n",
       "      <td>F</td>\n",
       "      <td>59</td>\n",
       "      <td>1</td>\n",
       "      <td>1</td>\n",
       "      <td>1</td>\n",
       "      <td>2</td>\n",
       "      <td>1</td>\n",
       "      <td>2</td>\n",
       "      <td>1</td>\n",
       "      <td>2</td>\n",
       "      <td>1</td>\n",
       "      <td>2</td>\n",
       "      <td>2</td>\n",
       "      <td>1</td>\n",
       "      <td>2</td>\n",
       "      <td>NO</td>\n",
       "    </tr>\n",
       "    <tr>\n",
       "      <th>3</th>\n",
       "      <td>M</td>\n",
       "      <td>63</td>\n",
       "      <td>2</td>\n",
       "      <td>2</td>\n",
       "      <td>2</td>\n",
       "      <td>1</td>\n",
       "      <td>1</td>\n",
       "      <td>1</td>\n",
       "      <td>1</td>\n",
       "      <td>1</td>\n",
       "      <td>2</td>\n",
       "      <td>1</td>\n",
       "      <td>1</td>\n",
       "      <td>2</td>\n",
       "      <td>2</td>\n",
       "      <td>NO</td>\n",
       "    </tr>\n",
       "    <tr>\n",
       "      <th>4</th>\n",
       "      <td>F</td>\n",
       "      <td>63</td>\n",
       "      <td>1</td>\n",
       "      <td>2</td>\n",
       "      <td>1</td>\n",
       "      <td>1</td>\n",
       "      <td>1</td>\n",
       "      <td>1</td>\n",
       "      <td>1</td>\n",
       "      <td>2</td>\n",
       "      <td>1</td>\n",
       "      <td>2</td>\n",
       "      <td>2</td>\n",
       "      <td>1</td>\n",
       "      <td>1</td>\n",
       "      <td>NO</td>\n",
       "    </tr>\n",
       "  </tbody>\n",
       "</table>\n",
       "</div>"
      ],
      "text/plain": [
       "  GENDER  AGE  SMOKING  YELLOW_FINGERS  ANXIETY  PEER_PRESSURE  \\\n",
       "0      M   69        1               2        2              1   \n",
       "1      M   74        2               1        1              1   \n",
       "2      F   59        1               1        1              2   \n",
       "3      M   63        2               2        2              1   \n",
       "4      F   63        1               2        1              1   \n",
       "\n",
       "   CHRONIC DISEASE  FATIGUE   ALLERGY   WHEEZING  ALCOHOL CONSUMING  COUGHING  \\\n",
       "0                1         2         1         2                  2         2   \n",
       "1                2         2         2         1                  1         1   \n",
       "2                1         2         1         2                  1         2   \n",
       "3                1         1         1         1                  2         1   \n",
       "4                1         1         1         2                  1         2   \n",
       "\n",
       "   SHORTNESS OF BREATH  SWALLOWING DIFFICULTY  CHEST PAIN LUNG_CANCER  \n",
       "0                    2                      2           2         YES  \n",
       "1                    2                      2           2         YES  \n",
       "2                    2                      1           2          NO  \n",
       "3                    1                      2           2          NO  \n",
       "4                    2                      1           1          NO  "
      ]
     },
     "execution_count": 2,
     "metadata": {},
     "output_type": "execute_result"
    }
   ],
   "source": [
    "data = pd.read_csv(\"../input/lung-cancer/survey lung cancer.csv\")\n",
    "data.head()"
   ]
  },
  {
   "cell_type": "code",
   "execution_count": 3,
   "id": "61d53aab",
   "metadata": {
    "execution": {
     "iopub.execute_input": "2021-10-21T12:47:00.212525Z",
     "iopub.status.busy": "2021-10-21T12:47:00.211615Z",
     "iopub.status.idle": "2021-10-21T12:47:00.235817Z",
     "shell.execute_reply": "2021-10-21T12:47:00.236714Z",
     "shell.execute_reply.started": "2021-10-21T12:14:14.918773Z"
    },
    "papermill": {
     "duration": 0.054043,
     "end_time": "2021-10-21T12:47:00.237063",
     "exception": false,
     "start_time": "2021-10-21T12:47:00.183020",
     "status": "completed"
    },
    "tags": []
   },
   "outputs": [
    {
     "name": "stdout",
     "output_type": "stream",
     "text": [
      "<class 'pandas.core.frame.DataFrame'>\n",
      "RangeIndex: 309 entries, 0 to 308\n",
      "Data columns (total 16 columns):\n",
      " #   Column                 Non-Null Count  Dtype \n",
      "---  ------                 --------------  ----- \n",
      " 0   GENDER                 309 non-null    object\n",
      " 1   AGE                    309 non-null    int64 \n",
      " 2   SMOKING                309 non-null    int64 \n",
      " 3   YELLOW_FINGERS         309 non-null    int64 \n",
      " 4   ANXIETY                309 non-null    int64 \n",
      " 5   PEER_PRESSURE          309 non-null    int64 \n",
      " 6   CHRONIC DISEASE        309 non-null    int64 \n",
      " 7   FATIGUE                309 non-null    int64 \n",
      " 8   ALLERGY                309 non-null    int64 \n",
      " 9   WHEEZING               309 non-null    int64 \n",
      " 10  ALCOHOL CONSUMING      309 non-null    int64 \n",
      " 11  COUGHING               309 non-null    int64 \n",
      " 12  SHORTNESS OF BREATH    309 non-null    int64 \n",
      " 13  SWALLOWING DIFFICULTY  309 non-null    int64 \n",
      " 14  CHEST PAIN             309 non-null    int64 \n",
      " 15  LUNG_CANCER            309 non-null    object\n",
      "dtypes: int64(14), object(2)\n",
      "memory usage: 38.8+ KB\n"
     ]
    }
   ],
   "source": [
    "data.info()"
   ]
  },
  {
   "cell_type": "code",
   "execution_count": 4,
   "id": "ecdbe86c",
   "metadata": {
    "execution": {
     "iopub.execute_input": "2021-10-21T12:47:00.295222Z",
     "iopub.status.busy": "2021-10-21T12:47:00.294503Z",
     "iopub.status.idle": "2021-10-21T12:47:00.347975Z",
     "shell.execute_reply": "2021-10-21T12:47:00.348490Z",
     "shell.execute_reply.started": "2021-10-21T12:14:14.937991Z"
    },
    "papermill": {
     "duration": 0.08374,
     "end_time": "2021-10-21T12:47:00.348727",
     "exception": false,
     "start_time": "2021-10-21T12:47:00.264987",
     "status": "completed"
    },
    "tags": []
   },
   "outputs": [
    {
     "data": {
      "text/html": [
       "<div>\n",
       "<style scoped>\n",
       "    .dataframe tbody tr th:only-of-type {\n",
       "        vertical-align: middle;\n",
       "    }\n",
       "\n",
       "    .dataframe tbody tr th {\n",
       "        vertical-align: top;\n",
       "    }\n",
       "\n",
       "    .dataframe thead th {\n",
       "        text-align: right;\n",
       "    }\n",
       "</style>\n",
       "<table border=\"1\" class=\"dataframe\">\n",
       "  <thead>\n",
       "    <tr style=\"text-align: right;\">\n",
       "      <th></th>\n",
       "      <th>AGE</th>\n",
       "      <th>SMOKING</th>\n",
       "      <th>YELLOW_FINGERS</th>\n",
       "      <th>ANXIETY</th>\n",
       "      <th>PEER_PRESSURE</th>\n",
       "      <th>CHRONIC DISEASE</th>\n",
       "      <th>FATIGUE</th>\n",
       "      <th>ALLERGY</th>\n",
       "      <th>WHEEZING</th>\n",
       "      <th>ALCOHOL CONSUMING</th>\n",
       "      <th>COUGHING</th>\n",
       "      <th>SHORTNESS OF BREATH</th>\n",
       "      <th>SWALLOWING DIFFICULTY</th>\n",
       "      <th>CHEST PAIN</th>\n",
       "    </tr>\n",
       "  </thead>\n",
       "  <tbody>\n",
       "    <tr>\n",
       "      <th>count</th>\n",
       "      <td>309.000000</td>\n",
       "      <td>309.000000</td>\n",
       "      <td>309.000000</td>\n",
       "      <td>309.000000</td>\n",
       "      <td>309.000000</td>\n",
       "      <td>309.000000</td>\n",
       "      <td>309.000000</td>\n",
       "      <td>309.000000</td>\n",
       "      <td>309.000000</td>\n",
       "      <td>309.000000</td>\n",
       "      <td>309.000000</td>\n",
       "      <td>309.000000</td>\n",
       "      <td>309.000000</td>\n",
       "      <td>309.000000</td>\n",
       "    </tr>\n",
       "    <tr>\n",
       "      <th>mean</th>\n",
       "      <td>62.673139</td>\n",
       "      <td>1.563107</td>\n",
       "      <td>1.569579</td>\n",
       "      <td>1.498382</td>\n",
       "      <td>1.501618</td>\n",
       "      <td>1.504854</td>\n",
       "      <td>1.673139</td>\n",
       "      <td>1.556634</td>\n",
       "      <td>1.556634</td>\n",
       "      <td>1.556634</td>\n",
       "      <td>1.579288</td>\n",
       "      <td>1.640777</td>\n",
       "      <td>1.469256</td>\n",
       "      <td>1.556634</td>\n",
       "    </tr>\n",
       "    <tr>\n",
       "      <th>std</th>\n",
       "      <td>8.210301</td>\n",
       "      <td>0.496806</td>\n",
       "      <td>0.495938</td>\n",
       "      <td>0.500808</td>\n",
       "      <td>0.500808</td>\n",
       "      <td>0.500787</td>\n",
       "      <td>0.469827</td>\n",
       "      <td>0.497588</td>\n",
       "      <td>0.497588</td>\n",
       "      <td>0.497588</td>\n",
       "      <td>0.494474</td>\n",
       "      <td>0.480551</td>\n",
       "      <td>0.499863</td>\n",
       "      <td>0.497588</td>\n",
       "    </tr>\n",
       "    <tr>\n",
       "      <th>min</th>\n",
       "      <td>21.000000</td>\n",
       "      <td>1.000000</td>\n",
       "      <td>1.000000</td>\n",
       "      <td>1.000000</td>\n",
       "      <td>1.000000</td>\n",
       "      <td>1.000000</td>\n",
       "      <td>1.000000</td>\n",
       "      <td>1.000000</td>\n",
       "      <td>1.000000</td>\n",
       "      <td>1.000000</td>\n",
       "      <td>1.000000</td>\n",
       "      <td>1.000000</td>\n",
       "      <td>1.000000</td>\n",
       "      <td>1.000000</td>\n",
       "    </tr>\n",
       "    <tr>\n",
       "      <th>25%</th>\n",
       "      <td>57.000000</td>\n",
       "      <td>1.000000</td>\n",
       "      <td>1.000000</td>\n",
       "      <td>1.000000</td>\n",
       "      <td>1.000000</td>\n",
       "      <td>1.000000</td>\n",
       "      <td>1.000000</td>\n",
       "      <td>1.000000</td>\n",
       "      <td>1.000000</td>\n",
       "      <td>1.000000</td>\n",
       "      <td>1.000000</td>\n",
       "      <td>1.000000</td>\n",
       "      <td>1.000000</td>\n",
       "      <td>1.000000</td>\n",
       "    </tr>\n",
       "    <tr>\n",
       "      <th>50%</th>\n",
       "      <td>62.000000</td>\n",
       "      <td>2.000000</td>\n",
       "      <td>2.000000</td>\n",
       "      <td>1.000000</td>\n",
       "      <td>2.000000</td>\n",
       "      <td>2.000000</td>\n",
       "      <td>2.000000</td>\n",
       "      <td>2.000000</td>\n",
       "      <td>2.000000</td>\n",
       "      <td>2.000000</td>\n",
       "      <td>2.000000</td>\n",
       "      <td>2.000000</td>\n",
       "      <td>1.000000</td>\n",
       "      <td>2.000000</td>\n",
       "    </tr>\n",
       "    <tr>\n",
       "      <th>75%</th>\n",
       "      <td>69.000000</td>\n",
       "      <td>2.000000</td>\n",
       "      <td>2.000000</td>\n",
       "      <td>2.000000</td>\n",
       "      <td>2.000000</td>\n",
       "      <td>2.000000</td>\n",
       "      <td>2.000000</td>\n",
       "      <td>2.000000</td>\n",
       "      <td>2.000000</td>\n",
       "      <td>2.000000</td>\n",
       "      <td>2.000000</td>\n",
       "      <td>2.000000</td>\n",
       "      <td>2.000000</td>\n",
       "      <td>2.000000</td>\n",
       "    </tr>\n",
       "    <tr>\n",
       "      <th>max</th>\n",
       "      <td>87.000000</td>\n",
       "      <td>2.000000</td>\n",
       "      <td>2.000000</td>\n",
       "      <td>2.000000</td>\n",
       "      <td>2.000000</td>\n",
       "      <td>2.000000</td>\n",
       "      <td>2.000000</td>\n",
       "      <td>2.000000</td>\n",
       "      <td>2.000000</td>\n",
       "      <td>2.000000</td>\n",
       "      <td>2.000000</td>\n",
       "      <td>2.000000</td>\n",
       "      <td>2.000000</td>\n",
       "      <td>2.000000</td>\n",
       "    </tr>\n",
       "  </tbody>\n",
       "</table>\n",
       "</div>"
      ],
      "text/plain": [
       "              AGE     SMOKING  YELLOW_FINGERS     ANXIETY  PEER_PRESSURE  \\\n",
       "count  309.000000  309.000000      309.000000  309.000000     309.000000   \n",
       "mean    62.673139    1.563107        1.569579    1.498382       1.501618   \n",
       "std      8.210301    0.496806        0.495938    0.500808       0.500808   \n",
       "min     21.000000    1.000000        1.000000    1.000000       1.000000   \n",
       "25%     57.000000    1.000000        1.000000    1.000000       1.000000   \n",
       "50%     62.000000    2.000000        2.000000    1.000000       2.000000   \n",
       "75%     69.000000    2.000000        2.000000    2.000000       2.000000   \n",
       "max     87.000000    2.000000        2.000000    2.000000       2.000000   \n",
       "\n",
       "       CHRONIC DISEASE    FATIGUE     ALLERGY     WHEEZING  ALCOHOL CONSUMING  \\\n",
       "count       309.000000  309.000000  309.000000  309.000000         309.000000   \n",
       "mean          1.504854    1.673139    1.556634    1.556634           1.556634   \n",
       "std           0.500787    0.469827    0.497588    0.497588           0.497588   \n",
       "min           1.000000    1.000000    1.000000    1.000000           1.000000   \n",
       "25%           1.000000    1.000000    1.000000    1.000000           1.000000   \n",
       "50%           2.000000    2.000000    2.000000    2.000000           2.000000   \n",
       "75%           2.000000    2.000000    2.000000    2.000000           2.000000   \n",
       "max           2.000000    2.000000    2.000000    2.000000           2.000000   \n",
       "\n",
       "         COUGHING  SHORTNESS OF BREATH  SWALLOWING DIFFICULTY  CHEST PAIN  \n",
       "count  309.000000           309.000000             309.000000  309.000000  \n",
       "mean     1.579288             1.640777               1.469256    1.556634  \n",
       "std      0.494474             0.480551               0.499863    0.497588  \n",
       "min      1.000000             1.000000               1.000000    1.000000  \n",
       "25%      1.000000             1.000000               1.000000    1.000000  \n",
       "50%      2.000000             2.000000               1.000000    2.000000  \n",
       "75%      2.000000             2.000000               2.000000    2.000000  \n",
       "max      2.000000             2.000000               2.000000    2.000000  "
      ]
     },
     "execution_count": 4,
     "metadata": {},
     "output_type": "execute_result"
    }
   ],
   "source": [
    "data.describe()"
   ]
  },
  {
   "cell_type": "markdown",
   "id": "295a2852",
   "metadata": {
    "papermill": {
     "duration": 0.026257,
     "end_time": "2021-10-21T12:47:00.401721",
     "exception": false,
     "start_time": "2021-10-21T12:47:00.375464",
     "status": "completed"
    },
    "tags": []
   },
   "source": [
    "<div  style=\"background-color:w; color:#636363;border:indianred; border-width:2px; border-style:solid;\">\n",
    "\n",
    "   \n",
    "<p ><font size=4><b>Note:</font> </p>\n",
    "<p><font size = 4>\n",
    "There isn't null values in dataset\n",
    "    The data \"GENDER\" and \"LUNG_CANCER\" are objects : transform to numerc values \n",
    "</p>\n",
    "</div>"
   ]
  },
  {
   "cell_type": "markdown",
   "id": "7190d844",
   "metadata": {
    "papermill": {
     "duration": 0.025992,
     "end_time": "2021-10-21T12:47:00.454047",
     "exception": false,
     "start_time": "2021-10-21T12:47:00.428055",
     "status": "completed"
    },
    "tags": []
   },
   "source": [
    "# <span style=\"color:#32936f;\"> <center>Data Visualization </span>"
   ]
  },
  {
   "cell_type": "code",
   "execution_count": 5,
   "id": "44b6ffce",
   "metadata": {
    "execution": {
     "iopub.execute_input": "2021-10-21T12:47:00.513502Z",
     "iopub.status.busy": "2021-10-21T12:47:00.512728Z",
     "iopub.status.idle": "2021-10-21T12:47:03.639871Z",
     "shell.execute_reply": "2021-10-21T12:47:03.640382Z",
     "shell.execute_reply.started": "2021-10-21T12:14:14.993654Z"
    },
    "papermill": {
     "duration": 3.160203,
     "end_time": "2021-10-21T12:47:03.640573",
     "exception": false,
     "start_time": "2021-10-21T12:47:00.480370",
     "status": "completed"
    },
    "tags": []
   },
   "outputs": [
    {
     "data": {
      "text/plain": [
       "array([[<AxesSubplot:title={'center':'AGE'}>,\n",
       "        <AxesSubplot:title={'center':'SMOKING'}>,\n",
       "        <AxesSubplot:title={'center':'YELLOW_FINGERS'}>,\n",
       "        <AxesSubplot:title={'center':'ANXIETY'}>],\n",
       "       [<AxesSubplot:title={'center':'PEER_PRESSURE'}>,\n",
       "        <AxesSubplot:title={'center':'CHRONIC DISEASE'}>,\n",
       "        <AxesSubplot:title={'center':'FATIGUE '}>,\n",
       "        <AxesSubplot:title={'center':'ALLERGY '}>],\n",
       "       [<AxesSubplot:title={'center':'WHEEZING'}>,\n",
       "        <AxesSubplot:title={'center':'ALCOHOL CONSUMING'}>,\n",
       "        <AxesSubplot:title={'center':'COUGHING'}>,\n",
       "        <AxesSubplot:title={'center':'SHORTNESS OF BREATH'}>],\n",
       "       [<AxesSubplot:title={'center':'SWALLOWING DIFFICULTY'}>,\n",
       "        <AxesSubplot:title={'center':'CHEST PAIN'}>, <AxesSubplot:>,\n",
       "        <AxesSubplot:>]], dtype=object)"
      ]
     },
     "execution_count": 5,
     "metadata": {},
     "output_type": "execute_result"
    },
    {
     "data": {
      "image/png": "[encoded data removed]",
      "text/plain": [
       "<Figure size 1800x1800 with 16 Axes>"
      ]
     },
     "metadata": {},
     "output_type": "display_data"
    }
   ],
   "source": [
    "plt.style.use(\"seaborn\")\n",
    "data.hist(figsize=(25,25), bins=15)"
   ]
  },
  {
   "cell_type": "code",
   "execution_count": 6,
   "id": "47278545",
   "metadata": {
    "execution": {
     "iopub.execute_input": "2021-10-21T12:47:03.717238Z",
     "iopub.status.busy": "2021-10-21T12:47:03.709896Z",
     "iopub.status.idle": "2021-10-21T12:47:04.067800Z",
     "shell.execute_reply": "2021-10-21T12:47:04.067261Z",
     "shell.execute_reply.started": "2021-10-21T12:14:17.779323Z"
    },
    "papermill": {
     "duration": 0.396503,
     "end_time": "2021-10-21T12:47:04.067956",
     "exception": false,
     "start_time": "2021-10-21T12:47:03.671453",
     "status": "completed"
    },
    "tags": []
   },
   "outputs": [
    {
     "data": {
      "image/png": "[encoded data removed]",
      "text/plain": [
       "<Figure size 648x648 with 1 Axes>"
      ]
     },
     "metadata": {},
     "output_type": "display_data"
    }
   ],
   "source": [
    "plt.figure(figsize=(9,9))\n",
    "sns.histplot(data[['AGE', 'LUNG_CANCER']], x = \"AGE\", hue=\"LUNG_CANCER\")\n",
    "plt.title(\"\")\n",
    "plt.show()"
   ]
  },
  {
   "cell_type": "code",
   "execution_count": 7,
   "id": "053cdf2b",
   "metadata": {
    "execution": {
     "iopub.execute_input": "2021-10-21T12:47:04.135142Z",
     "iopub.status.busy": "2021-10-21T12:47:04.134480Z",
     "iopub.status.idle": "2021-10-21T12:47:04.495911Z",
     "shell.execute_reply": "2021-10-21T12:47:04.496429Z",
     "shell.execute_reply.started": "2021-10-21T12:14:18.172606Z"
    },
    "papermill": {
     "duration": 0.398971,
     "end_time": "2021-10-21T12:47:04.496603",
     "exception": false,
     "start_time": "2021-10-21T12:47:04.097632",
     "status": "completed"
    },
    "tags": []
   },
   "outputs": [
    {
     "data": {
      "image/png": "[encoded data removed]",
      "text/plain": [
       "<Figure size 648x648 with 1 Axes>"
      ]
     },
     "metadata": {},
     "output_type": "display_data"
    }
   ],
   "source": [
    "plt.figure(figsize=(9,9))\n",
    "sns.histplot(data[['AGE', 'GENDER']], x = \"AGE\", hue=\"GENDER\")\n",
    "plt.title(\"\")\n",
    "plt.show()"
   ]
  },
  {
   "cell_type": "code",
   "execution_count": 8,
   "id": "60324e8b",
   "metadata": {
    "execution": {
     "iopub.execute_input": "2021-10-21T12:47:04.587625Z",
     "iopub.status.busy": "2021-10-21T12:47:04.576427Z",
     "iopub.status.idle": "2021-10-21T12:47:04.814993Z",
     "shell.execute_reply": "2021-10-21T12:47:04.814237Z",
     "shell.execute_reply.started": "2021-10-21T12:14:18.557351Z"
    },
    "papermill": {
     "duration": 0.288122,
     "end_time": "2021-10-21T12:47:04.815155",
     "exception": false,
     "start_time": "2021-10-21T12:47:04.527033",
     "status": "completed"
    },
    "tags": []
   },
   "outputs": [
    {
     "data": {
      "image/png": "[encoded data removed]",
      "text/plain": [
       "<Figure size 648x648 with 1 Axes>"
      ]
     },
     "metadata": {},
     "output_type": "display_data"
    }
   ],
   "source": [
    "plt.style.use(\"seaborn\")\n",
    "plt.figure(figsize=(9,9))\n",
    "sns.histplot(data[['GENDER', 'LUNG_CANCER']], x = \"GENDER\", hue=\"LUNG_CANCER\")\n",
    "plt.title(\"\")\n",
    "plt.show()"
   ]
  },
  {
   "cell_type": "code",
   "execution_count": 9,
   "id": "7393f0bb",
   "metadata": {
    "execution": {
     "iopub.execute_input": "2021-10-21T12:47:04.921791Z",
     "iopub.status.busy": "2021-10-21T12:47:04.903588Z",
     "iopub.status.idle": "2021-10-21T12:47:05.092310Z",
     "shell.execute_reply": "2021-10-21T12:47:05.091307Z",
     "shell.execute_reply.started": "2021-10-21T12:14:18.816607Z"
    },
    "papermill": {
     "duration": 0.244372,
     "end_time": "2021-10-21T12:47:05.092511",
     "exception": false,
     "start_time": "2021-10-21T12:47:04.848139",
     "status": "completed"
    },
    "tags": []
   },
   "outputs": [
    {
     "data": {
      "image/png": "[encoded data removed]",
      "text/plain": [
       "<Figure size 1080x576 with 1 Axes>"
      ]
     },
     "metadata": {},
     "output_type": "display_data"
    }
   ],
   "source": [
    "plt.style.use(\"seaborn\")\n",
    "plt.figure(figsize=(15,8))\n",
    "plt.title(\"Genders\", fontsize=20, y=1.02)\n",
    "sns.countplot(x = data.GENDER ,palette=\"crest\")\n",
    "plt.show()"
   ]
  },
  {
   "cell_type": "markdown",
   "id": "44762818",
   "metadata": {
    "papermill": {
     "duration": 0.033448,
     "end_time": "2021-10-21T12:47:05.159629",
     "exception": false,
     "start_time": "2021-10-21T12:47:05.126181",
     "status": "completed"
    },
    "tags": []
   },
   "source": [
    "# <span style=\"color:#32936f;\"> <center>Data Tratament </span>"
   ]
  },
  {
   "cell_type": "markdown",
   "id": "dbf10f4b",
   "metadata": {
    "papermill": {
     "duration": 0.03313,
     "end_time": "2021-10-21T12:47:05.225613",
     "exception": false,
     "start_time": "2021-10-21T12:47:05.192483",
     "status": "completed"
    },
    "tags": []
   },
   "source": [
    "<div  style=\"background-color:w; color:#636363;border:indianred; border-width:2px; border-style:solid;\">\n",
    "\n",
    "   \n",
    "<p ><font size=4><b>Note:</font> </p>\n",
    "<p><font size = 4>\n",
    "There are some columns where the values are object, we need transform this values in numerical \n",
    "</p>\n",
    "</div>"
   ]
  },
  {
   "cell_type": "code",
   "execution_count": 10,
   "id": "cf28e4fb",
   "metadata": {
    "execution": {
     "iopub.execute_input": "2021-10-21T12:47:05.296037Z",
     "iopub.status.busy": "2021-10-21T12:47:05.295246Z",
     "iopub.status.idle": "2021-10-21T12:47:05.302972Z",
     "shell.execute_reply": "2021-10-21T12:47:05.302203Z",
     "shell.execute_reply.started": "2021-10-21T12:14:19.025816Z"
    },
    "papermill": {
     "duration": 0.044181,
     "end_time": "2021-10-21T12:47:05.303141",
     "exception": false,
     "start_time": "2021-10-21T12:47:05.258960",
     "status": "completed"
    },
    "tags": []
   },
   "outputs": [],
   "source": [
    "data[\"GENDER\"] = data[\"GENDER\"].map({\"F\": 0, \"M\": 1})\n",
    "data['LUNG_CANCER']= data['LUNG_CANCER'].map({'NO':0, \"YES\":1})"
   ]
  },
  {
   "cell_type": "code",
   "execution_count": 11,
   "id": "73cc2325",
   "metadata": {
    "execution": {
     "iopub.execute_input": "2021-10-21T12:47:05.385829Z",
     "iopub.status.busy": "2021-10-21T12:47:05.374696Z",
     "iopub.status.idle": "2021-10-21T12:47:05.388505Z",
     "shell.execute_reply": "2021-10-21T12:47:05.389054Z",
     "shell.execute_reply.started": "2021-10-21T12:14:19.035891Z"
    },
    "papermill": {
     "duration": 0.051029,
     "end_time": "2021-10-21T12:47:05.389260",
     "exception": false,
     "start_time": "2021-10-21T12:47:05.338231",
     "status": "completed"
    },
    "tags": []
   },
   "outputs": [
    {
     "name": "stdout",
     "output_type": "stream",
     "text": [
      "<class 'pandas.core.frame.DataFrame'>\n",
      "RangeIndex: 309 entries, 0 to 308\n",
      "Data columns (total 16 columns):\n",
      " #   Column                 Non-Null Count  Dtype\n",
      "---  ------                 --------------  -----\n",
      " 0   GENDER                 309 non-null    int64\n",
      " 1   AGE                    309 non-null    int64\n",
      " 2   SMOKING                309 non-null    int64\n",
      " 3   YELLOW_FINGERS         309 non-null    int64\n",
      " 4   ANXIETY                309 non-null    int64\n",
      " 5   PEER_PRESSURE          309 non-null    int64\n",
      " 6   CHRONIC DISEASE        309 non-null    int64\n",
      " 7   FATIGUE                309 non-null    int64\n",
      " 8   ALLERGY                309 non-null    int64\n",
      " 9   WHEEZING               309 non-null    int64\n",
      " 10  ALCOHOL CONSUMING      309 non-null    int64\n",
      " 11  COUGHING               309 non-null    int64\n",
      " 12  SHORTNESS OF BREATH    309 non-null    int64\n",
      " 13  SWALLOWING DIFFICULTY  309 non-null    int64\n",
      " 14  CHEST PAIN             309 non-null    int64\n",
      " 15  LUNG_CANCER            309 non-null    int64\n",
      "dtypes: int64(16)\n",
      "memory usage: 38.8 KB\n"
     ]
    }
   ],
   "source": [
    "data.info()"
   ]
  },
  {
   "cell_type": "markdown",
   "id": "a867038a",
   "metadata": {
    "papermill": {
     "duration": 0.03431,
     "end_time": "2021-10-21T12:47:05.456700",
     "exception": false,
     "start_time": "2021-10-21T12:47:05.422390",
     "status": "completed"
    },
    "tags": []
   },
   "source": [
    "# <span style=\"color:#32936f;\"> Splitting the data </span>"
   ]
  },
  {
   "cell_type": "code",
   "execution_count": 12,
   "id": "ff14944c",
   "metadata": {
    "execution": {
     "iopub.execute_input": "2021-10-21T12:47:05.530463Z",
     "iopub.status.busy": "2021-10-21T12:47:05.529522Z",
     "iopub.status.idle": "2021-10-21T12:47:05.533302Z",
     "shell.execute_reply": "2021-10-21T12:47:05.533809Z",
     "shell.execute_reply.started": "2021-10-21T12:14:19.061203Z"
    },
    "papermill": {
     "duration": 0.04334,
     "end_time": "2021-10-21T12:47:05.534029",
     "exception": false,
     "start_time": "2021-10-21T12:47:05.490689",
     "status": "completed"
    },
    "tags": []
   },
   "outputs": [],
   "source": [
    "# X data \n",
    "X = data.drop(\"LUNG_CANCER\", axis = 1)"
   ]
  },
  {
   "cell_type": "code",
   "execution_count": 13,
   "id": "85b95b2d",
   "metadata": {
    "execution": {
     "iopub.execute_input": "2021-10-21T12:47:05.609921Z",
     "iopub.status.busy": "2021-10-21T12:47:05.609094Z",
     "iopub.status.idle": "2021-10-21T12:47:05.611947Z",
     "shell.execute_reply": "2021-10-21T12:47:05.612454Z",
     "shell.execute_reply.started": "2021-10-21T12:14:19.076971Z"
    },
    "papermill": {
     "duration": 0.043725,
     "end_time": "2021-10-21T12:47:05.612668",
     "exception": false,
     "start_time": "2021-10-21T12:47:05.568943",
     "status": "completed"
    },
    "tags": []
   },
   "outputs": [
    {
     "data": {
      "text/plain": [
       "0    1\n",
       "1    1\n",
       "2    0\n",
       "3    0\n",
       "4    0\n",
       "Name: LUNG_CANCER, dtype: int64"
      ]
     },
     "execution_count": 13,
     "metadata": {},
     "output_type": "execute_result"
    }
   ],
   "source": [
    "# y data \n",
    "y = data[\"LUNG_CANCER\"]\n",
    "y.head()"
   ]
  },
  {
   "cell_type": "code",
   "execution_count": 14,
   "id": "a1d12677",
   "metadata": {
    "execution": {
     "iopub.execute_input": "2021-10-21T12:47:05.691863Z",
     "iopub.status.busy": "2021-10-21T12:47:05.690699Z",
     "iopub.status.idle": "2021-10-21T12:47:05.692718Z",
     "shell.execute_reply": "2021-10-21T12:47:05.693259Z",
     "shell.execute_reply.started": "2021-10-21T12:14:19.093286Z"
    },
    "papermill": {
     "duration": 0.047073,
     "end_time": "2021-10-21T12:47:05.693469",
     "exception": false,
     "start_time": "2021-10-21T12:47:05.646396",
     "status": "completed"
    },
    "tags": []
   },
   "outputs": [],
   "source": [
    "x_train, x_test, y_train, y_test = train_test_split (X, y , test_size = 0.2, random_state = 35)"
   ]
  },
  {
   "cell_type": "code",
   "execution_count": 15,
   "id": "35047e26",
   "metadata": {
    "execution": {
     "iopub.execute_input": "2021-10-21T12:47:05.771855Z",
     "iopub.status.busy": "2021-10-21T12:47:05.770918Z",
     "iopub.status.idle": "2021-10-21T12:47:05.774207Z",
     "shell.execute_reply": "2021-10-21T12:47:05.774787Z",
     "shell.execute_reply.started": "2021-10-21T12:14:19.107168Z"
    },
    "papermill": {
     "duration": 0.046345,
     "end_time": "2021-10-21T12:47:05.774982",
     "exception": false,
     "start_time": "2021-10-21T12:47:05.728637",
     "status": "completed"
    },
    "tags": []
   },
   "outputs": [
    {
     "data": {
      "text/plain": [
       "(62, 247)"
      ]
     },
     "execution_count": 15,
     "metadata": {},
     "output_type": "execute_result"
    }
   ],
   "source": [
    "len(x_test), len(x_train)"
   ]
  },
  {
   "cell_type": "markdown",
   "id": "cf0f78fd",
   "metadata": {
    "papermill": {
     "duration": 0.04304,
     "end_time": "2021-10-21T12:47:05.861183",
     "exception": false,
     "start_time": "2021-10-21T12:47:05.818143",
     "status": "completed"
    },
    "tags": []
   },
   "source": [
    "# <span style=\"color:#32936f;\"> Scaling the data </span>"
   ]
  },
  {
   "cell_type": "code",
   "execution_count": 16,
   "id": "30e44947",
   "metadata": {
    "execution": {
     "iopub.execute_input": "2021-10-21T12:47:05.936970Z",
     "iopub.status.busy": "2021-10-21T12:47:05.935958Z",
     "iopub.status.idle": "2021-10-21T12:47:06.326835Z",
     "shell.execute_reply": "2021-10-21T12:47:06.326293Z",
     "shell.execute_reply.started": "2021-10-21T12:14:19.122017Z"
    },
    "papermill": {
     "duration": 0.42938,
     "end_time": "2021-10-21T12:47:06.326987",
     "exception": false,
     "start_time": "2021-10-21T12:47:05.897607",
     "status": "completed"
    },
    "tags": []
   },
   "outputs": [
    {
     "data": {
      "image/png": "[encoded data removed]",
      "text/plain": [
       "<Figure size 1440x576 with 1 Axes>"
      ]
     },
     "metadata": {},
     "output_type": "display_data"
    }
   ],
   "source": [
    "plt.figure(figsize=(20,8))\n",
    "plt.title(\"Data before Scaling\", fontsize = 20, y=1.0)\n",
    "sns.boxenplot(data=x_train)\n",
    "plt.show()"
   ]
  },
  {
   "cell_type": "code",
   "execution_count": 17,
   "id": "d7d14d1a",
   "metadata": {
    "execution": {
     "iopub.execute_input": "2021-10-21T12:47:06.401578Z",
     "iopub.status.busy": "2021-10-21T12:47:06.400555Z",
     "iopub.status.idle": "2021-10-21T12:47:06.409645Z",
     "shell.execute_reply": "2021-10-21T12:47:06.410155Z",
     "shell.execute_reply.started": "2021-10-21T12:14:19.518333Z"
    },
    "papermill": {
     "duration": 0.047502,
     "end_time": "2021-10-21T12:47:06.410347",
     "exception": false,
     "start_time": "2021-10-21T12:47:06.362845",
     "status": "completed"
    },
    "tags": []
   },
   "outputs": [],
   "source": [
    "# Scaling data:\n",
    "scaler = StandardScaler()\n",
    "x_train = scaler.fit_transform(x_train)\n",
    "x_test = scaler.transform(x_test)"
   ]
  },
  {
   "cell_type": "code",
   "execution_count": 18,
   "id": "d0b57fe5",
   "metadata": {
    "execution": {
     "iopub.execute_input": "2021-10-21T12:47:06.483254Z",
     "iopub.status.busy": "2021-10-21T12:47:06.482221Z",
     "iopub.status.idle": "2021-10-21T12:47:06.871069Z",
     "shell.execute_reply": "2021-10-21T12:47:06.870485Z",
     "shell.execute_reply.started": "2021-10-21T12:14:19.531996Z"
    },
    "papermill": {
     "duration": 0.426605,
     "end_time": "2021-10-21T12:47:06.871239",
     "exception": false,
     "start_time": "2021-10-21T12:47:06.444634",
     "status": "completed"
    },
    "tags": []
   },
   "outputs": [
    {
     "data": {
      "image/png": "[encoded data removed]",
      "text/plain": [
       "<Figure size 1440x576 with 1 Axes>"
      ]
     },
     "metadata": {},
     "output_type": "display_data"
    }
   ],
   "source": [
    "plt.figure(figsize=(20,8))\n",
    "plt.title(\"Data after Scaling\", fontsize = 20, y=1.0)\n",
    "sns.boxenplot(data=x_train)\n",
    "plt.show()"
   ]
  },
  {
   "cell_type": "markdown",
   "id": "fda13877",
   "metadata": {
    "papermill": {
     "duration": 0.036892,
     "end_time": "2021-10-21T12:47:06.944225",
     "exception": false,
     "start_time": "2021-10-21T12:47:06.907333",
     "status": "completed"
    },
    "tags": []
   },
   "source": [
    "# <span style=\"color:#32936f;\"> Spot Checking </span>"
   ]
  },
  {
   "cell_type": "code",
   "execution_count": 19,
   "id": "08ad55be",
   "metadata": {
    "execution": {
     "iopub.execute_input": "2021-10-21T12:47:07.019866Z",
     "iopub.status.busy": "2021-10-21T12:47:07.019135Z",
     "iopub.status.idle": "2021-10-21T12:47:07.023365Z",
     "shell.execute_reply": "2021-10-21T12:47:07.023958Z",
     "shell.execute_reply.started": "2021-10-21T12:14:20.176028Z"
    },
    "papermill": {
     "duration": 0.044206,
     "end_time": "2021-10-21T12:47:07.024136",
     "exception": false,
     "start_time": "2021-10-21T12:47:06.979930",
     "status": "completed"
    },
    "tags": []
   },
   "outputs": [],
   "source": [
    "from warnings import filterwarnings\n"
   ]
  },
  {
   "cell_type": "code",
   "execution_count": 20,
   "id": "7c261c27",
   "metadata": {
    "execution": {
     "iopub.execute_input": "2021-10-21T12:47:07.101694Z",
     "iopub.status.busy": "2021-10-21T12:47:07.100936Z",
     "iopub.status.idle": "2021-10-21T12:47:07.104663Z",
     "shell.execute_reply": "2021-10-21T12:47:07.104018Z",
     "shell.execute_reply.started": "2021-10-21T12:14:20.196936Z"
    },
    "papermill": {
     "duration": 0.044879,
     "end_time": "2021-10-21T12:47:07.104828",
     "exception": false,
     "start_time": "2021-10-21T12:47:07.059949",
     "status": "completed"
    },
    "tags": []
   },
   "outputs": [],
   "source": [
    "filterwarnings('ignore')"
   ]
  },
  {
   "cell_type": "code",
   "execution_count": 21,
   "id": "83af3bbf",
   "metadata": {
    "execution": {
     "iopub.execute_input": "2021-10-21T12:47:07.186944Z",
     "iopub.status.busy": "2021-10-21T12:47:07.186239Z",
     "iopub.status.idle": "2021-10-21T12:47:07.623741Z",
     "shell.execute_reply": "2021-10-21T12:47:07.623019Z",
     "shell.execute_reply.started": "2021-10-21T12:14:20.226634Z"
    },
    "papermill": {
     "duration": 0.483653,
     "end_time": "2021-10-21T12:47:07.623929",
     "exception": false,
     "start_time": "2021-10-21T12:47:07.140276",
     "status": "completed"
    },
    "tags": []
   },
   "outputs": [],
   "source": [
    "models = [(\"LR\", LogisticRegression(max_iter=1000)),\n",
    "          (\"SVC\", SVC()),\n",
    "          (\"KNC\", KNeighborsClassifier(n_neighbors=10)),\n",
    "          (\"DTC\", DecisionTreeClassifier()),\n",
    "          (\"GNB\", GaussianNB()),\n",
    "         (\"SGDC\", SGDClassifier()),\n",
    "         (\"Perc\", Perceptron()),\n",
    "          (\"NC\", NearestCentroid()),\n",
    "          (\"Ridge\", RidgeClassifier()),\n",
    "          (\"BNB\", BernoulliNB()),\n",
    "          (\"RF\", RandomForestClassifier()),\n",
    "          (\"ADA\", AdaBoostClassifier()),\n",
    "          (\"XGB\", GradientBoostingClassifier()),\n",
    "          (\"PAC\", PassiveAggressiveClassifier()) \n",
    "    \n",
    "]\n",
    "\n",
    "results = []\n",
    "names=[]\n",
    "finalresults=[]\n",
    "\n",
    "for name, model in models:\n",
    "    model.fit(x_train, y_train)\n",
    "    model_results = model.predict(x_test)\n",
    "    score= precision_score(y_test, model_results, average='macro')\n",
    "    results.append(score)\n",
    "    names.append(name)\n",
    "    finalresults.append((name,score))"
   ]
  },
  {
   "cell_type": "code",
   "execution_count": 22,
   "id": "b1d22eb8",
   "metadata": {
    "execution": {
     "iopub.execute_input": "2021-10-21T12:47:07.702333Z",
     "iopub.status.busy": "2021-10-21T12:47:07.701526Z",
     "iopub.status.idle": "2021-10-21T12:47:07.704626Z",
     "shell.execute_reply": "2021-10-21T12:47:07.705124Z",
     "shell.execute_reply.started": "2021-10-21T12:14:20.656866Z"
    },
    "papermill": {
     "duration": 0.045841,
     "end_time": "2021-10-21T12:47:07.705297",
     "exception": false,
     "start_time": "2021-10-21T12:47:07.659456",
     "status": "completed"
    },
    "tags": []
   },
   "outputs": [
    {
     "data": {
      "text/plain": [
       "[('RF', 0.9583333333333333),\n",
       " ('LR', 0.8405172413793103),\n",
       " ('SVC', 0.8405172413793103),\n",
       " ('GNB', 0.8405172413793103),\n",
       " ('Ridge', 0.8405172413793103),\n",
       " ('XGB', 0.8405172413793103),\n",
       " ('BNB', 0.8065476190476191),\n",
       " ('KNC', 0.7649122807017543),\n",
       " ('SGDC', 0.7649122807017543),\n",
       " ('ADA', 0.7649122807017543),\n",
       " ('DTC', 0.7584415584415585),\n",
       " ('Perc', 0.7584415584415585),\n",
       " ('NC', 0.6939203354297694),\n",
       " ('PAC', 0.650462962962963)]"
      ]
     },
     "execution_count": 22,
     "metadata": {},
     "output_type": "execute_result"
    }
   ],
   "source": [
    "finalresults.sort(key=lambda k:k[1], reverse=True)\n",
    "finalresults"
   ]
  },
  {
   "cell_type": "markdown",
   "id": "7645a212",
   "metadata": {
    "papermill": {
     "duration": 0.036277,
     "end_time": "2021-10-21T12:47:07.776885",
     "exception": false,
     "start_time": "2021-10-21T12:47:07.740608",
     "status": "completed"
    },
    "tags": []
   },
   "source": [
    "# <span style=\"color:#32936f;\"> Hiperparameter Tuning </span>"
   ]
  },
  {
   "cell_type": "code",
   "execution_count": 23,
   "id": "970bc140",
   "metadata": {
    "execution": {
     "iopub.execute_input": "2021-10-21T12:47:07.852622Z",
     "iopub.status.busy": "2021-10-21T12:47:07.851596Z",
     "iopub.status.idle": "2021-10-21T12:58:08.757255Z",
     "shell.execute_reply": "2021-10-21T12:58:08.757837Z",
     "shell.execute_reply.started": "2021-10-21T12:18:07.788682Z"
    },
    "papermill": {
     "duration": 660.945483,
     "end_time": "2021-10-21T12:58:08.758166",
     "exception": false,
     "start_time": "2021-10-21T12:47:07.812683",
     "status": "completed"
    },
    "tags": []
   },
   "outputs": [
    {
     "data": {
      "text/html": [
       "<div>\n",
       "<style scoped>\n",
       "    .dataframe tbody tr th:only-of-type {\n",
       "        vertical-align: middle;\n",
       "    }\n",
       "\n",
       "    .dataframe tbody tr th {\n",
       "        vertical-align: top;\n",
       "    }\n",
       "\n",
       "    .dataframe thead th {\n",
       "        text-align: right;\n",
       "    }\n",
       "</style>\n",
       "<table border=\"1\" class=\"dataframe\">\n",
       "  <thead>\n",
       "    <tr style=\"text-align: right;\">\n",
       "      <th></th>\n",
       "      <th>Model</th>\n",
       "      <th>Parameters</th>\n",
       "      <th>Score</th>\n",
       "    </tr>\n",
       "  </thead>\n",
       "  <tbody>\n",
       "    <tr>\n",
       "      <th>0</th>\n",
       "      <td>RF</td>\n",
       "      <td>{'n_estimators': 1000, 'max_features': 3}</td>\n",
       "      <td>0.918457</td>\n",
       "    </tr>\n",
       "  </tbody>\n",
       "</table>\n",
       "</div>"
      ],
      "text/plain": [
       "  Model                                 Parameters     Score\n",
       "0    RF  {'n_estimators': 1000, 'max_features': 3}  0.918457"
      ]
     },
     "execution_count": 23,
     "metadata": {},
     "output_type": "execute_result"
    }
   ],
   "source": [
    "# Grid search and space:\n",
    "models_params= {\n",
    "    \"RF\":{'model':RandomForestClassifier(),\n",
    "         'params':{\n",
    "             'max_features': list(range(1,10)),\n",
    "             'n_estimators':[10,100,1000]\n",
    "         }}}\n",
    "\n",
    "# Evaluation:\n",
    "\n",
    "cv = RepeatedStratifiedKFold(n_splits=5,n_repeats=20)\n",
    "\n",
    "# Search:\n",
    "scores=[]\n",
    "\n",
    "for model_name, params in models_params.items(): \n",
    "    rs = RandomizedSearchCV(params['model'], params['params'], cv=cv , n_iter=10)\n",
    "    rs.fit(x_train,y_train)\n",
    "    scores.append([model_name,dict(rs.best_params_),rs.best_score_])\n",
    "data=pd.DataFrame(scores,columns=['Model','Parameters','Score'])\n",
    "data"
   ]
  }
 ],
 "metadata": {
  "kernelspec": {
   "display_name": "Python 3",
   "language": "python",
   "name": "python3"
  },
  "language_info": {
   "codemirror_mode": {
    "name": "ipython",
    "version": 3
   },
   "file_extension": ".py",
   "mimetype": "text/x-python",
   "name": "python",
   "nbconvert_exporter": "python",
   "pygments_lexer": "ipython3",
   "version": "3.7.10"
  },
  "papermill": {
   "default_parameters": {},
   "duration": 683.40997,
   "end_time": "2021-10-21T12:58:09.810560",
   "environment_variables": {},
   "exception": null,
   "input_path": "__notebook__.ipynb",
   "output_path": "__notebook__.ipynb",
   "parameters": {},
   "start_time": "2021-10-21T12:46:46.400590",
   "version": "2.3.3"
  }
 },
 "nbformat": 4,
 "nbformat_minor": 5
}
