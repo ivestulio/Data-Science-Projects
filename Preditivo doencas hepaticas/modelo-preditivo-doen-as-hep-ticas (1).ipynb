{
 "cells": [
  {
   "cell_type": "markdown",
   "id": "50ae0c94",
   "metadata": {
    "execution": {
     "iopub.execute_input": "2021-08-29T01:30:10.505052Z",
     "iopub.status.busy": "2021-08-29T01:30:10.504702Z",
     "iopub.status.idle": "2021-08-29T01:30:10.514147Z",
     "shell.execute_reply": "2021-08-29T01:30:10.512708Z",
     "shell.execute_reply.started": "2021-08-29T01:30:10.505021Z"
    },
    "papermill": {
     "duration": 0.039971,
     "end_time": "2021-09-05T21:00:52.998363",
     "exception": false,
     "start_time": "2021-09-05T21:00:52.958392",
     "status": "completed"
    },
    "tags": []
   },
   "source": [
    "# <html>\n",
    "\n",
    "    \n",
    "<div  style=\"background-color:w; color:#636363;border:#63b365; border-width:5px; border-style:solid;\">\n",
    "\n",
    "    \n",
    "<p><center><img src=\"https://drive.google.com/thumbnail?id=1yPGYO8HkTanlqsIXozDIUvUVuvawAdG_\" width =\"6%\"  /><font size=8> <b>Modelo Preditivo Doenças Hepáticas</b></font> </p>\n",
    "<p ><font size=6><center>Ives Tulio</font> </p>\n",
    "<p ><font size=4><center><b>email:</b> ivestulio@gmail.com <br> \n",
    "<b>Linkedin:</b> in/ives-tulio/<br>\n",
    "<b>GitHub:</b> ivestulio</p>\n",
    "\n",
    "</div>\n"
   ]
  },
  {
   "cell_type": "markdown",
   "id": "970cd893",
   "metadata": {
    "id": "Tkd4dMTChwxZ",
    "papermill": {
     "duration": 0.040238,
     "end_time": "2021-09-05T21:00:53.078050",
     "exception": false,
     "start_time": "2021-09-05T21:00:53.037812",
     "status": "completed"
    },
    "tags": []
   },
   "source": [
    "\n",
    "**Descrição Dados:**\n",
    "* Resultados de Sangue de 615 pacientes,\n",
    "* De ambos os sexos \n",
    "* com idade entre 19 e 77 anos \n",
    "* divididos em:\n",
    "> * Doadores de sangue \n",
    "> * Cirrose \n",
    "> * Hepatite \n",
    "> * Fibroses \n",
    "> * doadores de sangue suspeitos\n",
    "\n",
    "**Avaliações:**\n",
    "\n",
    "> 1. Há relação entre o sexo e doenças hepáticas ?\n",
    "> 2. Qual faixa etária é mais acometida por doenças hepáticas ?\n",
    "> 3. Qual a relação entre as doenças hepáticas e os resultados do exame de sangue ?"
   ]
  },
  {
   "cell_type": "markdown",
   "id": "f4e69e85",
   "metadata": {
    "papermill": {
     "duration": 0.037914,
     "end_time": "2021-09-05T21:00:53.154585",
     "exception": false,
     "start_time": "2021-09-05T21:00:53.116671",
     "status": "completed"
    },
    "tags": []
   },
   "source": [
    "<div style=\"background-color:#99EEAA; color:#000066;\">\n",
    "    <h2><center>Bibliotecas:</center></h2>\n",
    "</div>"
   ]
  },
  {
   "cell_type": "code",
   "execution_count": 183,
   "id": "9a1ed6ad",
   "metadata": {
    "execution": {
     "iopub.execute_input": "2021-09-05T21:00:53.246786Z",
     "iopub.status.busy": "2021-09-05T21:00:53.245916Z",
     "iopub.status.idle": "2021-09-05T21:00:54.631032Z",
     "shell.execute_reply": "2021-09-05T21:00:54.630250Z",
     "shell.execute_reply.started": "2021-09-02T19:47:58.703113Z"
    },
    "id": "HstZoDlaj2eJ",
    "papermill": {
     "duration": 1.437832,
     "end_time": "2021-09-05T21:00:54.631231",
     "exception": false,
     "start_time": "2021-09-05T21:00:53.193399",
     "status": "completed"
    },
    "tags": []
   },
   "outputs": [],
   "source": [
    "# Manipulação de Dados:\n",
    "\n",
    "import pandas as pd \n",
    "import numpy as np\n",
    "\n",
    "# Visualização Gráfica:\n",
    "\n",
    "import matplotlib.pyplot as plt\n",
    "import seaborn as sns \n",
    "\n",
    "#Pré-processamento de dados:\n",
    "from sklearn.model_selection import train_test_split\n",
    "from  sklearn.preprocessing import StandardScaler\n",
    "from sklearn import metrics\n",
    "\n",
    "# Modelos \n",
    "from sklearn.linear_model import LogisticRegression\n",
    "from sklearn.metrics import confusion_matrix, classification_report \n",
    "from sklearn.ensemble import RandomForestClassifier\n",
    "from sklearn.neighbors import KNeighborsClassifier\n",
    "from sklearn.tree import DecisionTreeClassifier\n",
    "from catboost import CatBoostClassifier \n",
    "from sklearn.ensemble import GradientBoostingClassifier\n"
   ]
  },
  {
   "cell_type": "markdown",
   "id": "300af518",
   "metadata": {
    "id": "n7qnY5Tchw6d",
    "papermill": {
     "duration": 0.038367,
     "end_time": "2021-09-05T21:00:54.708893",
     "exception": false,
     "start_time": "2021-09-05T21:00:54.670526",
     "status": "completed"
    },
    "tags": []
   },
   "source": [
    "<div style=\"background-color:#99EEAA; color:#000066;\">\n",
    "    <h2><center>Importando os Dados:</center></h2>\n",
    "</div>\n"
   ]
  },
  {
   "cell_type": "code",
   "execution_count": 377,
   "id": "a055ea94",
   "metadata": {
    "execution": {
     "iopub.execute_input": "2021-09-05T21:00:54.791579Z",
     "iopub.status.busy": "2021-09-05T21:00:54.790915Z",
     "iopub.status.idle": "2021-09-05T21:00:54.835490Z",
     "shell.execute_reply": "2021-09-05T21:00:54.835916Z",
     "shell.execute_reply.started": "2021-09-02T19:48:00.49024Z"
    },
    "id": "PUrYzTCRkd_7",
    "outputId": "627eaa23-4596-48f3-f792-270f9d67c6f9",
    "papermill": {
     "duration": 0.088377,
     "end_time": "2021-09-05T21:00:54.836070",
     "exception": false,
     "start_time": "2021-09-05T21:00:54.747693",
     "status": "completed"
    },
    "tags": []
   },
   "outputs": [
    {
     "data": {
      "text/html": [
       "<div>\n",
       "<style scoped>\n",
       "    .dataframe tbody tr th:only-of-type {\n",
       "        vertical-align: middle;\n",
       "    }\n",
       "\n",
       "    .dataframe tbody tr th {\n",
       "        vertical-align: top;\n",
       "    }\n",
       "\n",
       "    .dataframe thead th {\n",
       "        text-align: right;\n",
       "    }\n",
       "</style>\n",
       "<table border=\"1\" class=\"dataframe\">\n",
       "  <thead>\n",
       "    <tr style=\"text-align: right;\">\n",
       "      <th></th>\n",
       "      <th>Unnamed: 0</th>\n",
       "      <th>Category</th>\n",
       "      <th>Age</th>\n",
       "      <th>Sex</th>\n",
       "      <th>ALB</th>\n",
       "      <th>ALP</th>\n",
       "      <th>ALT</th>\n",
       "      <th>AST</th>\n",
       "      <th>BIL</th>\n",
       "      <th>CHE</th>\n",
       "      <th>CHOL</th>\n",
       "      <th>CREA</th>\n",
       "      <th>GGT</th>\n",
       "      <th>PROT</th>\n",
       "    </tr>\n",
       "  </thead>\n",
       "  <tbody>\n",
       "    <tr>\n",
       "      <th>0</th>\n",
       "      <td>1</td>\n",
       "      <td>0=Blood Donor</td>\n",
       "      <td>32</td>\n",
       "      <td>m</td>\n",
       "      <td>38.5</td>\n",
       "      <td>52.5</td>\n",
       "      <td>7.7</td>\n",
       "      <td>22.1</td>\n",
       "      <td>7.5</td>\n",
       "      <td>6.93</td>\n",
       "      <td>3.23</td>\n",
       "      <td>106.0</td>\n",
       "      <td>12.1</td>\n",
       "      <td>69.0</td>\n",
       "    </tr>\n",
       "    <tr>\n",
       "      <th>1</th>\n",
       "      <td>2</td>\n",
       "      <td>0=Blood Donor</td>\n",
       "      <td>32</td>\n",
       "      <td>m</td>\n",
       "      <td>38.5</td>\n",
       "      <td>70.3</td>\n",
       "      <td>18.0</td>\n",
       "      <td>24.7</td>\n",
       "      <td>3.9</td>\n",
       "      <td>11.17</td>\n",
       "      <td>4.80</td>\n",
       "      <td>74.0</td>\n",
       "      <td>15.6</td>\n",
       "      <td>76.5</td>\n",
       "    </tr>\n",
       "    <tr>\n",
       "      <th>2</th>\n",
       "      <td>3</td>\n",
       "      <td>0=Blood Donor</td>\n",
       "      <td>32</td>\n",
       "      <td>m</td>\n",
       "      <td>46.9</td>\n",
       "      <td>74.7</td>\n",
       "      <td>36.2</td>\n",
       "      <td>52.6</td>\n",
       "      <td>6.1</td>\n",
       "      <td>8.84</td>\n",
       "      <td>5.20</td>\n",
       "      <td>86.0</td>\n",
       "      <td>33.2</td>\n",
       "      <td>79.3</td>\n",
       "    </tr>\n",
       "    <tr>\n",
       "      <th>3</th>\n",
       "      <td>4</td>\n",
       "      <td>0=Blood Donor</td>\n",
       "      <td>32</td>\n",
       "      <td>m</td>\n",
       "      <td>43.2</td>\n",
       "      <td>52.0</td>\n",
       "      <td>30.6</td>\n",
       "      <td>22.6</td>\n",
       "      <td>18.9</td>\n",
       "      <td>7.33</td>\n",
       "      <td>4.74</td>\n",
       "      <td>80.0</td>\n",
       "      <td>33.8</td>\n",
       "      <td>75.7</td>\n",
       "    </tr>\n",
       "    <tr>\n",
       "      <th>4</th>\n",
       "      <td>5</td>\n",
       "      <td>0=Blood Donor</td>\n",
       "      <td>32</td>\n",
       "      <td>m</td>\n",
       "      <td>39.2</td>\n",
       "      <td>74.1</td>\n",
       "      <td>32.6</td>\n",
       "      <td>24.8</td>\n",
       "      <td>9.6</td>\n",
       "      <td>9.15</td>\n",
       "      <td>4.32</td>\n",
       "      <td>76.0</td>\n",
       "      <td>29.9</td>\n",
       "      <td>68.7</td>\n",
       "    </tr>\n",
       "  </tbody>\n",
       "</table>\n",
       "</div>"
      ],
      "text/plain": [
       "   Unnamed: 0       Category  Age Sex   ALB   ALP   ALT   AST   BIL    CHE  \\\n",
       "0           1  0=Blood Donor   32   m  38.5  52.5   7.7  22.1   7.5   6.93   \n",
       "1           2  0=Blood Donor   32   m  38.5  70.3  18.0  24.7   3.9  11.17   \n",
       "2           3  0=Blood Donor   32   m  46.9  74.7  36.2  52.6   6.1   8.84   \n",
       "3           4  0=Blood Donor   32   m  43.2  52.0  30.6  22.6  18.9   7.33   \n",
       "4           5  0=Blood Donor   32   m  39.2  74.1  32.6  24.8   9.6   9.15   \n",
       "\n",
       "   CHOL   CREA   GGT  PROT  \n",
       "0  3.23  106.0  12.1  69.0  \n",
       "1  4.80   74.0  15.6  76.5  \n",
       "2  5.20   86.0  33.2  79.3  \n",
       "3  4.74   80.0  33.8  75.7  \n",
       "4  4.32   76.0  29.9  68.7  "
      ]
     },
     "execution_count": 377,
     "metadata": {},
     "output_type": "execute_result"
    }
   ],
   "source": [
    "ds = pd.read_csv(\"/home/ives/Desktop/PROGRAMAÇAO/DataAnalisys/Doencas_hepaticas/data/HepatitisCdata.csv\")\n",
    "ds.head()"
   ]
  },
  {
   "cell_type": "code",
   "execution_count": 378,
   "id": "08ead75a",
   "metadata": {
    "execution": {
     "iopub.execute_input": "2021-09-05T21:00:54.918089Z",
     "iopub.status.busy": "2021-09-05T21:00:54.917574Z",
     "iopub.status.idle": "2021-09-05T21:00:54.953689Z",
     "shell.execute_reply": "2021-09-05T21:00:54.954702Z",
     "shell.execute_reply.started": "2021-09-02T19:48:00.549862Z"
    },
    "id": "bFwPqQ8fkiZ-",
    "outputId": "dcc6f237-e974-449a-cd1c-0a06474c6129",
    "papermill": {
     "duration": 0.079359,
     "end_time": "2021-09-05T21:00:54.954926",
     "exception": false,
     "start_time": "2021-09-05T21:00:54.875567",
     "status": "completed"
    },
    "tags": []
   },
   "outputs": [
    {
     "name": "stdout",
     "output_type": "stream",
     "text": [
      "       Unnamed: 0         Age         ALB         ALP         ALT         AST  \\\n",
      "count  615.000000  615.000000  614.000000  597.000000  614.000000  615.000000   \n",
      "mean   308.000000   47.408130   41.620195   68.283920   28.450814   34.786341   \n",
      "std    177.679487   10.055105    5.780629   26.028315   25.469689   33.090690   \n",
      "min      1.000000   19.000000   14.900000   11.300000    0.900000   10.600000   \n",
      "25%    154.500000   39.000000   38.800000   52.500000   16.400000   21.600000   \n",
      "50%    308.000000   47.000000   41.950000   66.200000   23.000000   25.900000   \n",
      "75%    461.500000   54.000000   45.200000   80.100000   33.075000   32.900000   \n",
      "max    615.000000   77.000000   82.200000  416.600000  325.300000  324.000000   \n",
      "\n",
      "              BIL         CHE        CHOL         CREA         GGT        PROT  \n",
      "count  615.000000  615.000000  605.000000   615.000000  615.000000  614.000000  \n",
      "mean    11.396748    8.196634    5.368099    81.287805   39.533171   72.044137  \n",
      "std     19.673150    2.205657    1.132728    49.756166   54.661071    5.402636  \n",
      "min      0.800000    1.420000    1.430000     8.000000    4.500000   44.800000  \n",
      "25%      5.300000    6.935000    4.610000    67.000000   15.700000   69.300000  \n",
      "50%      7.300000    8.260000    5.300000    77.000000   23.300000   72.200000  \n",
      "75%     11.200000    9.590000    6.060000    88.000000   40.200000   75.400000  \n",
      "max    254.000000   16.410000    9.670000  1079.100000  650.900000   90.000000  \n"
     ]
    }
   ],
   "source": [
    "print(ds.describe())"
   ]
  },
  {
   "cell_type": "code",
   "execution_count": 379,
   "id": "2b3538d7",
   "metadata": {
    "execution": {
     "iopub.execute_input": "2021-09-05T21:00:55.038580Z",
     "iopub.status.busy": "2021-09-05T21:00:55.038025Z",
     "iopub.status.idle": "2021-09-05T21:00:55.047406Z",
     "shell.execute_reply": "2021-09-05T21:00:55.047835Z",
     "shell.execute_reply.started": "2021-09-02T19:48:00.601486Z"
    },
    "id": "5BXiYs8ekicw",
    "outputId": "13f7b6a9-91ef-428d-d56b-29989b76813f",
    "papermill": {
     "duration": 0.052062,
     "end_time": "2021-09-05T21:00:55.047991",
     "exception": false,
     "start_time": "2021-09-05T21:00:54.995929",
     "status": "completed"
    },
    "tags": []
   },
   "outputs": [
    {
     "data": {
      "text/plain": [
       "0=Blood Donor             533\n",
       "3=Cirrhosis                30\n",
       "1=Hepatitis                24\n",
       "2=Fibrosis                 21\n",
       "0s=suspect Blood Donor      7\n",
       "Name: Category, dtype: int64"
      ]
     },
     "execution_count": 379,
     "metadata": {},
     "output_type": "execute_result"
    }
   ],
   "source": [
    "ds['Category'].value_counts()"
   ]
  },
  {
   "cell_type": "code",
   "execution_count": 380,
   "id": "3caa065a",
   "metadata": {
    "execution": {
     "iopub.execute_input": "2021-09-05T21:00:55.133684Z",
     "iopub.status.busy": "2021-09-05T21:00:55.132582Z",
     "iopub.status.idle": "2021-09-05T21:00:55.137719Z",
     "shell.execute_reply": "2021-09-05T21:00:55.138154Z",
     "shell.execute_reply.started": "2021-09-02T19:48:00.616102Z"
    },
    "id": "eUhwYfBfkigC",
    "outputId": "b3952a81-602f-47c3-cca5-b6a6b876ff3e",
    "papermill": {
     "duration": 0.050073,
     "end_time": "2021-09-05T21:00:55.138312",
     "exception": false,
     "start_time": "2021-09-05T21:00:55.088239",
     "status": "completed"
    },
    "tags": []
   },
   "outputs": [
    {
     "data": {
      "text/plain": [
       "m    377\n",
       "f    238\n",
       "Name: Sex, dtype: int64"
      ]
     },
     "execution_count": 380,
     "metadata": {},
     "output_type": "execute_result"
    }
   ],
   "source": [
    "ds['Sex'].value_counts()"
   ]
  },
  {
   "cell_type": "markdown",
   "id": "0cac7e3e",
   "metadata": {
    "id": "YHxJVYirhw9O",
    "papermill": {
     "duration": 0.040635,
     "end_time": "2021-09-05T21:00:55.218749",
     "exception": false,
     "start_time": "2021-09-05T21:00:55.178114",
     "status": "completed"
    },
    "tags": []
   },
   "source": [
    "<div style=\"background-color:#99EEAA; color:#000066;\">\n",
    "    <h2><center> Tratamento dos Dados:  </center></h2>\n",
    "</div>\n"
   ]
  },
  {
   "cell_type": "code",
   "execution_count": 9,
   "id": "2e99909a",
   "metadata": {
    "execution": {
     "iopub.execute_input": "2021-09-05T21:00:55.328528Z",
     "iopub.status.busy": "2021-09-05T21:00:55.327663Z",
     "iopub.status.idle": "2021-09-05T21:00:55.361240Z",
     "shell.execute_reply": "2021-09-05T21:00:55.362214Z",
     "shell.execute_reply.started": "2021-09-02T19:48:00.630522Z"
    },
    "id": "SvG2oXw9k68X",
    "outputId": "f99f25f3-cc9f-48ad-9407-4b0749765e6d",
    "papermill": {
     "duration": 0.089107,
     "end_time": "2021-09-05T21:00:55.362440",
     "exception": false,
     "start_time": "2021-09-05T21:00:55.273333",
     "status": "completed"
    },
    "tags": []
   },
   "outputs": [
    {
     "name": "stdout",
     "output_type": "stream",
     "text": [
      "<class 'pandas.core.frame.DataFrame'>\n",
      "Int64Index: 589 entries, 0 to 612\n",
      "Data columns (total 14 columns):\n",
      " #   Column      Non-Null Count  Dtype  \n",
      "---  ------      --------------  -----  \n",
      " 0   Unnamed: 0  589 non-null    int64  \n",
      " 1   Category    589 non-null    object \n",
      " 2   Age         589 non-null    int64  \n",
      " 3   Sex         589 non-null    object \n",
      " 4   ALB         589 non-null    float64\n",
      " 5   ALP         589 non-null    float64\n",
      " 6   ALT         589 non-null    float64\n",
      " 7   AST         589 non-null    float64\n",
      " 8   BIL         589 non-null    float64\n",
      " 9   CHE         589 non-null    float64\n",
      " 10  CHOL        589 non-null    float64\n",
      " 11  CREA        589 non-null    float64\n",
      " 12  GGT         589 non-null    float64\n",
      " 13  PROT        589 non-null    float64\n",
      "dtypes: float64(10), int64(2), object(2)\n",
      "memory usage: 69.0+ KB\n"
     ]
    }
   ],
   "source": [
    "# Excluindo valores nulos (na):\n",
    "ds.dropna(inplace= True)\n",
    "ds.info()"
   ]
  },
  {
   "cell_type": "code",
   "execution_count": 381,
   "id": "5e717766",
   "metadata": {
    "execution": {
     "iopub.execute_input": "2021-09-05T21:00:55.451831Z",
     "iopub.status.busy": "2021-09-05T21:00:55.451268Z",
     "iopub.status.idle": "2021-09-05T21:00:55.458065Z",
     "shell.execute_reply": "2021-09-05T21:00:55.458634Z",
     "shell.execute_reply.started": "2021-09-02T19:48:00.679287Z"
    },
    "id": "J14bkLT-k6--",
    "outputId": "92262f1f-7754-4869-a4f0-af447a12f4ef",
    "papermill": {
     "duration": 0.053273,
     "end_time": "2021-09-05T21:00:55.458799",
     "exception": false,
     "start_time": "2021-09-05T21:00:55.405526",
     "status": "completed"
    },
    "tags": []
   },
   "outputs": [
    {
     "name": "stderr",
     "output_type": "stream",
     "text": [
      "/home/ives/anaconda3/lib/python3.8/site-packages/pandas/core/indexing.py:1637: SettingWithCopyWarning: \n",
      "A value is trying to be set on a copy of a slice from a DataFrame\n",
      "\n",
      "See the caveats in the documentation: https://pandas.pydata.org/pandas-docs/stable/user_guide/indexing.html#returning-a-view-versus-a-copy\n",
      "  self._setitem_single_block(indexer, value, name)\n"
     ]
    }
   ],
   "source": [
    "# Separar os dados entre as pessoas Saudáveis e as Doentes:\n",
    "ds[\"Category\"].loc[ds[\"Category\"].isin([\"1=Hepatitis\",'2=Fibrosis','3=Cirrhosis'])] = 1\n",
    "ds[\"Category\"].loc[ds['Category'].isin(['0=Blood Donor',\"0s=suspect Blood Donor\"])] = 0 "
   ]
  },
  {
   "cell_type": "markdown",
   "id": "03b36d25",
   "metadata": {
    "id": "5uk2FN3rhw_s",
    "papermill": {
     "duration": 0.041502,
     "end_time": "2021-09-05T21:00:55.542232",
     "exception": false,
     "start_time": "2021-09-05T21:00:55.500730",
     "status": "completed"
    },
    "tags": []
   },
   "source": [
    "<div style=\"background-color:#99EEAA; color:#000066;\">\n",
    "    <h2><center> Visualização dos Dados:  </center></h2>\n",
    "</div>\n"
   ]
  },
  {
   "cell_type": "code",
   "execution_count": 322,
   "id": "87319c06",
   "metadata": {},
   "outputs": [],
   "source": [
    "import seaborn as sns "
   ]
  },
  {
   "cell_type": "code",
   "execution_count": 323,
   "id": "c8fe467a",
   "metadata": {},
   "outputs": [],
   "source": [
    "cores = [\"#011936\",\"#465362\",\"#82a3a1\",\"#9fc490\",\"#c0dfa1\"]"
   ]
  },
  {
   "cell_type": "code",
   "execution_count": 324,
   "id": "8e6b51d6",
   "metadata": {},
   "outputs": [
    {
     "data": {
      "image/png": "[encoded data removed]",
      "text/plain": [
       "<Figure size 360x72 with 1 Axes>"
      ]
     },
     "metadata": {},
     "output_type": "display_data"
    }
   ],
   "source": [
    "sns.palplot(cores)"
   ]
  },
  {
   "cell_type": "code",
   "execution_count": 369,
   "id": "849e3c84",
   "metadata": {
    "execution": {
     "iopub.execute_input": "2021-09-05T21:00:55.628491Z",
     "iopub.status.busy": "2021-09-05T21:00:55.627889Z",
     "iopub.status.idle": "2021-09-05T21:00:55.832084Z",
     "shell.execute_reply": "2021-09-05T21:00:55.832634Z",
     "shell.execute_reply.started": "2021-09-02T19:48:00.699075Z"
    },
    "id": "yPLQbDmclElS",
    "outputId": "89f79c8d-272b-4289-c6cf-928e474380fe",
    "papermill": {
     "duration": 0.248898,
     "end_time": "2021-09-05T21:00:55.832822",
     "exception": false,
     "start_time": "2021-09-05T21:00:55.583924",
     "status": "completed"
    },
    "scrolled": false,
    "tags": []
   },
   "outputs": [
    {
     "data": {
      "image/png": "[encoded data removed]",
      "text/plain": [
       "<Figure size 1440x720 with 1 Axes>"
      ]
     },
     "metadata": {},
     "output_type": "display_data"
    }
   ],
   "source": [
    "# Plot, Fig :\n",
    "\n",
    "fig, ax =plt.subplots(figsize=(20,10))\n",
    "sns.histplot(ds[\"Age\"],color = cores[4])\n",
    "\n",
    "\n",
    "\n",
    "# Format: \n",
    "\n",
    "ax.tick_params(labelsize=20)\n",
    "\n",
    "\n",
    "# Labels \n",
    "ax.set_ylabel('Contagem', size=25)\n",
    "ax.set_xlabel('Idade',size=25)\n",
    "#ax.legend(fontsize=20, loc = 'upper right', shadow=True)\n",
    "#ax.set_xlim(xmin=1990,xmax=2020)\n",
    "#ax.set_ylim(ymin=80,ymax=3500000)\n",
    "plt.tight_layout() \n",
    "\n",
    "background_color = \"#ffffff\"\n",
    "fig.patch.set_facecolor(background_color) # figure background color\n",
    "ax.set_facecolor(background_color) # axes background color\n",
    "\n",
    "ax.text(20.4,95, \n",
    "         'Distribuição por Idade', \n",
    "         fontsize=30, \n",
    "         fontweight='bold', \n",
    "         fontfamily='serif',\n",
    "        )\n",
    "\n",
    "\n",
    "ax.text(20.4, 90,\n",
    "         'Quantidade de pessoas na amostra por faixa etária', \n",
    "         fontsize=20, \n",
    "         fontweight='light', \n",
    "         fontfamily='serif',\n",
    "        )\n",
    "\n",
    "plt.savefig(\"dist_idade.png\", dpi=100,bbox_inches='tight', transparent=True)\n",
    "\n",
    "\n",
    "#plt.title('Distribuição da Idade')\n",
    "#plt.show()"
   ]
  },
  {
   "cell_type": "code",
   "execution_count": 383,
   "id": "03514435",
   "metadata": {},
   "outputs": [
    {
     "name": "stdout",
     "output_type": "stream",
     "text": [
      "<class 'pandas.core.frame.DataFrame'>\n",
      "RangeIndex: 615 entries, 0 to 614\n",
      "Data columns (total 14 columns):\n",
      " #   Column      Non-Null Count  Dtype  \n",
      "---  ------      --------------  -----  \n",
      " 0   Unnamed: 0  615 non-null    int64  \n",
      " 1   Category    615 non-null    object \n",
      " 2   Age         615 non-null    int64  \n",
      " 3   Sex         615 non-null    object \n",
      " 4   ALB         614 non-null    float64\n",
      " 5   ALP         597 non-null    float64\n",
      " 6   ALT         614 non-null    float64\n",
      " 7   AST         615 non-null    float64\n",
      " 8   BIL         615 non-null    float64\n",
      " 9   CHE         615 non-null    float64\n",
      " 10  CHOL        605 non-null    float64\n",
      " 11  CREA        615 non-null    float64\n",
      " 12  GGT         615 non-null    float64\n",
      " 13  PROT        614 non-null    float64\n",
      "dtypes: float64(10), int64(2), object(2)\n",
      "memory usage: 67.4+ KB\n"
     ]
    }
   ],
   "source": [
    "ds.info()"
   ]
  },
  {
   "cell_type": "code",
   "execution_count": 390,
   "id": "396f967c",
   "metadata": {},
   "outputs": [],
   "source": [
    "df_box = ds[[\"ALB\",\"ALP\",\"ALT\",\"AST\",\"BIL\",\"CHE\",\"CHOL\",\"CREA\",\"GGT\",\"PROT\"]]"
   ]
  },
  {
   "cell_type": "code",
   "execution_count": 391,
   "id": "caee24c0",
   "metadata": {},
   "outputs": [
    {
     "data": {
      "text/html": [
       "<div>\n",
       "<style scoped>\n",
       "    .dataframe tbody tr th:only-of-type {\n",
       "        vertical-align: middle;\n",
       "    }\n",
       "\n",
       "    .dataframe tbody tr th {\n",
       "        vertical-align: top;\n",
       "    }\n",
       "\n",
       "    .dataframe thead th {\n",
       "        text-align: right;\n",
       "    }\n",
       "</style>\n",
       "<table border=\"1\" class=\"dataframe\">\n",
       "  <thead>\n",
       "    <tr style=\"text-align: right;\">\n",
       "      <th></th>\n",
       "      <th>ALB</th>\n",
       "      <th>ALP</th>\n",
       "      <th>ALT</th>\n",
       "      <th>AST</th>\n",
       "      <th>BIL</th>\n",
       "      <th>CHE</th>\n",
       "      <th>CHOL</th>\n",
       "      <th>CREA</th>\n",
       "      <th>GGT</th>\n",
       "      <th>PROT</th>\n",
       "    </tr>\n",
       "  </thead>\n",
       "  <tbody>\n",
       "    <tr>\n",
       "      <th>0</th>\n",
       "      <td>38.5</td>\n",
       "      <td>52.5</td>\n",
       "      <td>7.7</td>\n",
       "      <td>22.1</td>\n",
       "      <td>7.5</td>\n",
       "      <td>6.93</td>\n",
       "      <td>3.23</td>\n",
       "      <td>106.0</td>\n",
       "      <td>12.1</td>\n",
       "      <td>69.0</td>\n",
       "    </tr>\n",
       "    <tr>\n",
       "      <th>1</th>\n",
       "      <td>38.5</td>\n",
       "      <td>70.3</td>\n",
       "      <td>18.0</td>\n",
       "      <td>24.7</td>\n",
       "      <td>3.9</td>\n",
       "      <td>11.17</td>\n",
       "      <td>4.80</td>\n",
       "      <td>74.0</td>\n",
       "      <td>15.6</td>\n",
       "      <td>76.5</td>\n",
       "    </tr>\n",
       "    <tr>\n",
       "      <th>2</th>\n",
       "      <td>46.9</td>\n",
       "      <td>74.7</td>\n",
       "      <td>36.2</td>\n",
       "      <td>52.6</td>\n",
       "      <td>6.1</td>\n",
       "      <td>8.84</td>\n",
       "      <td>5.20</td>\n",
       "      <td>86.0</td>\n",
       "      <td>33.2</td>\n",
       "      <td>79.3</td>\n",
       "    </tr>\n",
       "    <tr>\n",
       "      <th>3</th>\n",
       "      <td>43.2</td>\n",
       "      <td>52.0</td>\n",
       "      <td>30.6</td>\n",
       "      <td>22.6</td>\n",
       "      <td>18.9</td>\n",
       "      <td>7.33</td>\n",
       "      <td>4.74</td>\n",
       "      <td>80.0</td>\n",
       "      <td>33.8</td>\n",
       "      <td>75.7</td>\n",
       "    </tr>\n",
       "    <tr>\n",
       "      <th>4</th>\n",
       "      <td>39.2</td>\n",
       "      <td>74.1</td>\n",
       "      <td>32.6</td>\n",
       "      <td>24.8</td>\n",
       "      <td>9.6</td>\n",
       "      <td>9.15</td>\n",
       "      <td>4.32</td>\n",
       "      <td>76.0</td>\n",
       "      <td>29.9</td>\n",
       "      <td>68.7</td>\n",
       "    </tr>\n",
       "    <tr>\n",
       "      <th>...</th>\n",
       "      <td>...</td>\n",
       "      <td>...</td>\n",
       "      <td>...</td>\n",
       "      <td>...</td>\n",
       "      <td>...</td>\n",
       "      <td>...</td>\n",
       "      <td>...</td>\n",
       "      <td>...</td>\n",
       "      <td>...</td>\n",
       "      <td>...</td>\n",
       "    </tr>\n",
       "    <tr>\n",
       "      <th>610</th>\n",
       "      <td>32.0</td>\n",
       "      <td>416.6</td>\n",
       "      <td>5.9</td>\n",
       "      <td>110.3</td>\n",
       "      <td>50.0</td>\n",
       "      <td>5.57</td>\n",
       "      <td>6.30</td>\n",
       "      <td>55.7</td>\n",
       "      <td>650.9</td>\n",
       "      <td>68.5</td>\n",
       "    </tr>\n",
       "    <tr>\n",
       "      <th>611</th>\n",
       "      <td>24.0</td>\n",
       "      <td>102.8</td>\n",
       "      <td>2.9</td>\n",
       "      <td>44.4</td>\n",
       "      <td>20.0</td>\n",
       "      <td>1.54</td>\n",
       "      <td>3.02</td>\n",
       "      <td>63.0</td>\n",
       "      <td>35.9</td>\n",
       "      <td>71.3</td>\n",
       "    </tr>\n",
       "    <tr>\n",
       "      <th>612</th>\n",
       "      <td>29.0</td>\n",
       "      <td>87.3</td>\n",
       "      <td>3.5</td>\n",
       "      <td>99.0</td>\n",
       "      <td>48.0</td>\n",
       "      <td>1.66</td>\n",
       "      <td>3.63</td>\n",
       "      <td>66.7</td>\n",
       "      <td>64.2</td>\n",
       "      <td>82.0</td>\n",
       "    </tr>\n",
       "    <tr>\n",
       "      <th>613</th>\n",
       "      <td>33.0</td>\n",
       "      <td>NaN</td>\n",
       "      <td>39.0</td>\n",
       "      <td>62.0</td>\n",
       "      <td>20.0</td>\n",
       "      <td>3.56</td>\n",
       "      <td>4.20</td>\n",
       "      <td>52.0</td>\n",
       "      <td>50.0</td>\n",
       "      <td>71.0</td>\n",
       "    </tr>\n",
       "    <tr>\n",
       "      <th>614</th>\n",
       "      <td>36.0</td>\n",
       "      <td>NaN</td>\n",
       "      <td>100.0</td>\n",
       "      <td>80.0</td>\n",
       "      <td>12.0</td>\n",
       "      <td>9.07</td>\n",
       "      <td>5.30</td>\n",
       "      <td>67.0</td>\n",
       "      <td>34.0</td>\n",
       "      <td>68.0</td>\n",
       "    </tr>\n",
       "  </tbody>\n",
       "</table>\n",
       "<p>615 rows × 10 columns</p>\n",
       "</div>"
      ],
      "text/plain": [
       "      ALB    ALP    ALT    AST   BIL    CHE  CHOL   CREA    GGT  PROT\n",
       "0    38.5   52.5    7.7   22.1   7.5   6.93  3.23  106.0   12.1  69.0\n",
       "1    38.5   70.3   18.0   24.7   3.9  11.17  4.80   74.0   15.6  76.5\n",
       "2    46.9   74.7   36.2   52.6   6.1   8.84  5.20   86.0   33.2  79.3\n",
       "3    43.2   52.0   30.6   22.6  18.9   7.33  4.74   80.0   33.8  75.7\n",
       "4    39.2   74.1   32.6   24.8   9.6   9.15  4.32   76.0   29.9  68.7\n",
       "..    ...    ...    ...    ...   ...    ...   ...    ...    ...   ...\n",
       "610  32.0  416.6    5.9  110.3  50.0   5.57  6.30   55.7  650.9  68.5\n",
       "611  24.0  102.8    2.9   44.4  20.0   1.54  3.02   63.0   35.9  71.3\n",
       "612  29.0   87.3    3.5   99.0  48.0   1.66  3.63   66.7   64.2  82.0\n",
       "613  33.0    NaN   39.0   62.0  20.0   3.56  4.20   52.0   50.0  71.0\n",
       "614  36.0    NaN  100.0   80.0  12.0   9.07  5.30   67.0   34.0  68.0\n",
       "\n",
       "[615 rows x 10 columns]"
      ]
     },
     "execution_count": 391,
     "metadata": {},
     "output_type": "execute_result"
    }
   ],
   "source": [
    "df_box"
   ]
  },
  {
   "cell_type": "code",
   "execution_count": null,
   "id": "1adb6dfd",
   "metadata": {},
   "outputs": [],
   "source": []
  },
  {
   "cell_type": "code",
   "execution_count": null,
   "id": "8bf64676",
   "metadata": {},
   "outputs": [],
   "source": []
  },
  {
   "cell_type": "code",
   "execution_count": 480,
   "id": "e2a4343c",
   "metadata": {},
   "outputs": [
    {
     "data": {
      "image/png": "[encoded data removed]",
      "text/plain": [
       "<Figure size 1440x720 with 1 Axes>"
      ]
     },
     "metadata": {},
     "output_type": "display_data"
    }
   ],
   "source": [
    "#f, axes = plt.subplots(1, 1)\n",
    "plt.figure(figsize=(20,10))\n",
    "ax = sns.boxplot( data=df_box,  orient='v', palette=cores)\n",
    "\n",
    "\n",
    "#fig, ax = sns.subplots(figsize=(20,10))\n",
    "\n",
    "#sns.set_style(\"ticks\")\n",
    "\n",
    "\n",
    "sns.set_style(\"whitegrid\")\n",
    "\n",
    "\n",
    "#ax.set_ylabel('Contagem', size=20)\n",
    "#ax.set_xlabel('Estado de Saúde',size=20)\n",
    "\n",
    "\n",
    "plt.text(-0.8,1280, \n",
    "        \n",
    "         'Boxplot', \n",
    "         fontsize=30, \n",
    "         fontweight='bold', \n",
    "         fontfamily='serif',\n",
    "        )\n",
    "\n",
    "\n",
    "plt.text(-0.8,1230, \n",
    "         'Boxplot dos resultados ', \n",
    "         fontsize=20, \n",
    "         fontweight='light', \n",
    "         fontfamily='serif',\n",
    "        )\n",
    "\n",
    "plt.ylim(0,1200)\n",
    "\n",
    "#ax.set_ylabel('Contagem', size=20)\n",
    "ax.set_xlabel('Exames',size=20)\n",
    "\n",
    "ax.tick_params(labelsize=20)\n",
    "\n",
    "\n",
    "#plt.savefig(\"box.png\", dpi=100,bbox_inches='tight', transparent=True)\n",
    "\n",
    "\n",
    "#sns.boxplot(  y=\"c\", x= \"a\", data=df,  orient='v'"
   ]
  },
  {
   "cell_type": "code",
   "execution_count": 15,
   "id": "8f8c5a3c",
   "metadata": {
    "execution": {
     "iopub.execute_input": "2021-09-05T21:00:55.920822Z",
     "iopub.status.busy": "2021-09-05T21:00:55.920214Z",
     "iopub.status.idle": "2021-09-05T21:00:56.163019Z",
     "shell.execute_reply": "2021-09-05T21:00:56.163475Z",
     "shell.execute_reply.started": "2021-09-02T19:48:00.966542Z"
    },
    "id": "Iz_ti8nplEn5",
    "outputId": "376fc448-5e90-495c-d8a9-8fa45e4c28dc",
    "papermill": {
     "duration": 0.288316,
     "end_time": "2021-09-05T21:00:56.163653",
     "exception": false,
     "start_time": "2021-09-05T21:00:55.875337",
     "status": "completed"
    },
    "tags": []
   },
   "outputs": [
    {
     "data": {
      "image/png": "[encoded data removed]",
      "text/plain": [
       "<Figure size 648x648 with 1 Axes>"
      ]
     },
     "metadata": {
      "needs_background": "light"
     },
     "output_type": "display_data"
    }
   ],
   "source": [
    "plt.figure(figsize=(9,9))\n",
    "sns.histplot(ds[['Age', 'Category']], x = \"Age\", hue=\"Category\")\n",
    "plt.title(\"Distribuição da Categoria por idade\")\n",
    "plt.show()"
   ]
  },
  {
   "cell_type": "code",
   "execution_count": 16,
   "id": "979ab44b",
   "metadata": {
    "execution": {
     "iopub.execute_input": "2021-09-05T21:00:56.252466Z",
     "iopub.status.busy": "2021-09-05T21:00:56.251851Z",
     "iopub.status.idle": "2021-09-05T21:00:56.257266Z",
     "shell.execute_reply": "2021-09-05T21:00:56.257688Z",
     "shell.execute_reply.started": "2021-09-02T19:48:01.278402Z"
    },
    "id": "AfnGUUxblErA",
    "papermill": {
     "duration": 0.05164,
     "end_time": "2021-09-05T21:00:56.257854",
     "exception": false,
     "start_time": "2021-09-05T21:00:56.206214",
     "status": "completed"
    },
    "tags": []
   },
   "outputs": [],
   "source": [
    "# Separando os dados por Sexo:\n",
    "dh = ds.loc[ds.Sex == 'm']\n",
    "dm = ds.loc[ds.Sex == 'f']"
   ]
  },
  {
   "cell_type": "code",
   "execution_count": 17,
   "id": "71ad69e0",
   "metadata": {
    "execution": {
     "iopub.execute_input": "2021-09-05T21:00:56.346155Z",
     "iopub.status.busy": "2021-09-05T21:00:56.345626Z",
     "iopub.status.idle": "2021-09-05T21:00:56.352260Z",
     "shell.execute_reply": "2021-09-05T21:00:56.352749Z",
     "shell.execute_reply.started": "2021-09-02T19:48:01.288129Z"
    },
    "id": "XaADOIdslQ34",
    "outputId": "3541c062-efdb-4f28-b59e-2e7fbeeb735d",
    "papermill": {
     "duration": 0.052361,
     "end_time": "2021-09-05T21:00:56.352909",
     "exception": false,
     "start_time": "2021-09-05T21:00:56.300548",
     "status": "completed"
    },
    "tags": []
   },
   "outputs": [
    {
     "data": {
      "text/plain": [
       "0    0.889807\n",
       "1    0.110193\n",
       "Name: Category, dtype: float64"
      ]
     },
     "execution_count": 17,
     "metadata": {},
     "output_type": "execute_result"
    }
   ],
   "source": [
    "dh['Category'].value_counts(normalize=True)"
   ]
  },
  {
   "cell_type": "code",
   "execution_count": 18,
   "id": "14ccc832",
   "metadata": {
    "execution": {
     "iopub.execute_input": "2021-09-05T21:00:56.441251Z",
     "iopub.status.busy": "2021-09-05T21:00:56.440643Z",
     "iopub.status.idle": "2021-09-05T21:00:56.448098Z",
     "shell.execute_reply": "2021-09-05T21:00:56.447541Z",
     "shell.execute_reply.started": "2021-09-02T19:48:01.308771Z"
    },
    "id": "92Kc16VclQ61",
    "outputId": "18814054-cbf6-4464-860c-0c97a5bf4894",
    "papermill": {
     "duration": 0.05276,
     "end_time": "2021-09-05T21:00:56.448244",
     "exception": false,
     "start_time": "2021-09-05T21:00:56.395484",
     "status": "completed"
    },
    "tags": []
   },
   "outputs": [
    {
     "data": {
      "text/plain": [
       "0    0.929204\n",
       "1    0.070796\n",
       "Name: Category, dtype: float64"
      ]
     },
     "execution_count": 18,
     "metadata": {},
     "output_type": "execute_result"
    }
   ],
   "source": [
    "dm['Category'].value_counts(normalize=True)"
   ]
  },
  {
   "cell_type": "code",
   "execution_count": 36,
   "id": "a2ab15c2",
   "metadata": {},
   "outputs": [
    {
     "data": {
      "text/html": [
       "<div>\n",
       "<style scoped>\n",
       "    .dataframe tbody tr th:only-of-type {\n",
       "        vertical-align: middle;\n",
       "    }\n",
       "\n",
       "    .dataframe tbody tr th {\n",
       "        vertical-align: top;\n",
       "    }\n",
       "\n",
       "    .dataframe thead th {\n",
       "        text-align: right;\n",
       "    }\n",
       "</style>\n",
       "<table border=\"1\" class=\"dataframe\">\n",
       "  <thead>\n",
       "    <tr style=\"text-align: right;\">\n",
       "      <th></th>\n",
       "      <th>Unnamed: 0</th>\n",
       "      <th>Category</th>\n",
       "      <th>Age</th>\n",
       "      <th>Sex</th>\n",
       "      <th>ALB</th>\n",
       "      <th>ALP</th>\n",
       "      <th>ALT</th>\n",
       "      <th>AST</th>\n",
       "      <th>BIL</th>\n",
       "      <th>CHE</th>\n",
       "      <th>CHOL</th>\n",
       "      <th>CREA</th>\n",
       "      <th>GGT</th>\n",
       "      <th>PROT</th>\n",
       "    </tr>\n",
       "  </thead>\n",
       "  <tbody>\n",
       "    <tr>\n",
       "      <th>0</th>\n",
       "      <td>1</td>\n",
       "      <td>0</td>\n",
       "      <td>32</td>\n",
       "      <td>m</td>\n",
       "      <td>38.5</td>\n",
       "      <td>52.5</td>\n",
       "      <td>7.7</td>\n",
       "      <td>22.1</td>\n",
       "      <td>7.5</td>\n",
       "      <td>6.93</td>\n",
       "      <td>3.23</td>\n",
       "      <td>106.0</td>\n",
       "      <td>12.1</td>\n",
       "      <td>69.0</td>\n",
       "    </tr>\n",
       "    <tr>\n",
       "      <th>1</th>\n",
       "      <td>2</td>\n",
       "      <td>0</td>\n",
       "      <td>32</td>\n",
       "      <td>m</td>\n",
       "      <td>38.5</td>\n",
       "      <td>70.3</td>\n",
       "      <td>18.0</td>\n",
       "      <td>24.7</td>\n",
       "      <td>3.9</td>\n",
       "      <td>11.17</td>\n",
       "      <td>4.80</td>\n",
       "      <td>74.0</td>\n",
       "      <td>15.6</td>\n",
       "      <td>76.5</td>\n",
       "    </tr>\n",
       "    <tr>\n",
       "      <th>2</th>\n",
       "      <td>3</td>\n",
       "      <td>0</td>\n",
       "      <td>32</td>\n",
       "      <td>m</td>\n",
       "      <td>46.9</td>\n",
       "      <td>74.7</td>\n",
       "      <td>36.2</td>\n",
       "      <td>52.6</td>\n",
       "      <td>6.1</td>\n",
       "      <td>8.84</td>\n",
       "      <td>5.20</td>\n",
       "      <td>86.0</td>\n",
       "      <td>33.2</td>\n",
       "      <td>79.3</td>\n",
       "    </tr>\n",
       "    <tr>\n",
       "      <th>3</th>\n",
       "      <td>4</td>\n",
       "      <td>0</td>\n",
       "      <td>32</td>\n",
       "      <td>m</td>\n",
       "      <td>43.2</td>\n",
       "      <td>52.0</td>\n",
       "      <td>30.6</td>\n",
       "      <td>22.6</td>\n",
       "      <td>18.9</td>\n",
       "      <td>7.33</td>\n",
       "      <td>4.74</td>\n",
       "      <td>80.0</td>\n",
       "      <td>33.8</td>\n",
       "      <td>75.7</td>\n",
       "    </tr>\n",
       "    <tr>\n",
       "      <th>4</th>\n",
       "      <td>5</td>\n",
       "      <td>0</td>\n",
       "      <td>32</td>\n",
       "      <td>m</td>\n",
       "      <td>39.2</td>\n",
       "      <td>74.1</td>\n",
       "      <td>32.6</td>\n",
       "      <td>24.8</td>\n",
       "      <td>9.6</td>\n",
       "      <td>9.15</td>\n",
       "      <td>4.32</td>\n",
       "      <td>76.0</td>\n",
       "      <td>29.9</td>\n",
       "      <td>68.7</td>\n",
       "    </tr>\n",
       "    <tr>\n",
       "      <th>...</th>\n",
       "      <td>...</td>\n",
       "      <td>...</td>\n",
       "      <td>...</td>\n",
       "      <td>...</td>\n",
       "      <td>...</td>\n",
       "      <td>...</td>\n",
       "      <td>...</td>\n",
       "      <td>...</td>\n",
       "      <td>...</td>\n",
       "      <td>...</td>\n",
       "      <td>...</td>\n",
       "      <td>...</td>\n",
       "      <td>...</td>\n",
       "      <td>...</td>\n",
       "    </tr>\n",
       "    <tr>\n",
       "      <th>608</th>\n",
       "      <td>609</td>\n",
       "      <td>1</td>\n",
       "      <td>58</td>\n",
       "      <td>f</td>\n",
       "      <td>34.0</td>\n",
       "      <td>46.4</td>\n",
       "      <td>15.0</td>\n",
       "      <td>150.0</td>\n",
       "      <td>8.0</td>\n",
       "      <td>6.26</td>\n",
       "      <td>3.98</td>\n",
       "      <td>56.0</td>\n",
       "      <td>49.7</td>\n",
       "      <td>80.6</td>\n",
       "    </tr>\n",
       "    <tr>\n",
       "      <th>609</th>\n",
       "      <td>610</td>\n",
       "      <td>1</td>\n",
       "      <td>59</td>\n",
       "      <td>f</td>\n",
       "      <td>39.0</td>\n",
       "      <td>51.3</td>\n",
       "      <td>19.6</td>\n",
       "      <td>285.8</td>\n",
       "      <td>40.0</td>\n",
       "      <td>5.77</td>\n",
       "      <td>4.51</td>\n",
       "      <td>136.1</td>\n",
       "      <td>101.1</td>\n",
       "      <td>70.5</td>\n",
       "    </tr>\n",
       "    <tr>\n",
       "      <th>610</th>\n",
       "      <td>611</td>\n",
       "      <td>1</td>\n",
       "      <td>62</td>\n",
       "      <td>f</td>\n",
       "      <td>32.0</td>\n",
       "      <td>416.6</td>\n",
       "      <td>5.9</td>\n",
       "      <td>110.3</td>\n",
       "      <td>50.0</td>\n",
       "      <td>5.57</td>\n",
       "      <td>6.30</td>\n",
       "      <td>55.7</td>\n",
       "      <td>650.9</td>\n",
       "      <td>68.5</td>\n",
       "    </tr>\n",
       "    <tr>\n",
       "      <th>611</th>\n",
       "      <td>612</td>\n",
       "      <td>1</td>\n",
       "      <td>64</td>\n",
       "      <td>f</td>\n",
       "      <td>24.0</td>\n",
       "      <td>102.8</td>\n",
       "      <td>2.9</td>\n",
       "      <td>44.4</td>\n",
       "      <td>20.0</td>\n",
       "      <td>1.54</td>\n",
       "      <td>3.02</td>\n",
       "      <td>63.0</td>\n",
       "      <td>35.9</td>\n",
       "      <td>71.3</td>\n",
       "    </tr>\n",
       "    <tr>\n",
       "      <th>612</th>\n",
       "      <td>613</td>\n",
       "      <td>1</td>\n",
       "      <td>64</td>\n",
       "      <td>f</td>\n",
       "      <td>29.0</td>\n",
       "      <td>87.3</td>\n",
       "      <td>3.5</td>\n",
       "      <td>99.0</td>\n",
       "      <td>48.0</td>\n",
       "      <td>1.66</td>\n",
       "      <td>3.63</td>\n",
       "      <td>66.7</td>\n",
       "      <td>64.2</td>\n",
       "      <td>82.0</td>\n",
       "    </tr>\n",
       "  </tbody>\n",
       "</table>\n",
       "<p>589 rows × 14 columns</p>\n",
       "</div>"
      ],
      "text/plain": [
       "     Unnamed: 0 Category  Age Sex   ALB    ALP   ALT    AST   BIL    CHE  \\\n",
       "0             1        0   32   m  38.5   52.5   7.7   22.1   7.5   6.93   \n",
       "1             2        0   32   m  38.5   70.3  18.0   24.7   3.9  11.17   \n",
       "2             3        0   32   m  46.9   74.7  36.2   52.6   6.1   8.84   \n",
       "3             4        0   32   m  43.2   52.0  30.6   22.6  18.9   7.33   \n",
       "4             5        0   32   m  39.2   74.1  32.6   24.8   9.6   9.15   \n",
       "..          ...      ...  ...  ..   ...    ...   ...    ...   ...    ...   \n",
       "608         609        1   58   f  34.0   46.4  15.0  150.0   8.0   6.26   \n",
       "609         610        1   59   f  39.0   51.3  19.6  285.8  40.0   5.77   \n",
       "610         611        1   62   f  32.0  416.6   5.9  110.3  50.0   5.57   \n",
       "611         612        1   64   f  24.0  102.8   2.9   44.4  20.0   1.54   \n",
       "612         613        1   64   f  29.0   87.3   3.5   99.0  48.0   1.66   \n",
       "\n",
       "     CHOL   CREA    GGT  PROT  \n",
       "0    3.23  106.0   12.1  69.0  \n",
       "1    4.80   74.0   15.6  76.5  \n",
       "2    5.20   86.0   33.2  79.3  \n",
       "3    4.74   80.0   33.8  75.7  \n",
       "4    4.32   76.0   29.9  68.7  \n",
       "..    ...    ...    ...   ...  \n",
       "608  3.98   56.0   49.7  80.6  \n",
       "609  4.51  136.1  101.1  70.5  \n",
       "610  6.30   55.7  650.9  68.5  \n",
       "611  3.02   63.0   35.9  71.3  \n",
       "612  3.63   66.7   64.2  82.0  \n",
       "\n",
       "[589 rows x 14 columns]"
      ]
     },
     "execution_count": 36,
     "metadata": {},
     "output_type": "execute_result"
    }
   ],
   "source": [
    "ds"
   ]
  },
  {
   "cell_type": "code",
   "execution_count": 368,
   "id": "ce6cef8e",
   "metadata": {
    "execution": {
     "iopub.execute_input": "2021-09-05T21:00:56.675449Z",
     "iopub.status.busy": "2021-09-05T21:00:56.670926Z",
     "iopub.status.idle": "2021-09-05T21:00:56.774744Z",
     "shell.execute_reply": "2021-09-05T21:00:56.773763Z",
     "shell.execute_reply.started": "2021-09-02T19:48:01.325225Z"
    },
    "id": "mOsJYrnUlQ9g",
    "outputId": "7e0d64ff-9e31-4352-bc2c-833702678211",
    "papermill": {
     "duration": 0.283994,
     "end_time": "2021-09-05T21:00:56.774891",
     "exception": false,
     "start_time": "2021-09-05T21:00:56.490897",
     "status": "completed"
    },
    "tags": []
   },
   "outputs": [
    {
     "name": "stderr",
     "output_type": "stream",
     "text": [
      "<ipython-input-368-0ba5ff4d0890>:48: MatplotlibDeprecationWarning: savefig() got unexpected keyword argument \"transparente\" which is no longer supported as of 3.3 and will become an error two minor releases later\n",
      "  plt.savefig(\"cont_sex.png\", dpi=200,bbox_inches='tight', transparente = True)\n"
     ]
    },
    {
     "data": {
      "image/png": "[encoded data removed]",
      "text/plain": [
       "<Figure size 1440x720 with 1 Axes>"
      ]
     },
     "metadata": {},
     "output_type": "display_data"
    }
   ],
   "source": [
    "# Plot:\n",
    "\n",
    "x = np.arange(2)\n",
    "\n",
    "\n",
    "fig, ax = plt.subplots(figsize=(20,10))\n",
    "\n",
    "barWidht = 0.25\n",
    "\n",
    "\n",
    "\n",
    "plt.bar(x,ds['Category'].value_counts(normalize=True),width=0.25, color= cores[1],label = \"Homem\" )\n",
    "plt.bar(x+barWidht,dm['Category'].value_counts(normalize=True), width= 0.25, color=cores[2], label=\"Mulher\")\n",
    "local = x+barWidht\n",
    "\n",
    "\n",
    "ax.tick_params(labelsize=20)\n",
    "\n",
    "\n",
    "\n",
    "# Format:\n",
    "labels = ['Doente','Saudavel']\n",
    "plt.xticks(local,labels)\n",
    "#plt.legend()\n",
    "ax.legend(fontsize=20, loc = 'upper right', shadow=True)\n",
    "background_color = \"#ffffff\"\n",
    "fig.patch.set_facecolor(background_color) # figure background color\n",
    "ax.set_facecolor(background_color) # axes background color\n",
    "\n",
    "ax.set_ylabel('Contagem', size=20)\n",
    "ax.set_xlabel('Estado de Saúde',size=20)\n",
    "ax.text(-0.20,1.05, \n",
    "        \n",
    "         'Contagem por Sexo', \n",
    "         fontsize=30, \n",
    "         fontweight='bold', \n",
    "         fontfamily='serif',\n",
    "        )\n",
    "\n",
    "\n",
    "ax.text(-0.2,1.0, \n",
    "         'Estado de Saúde por sexo ', \n",
    "         fontsize=20, \n",
    "         fontweight='light', \n",
    "         fontfamily='serif',\n",
    "        )\n",
    "\n",
    "plt.savefig(\"cont_sex.png\", dpi=200,bbox_inches='tight', transparente = True)\n",
    "\n",
    "\n",
    "plt.show()"
   ]
  },
  {
   "cell_type": "code",
   "execution_count": 117,
   "id": "80465447",
   "metadata": {
    "execution": {
     "iopub.execute_input": "2021-09-05T21:00:56.871337Z",
     "iopub.status.busy": "2021-09-05T21:00:56.870363Z",
     "iopub.status.idle": "2021-09-05T21:00:58.924793Z",
     "shell.execute_reply": "2021-09-05T21:00:58.925242Z",
     "shell.execute_reply.started": "2021-09-02T19:48:01.66678Z"
    },
    "id": "RFIacTTZlVvf",
    "outputId": "9752b64d-59cc-4a67-edb0-f18b6e552dc2",
    "papermill": {
     "duration": 2.106949,
     "end_time": "2021-09-05T21:00:58.925411",
     "exception": false,
     "start_time": "2021-09-05T21:00:56.818462",
     "status": "completed"
    },
    "tags": []
   },
   "outputs": [
    {
     "data": {
      "text/plain": [
       "'\\n# Plot:\\n#fig = plt.figure(figsize=(15,20)) # create figure\\n#gs = fig.add_gridspec(7, 1)\\n#gs.update(wspace=0, hspace=0.5)\\n#plt.subplots_adjust(hspace=1)\\n\\ncolunas = ds.columns[4:]\\n\\n\\nfig, ax = plt.subplots(nrows=len(colunas), ncols=1, sharex=True,figsize = (10,30))\\nX = ds[\\'Age\\']\\n\\n\\nfor i in range(len(colunas)):\\n  y = ds[colunas[i]]\\n  scatter = ax[i].scatter(x = X, y = y, c = ds[\\'Category\\'], cmap=\\'winter\\')\\n  ax[i].tick_params(labelsize=12)\\n  ax[i].set(title=f\\'{colunas[i]} por idade\\', xlabel=\"Age\", ylabel=colunas[i])\\n  ax[i].legend(*scatter.legend_elements(), title = \\'Hepatite\\')\\nplt.subplots_adjust(hspace=1)\\n\\n\\n\\n\\n\\n\\nax.text(1990,3700000, \\n         \\'Novos infectados HIV\\', \\n         fontsize=30, \\n         fontweight=\\'bold\\', \\n         fontfamily=\\'serif\\',\\n        )\\n\\n\\nax.text(1990,3550000, \\n         \\'Número estimado de novos infectdos pelo vírus HIV por região\\', \\n         fontsize=20, \\n         fontweight=\\'light\\', \\n         fontfamily=\\'serif\\',\\n        )\\n\\n\\n# Format:\\n\\n#ax.set(title=f\\'{colunas[i]} por idade\\', xlabel=\"Age\", ylabel=colunas[i])\\n#ax.legend(*scatter.legend_elements(), title = \\'Hepatite\\')\\n\\n\\n#ax.tick_params(labelsize=20)\\n\\n\\n\\n\\n#fig.subtitle(\"Análise Hepatite C\", size= 20)\\n\\n'"
      ]
     },
     "execution_count": 117,
     "metadata": {},
     "output_type": "execute_result"
    }
   ],
   "source": [
    "'''\n",
    "# Plot:\n",
    "#fig = plt.figure(figsize=(15,20)) # create figure\n",
    "#gs = fig.add_gridspec(7, 1)\n",
    "#gs.update(wspace=0, hspace=0.5)\n",
    "#plt.subplots_adjust(hspace=1)\n",
    "\n",
    "colunas = ds.columns[4:]\n",
    "\n",
    "\n",
    "fig, ax = plt.subplots(nrows=len(colunas), ncols=1, sharex=True,figsize = (10,30))\n",
    "X = ds['Age']\n",
    "\n",
    "\n",
    "for i in range(len(colunas)):\n",
    "  y = ds[colunas[i]]\n",
    "  scatter = ax[i].scatter(x = X, y = y, c = ds['Category'], cmap='winter')\n",
    "  ax[i].tick_params(labelsize=12)\n",
    "  ax[i].set(title=f'{colunas[i]} por idade', xlabel=\"Age\", ylabel=colunas[i])\n",
    "  ax[i].legend(*scatter.legend_elements(), title = 'Hepatite')\n",
    "plt.subplots_adjust(hspace=1)\n",
    "\n",
    "\n",
    "\n",
    "\n",
    "\n",
    "\n",
    "ax.text(1990,3700000, \n",
    "         'Novos infectados HIV', \n",
    "         fontsize=30, \n",
    "         fontweight='bold', \n",
    "         fontfamily='serif',\n",
    "        )\n",
    "\n",
    "\n",
    "ax.text(1990,3550000, \n",
    "         'Número estimado de novos infectdos pelo vírus HIV por região', \n",
    "         fontsize=20, \n",
    "         fontweight='light', \n",
    "         fontfamily='serif',\n",
    "        )\n",
    "\n",
    "\n",
    "# Format:\n",
    "\n",
    "#ax.set(title=f'{colunas[i]} por idade', xlabel=\"Age\", ylabel=colunas[i])\n",
    "#ax.legend(*scatter.legend_elements(), title = 'Hepatite')\n",
    "\n",
    "\n",
    "#ax.tick_params(labelsize=20)\n",
    "\n",
    "\n",
    "\n",
    "\n",
    "#fig.subtitle(\"Análise Hepatite C\", size= 20)\n",
    "\n",
    "'''"
   ]
  },
  {
   "cell_type": "code",
   "execution_count": 58,
   "id": "b0743d19",
   "metadata": {},
   "outputs": [
    {
     "data": {
      "text/plain": [
       "Index(['Unnamed: 0', 'Category', 'Age', 'Sex', 'ALB', 'ALP', 'ALT', 'AST',\n",
       "       'BIL', 'CHE', 'CHOL', 'CREA', 'GGT', 'PROT'],\n",
       "      dtype='object')"
      ]
     },
     "execution_count": 58,
     "metadata": {},
     "output_type": "execute_result"
    }
   ],
   "source": [
    "ds.columns"
   ]
  },
  {
   "cell_type": "code",
   "execution_count": 583,
   "id": "8bc2f2e4",
   "metadata": {},
   "outputs": [
    {
     "name": "stderr",
     "output_type": "stream",
     "text": [
      "<ipython-input-583-413070e8594d>:132: MatplotlibDeprecationWarning: savefig() got unexpected keyword argument \"transparente\" which is no longer supported as of 3.3 and will become an error two minor releases later\n",
      "  plt.savefig(\"resul_exam.png\", dpi=200,bbox_inches='tight', transparente = True)\n"
     ]
    },
    {
     "data": {
      "image/png": "[encoded data removed]",
      "text/plain": [
       "<Figure size 1080x1440 with 10 Axes>"
      ]
     },
     "metadata": {},
     "output_type": "display_data"
    }
   ],
   "source": [
    "# Fig:\n",
    "\n",
    "fig = plt.figure(figsize=(15,20)) # create figure\n",
    "gs = fig.add_gridspec(10, 1)\n",
    "gs.update(wspace=0, hspace=0.5)\n",
    "ax0 = fig.add_subplot(gs[0, 0], ylim=(0, 95))\n",
    "ax1 = fig.add_subplot(gs[1, 0], ylim=(0,400)) # create axes\n",
    "ax2 = fig.add_subplot(gs[2, 0], ylim=(0, 300)) # create axes\n",
    "ax3 = fig.add_subplot(gs[3, 0], ylim=(0, 300)) # create axes\n",
    "ax4 = fig.add_subplot(gs[4, 0], ylim=(0, 300)) # create axes\n",
    "ax5 = fig.add_subplot(gs[5, 0], ylim=(0, 100)) # create axes\n",
    "ax6 = fig.add_subplot(gs[6, 0], ylim=(0, 20)) # create axes\n",
    "ax7 = fig.add_subplot(gs[7, 0], ylim=(0, 1200)) # create axes\n",
    "ax8 = fig.add_subplot(gs[8, 0], ylim=(0, 500)) # create axes\n",
    "ax9 = fig.add_subplot(gs[9, 0], ylim=(0, 90)) # create axes\n",
    "\n",
    "\n",
    "# Plot: \n",
    "\n",
    "ax0.scatter(x = ds[\"Age\"], y = ds[\"ALB\"], c = ds['Category'], cmap=\"crest\"   )\n",
    "ax0.grid(color='black', linestyle=':', axis='y', zorder=0,  dashes=(1,5))\n",
    "\n",
    "\n",
    "ax1.scatter(x = ds[\"Age\"], y = ds[\"ALP\"], c = ds['Category'], cmap=\"crest\")\n",
    "ax1.grid(color='black', linestyle=':', axis='y', zorder=0,  dashes=(1,5))\n",
    "\n",
    "\n",
    "ax2.scatter(x = ds[\"Age\"], y = ds[\"ALT\"], c = ds['Category'], cmap='crest')\n",
    "ax2.grid(color='black', linestyle=':', axis='y', zorder=0,  dashes=(1,5))\n",
    "\n",
    "\n",
    "ax3.scatter(x = ds[\"Age\"], y = ds[\"AST\"], c = ds['Category'], cmap='crest')\n",
    "ax3.grid(color='black', linestyle=':', axis='y', zorder=0,  dashes=(1,5))\n",
    "\n",
    "ax4.scatter(x = ds[\"Age\"], y = ds[\"BIL\"], c = ds['Category'], cmap='crest')\n",
    "ax4.grid(color='black', linestyle=':', axis='y', zorder=0,  dashes=(1,5))\n",
    "\n",
    "ax5.scatter(x = ds[\"Age\"], y = ds[\"CHE\"], c = ds['Category'], cmap='crest')\n",
    "ax5.grid(color='black', linestyle=':', axis='y', zorder=0,  dashes=(1,5))\n",
    "\n",
    "\n",
    "\n",
    "ax6.scatter(x = ds[\"Age\"], y = ds[\"CHOL\"], c = ds['Category'], cmap='crest')\n",
    "ax6.grid(color='black', linestyle=':', axis='y', zorder=0,  dashes=(1,5))\n",
    "\n",
    "\n",
    "ax7.scatter(x = ds[\"Age\"], y = ds[\"CREA\"], c = ds['Category'], cmap='crest')\n",
    "ax7.grid(color='black', linestyle=':', axis='y', zorder=0,  dashes=(1,5))\n",
    "\n",
    "\n",
    "ax8.scatter(x = ds[\"Age\"], y = ds[\"GGT\"], c = ds['Category'], cmap='crest')\n",
    "ax8.grid(color='black', linestyle=':', axis='y', zorder=0,  dashes=(1,5))\n",
    "\n",
    "ax9.scatter(x = ds[\"Age\"], y = ds[\"PROT\"], c = ds['Category'], cmap='crest')\n",
    "ax9.grid(color='black', linestyle=':', axis='y', zorder=0,  dashes=(1,5))\n",
    "\n",
    "# Label:\n",
    "\n",
    "# x Label \n",
    "ax0.set_xlabel(\"Idade\")\n",
    "ax1.set_xlabel(\"Idade\")\n",
    "ax2.set_xlabel(\"Idade\")\n",
    "ax3.set_xlabel(\"Idade\")\n",
    "ax4.set_xlabel(\"Idade\")\n",
    "ax5.set_xlabel(\"Idade\")\n",
    "ax6.set_xlabel(\"Idade\")\n",
    "ax7.set_xlabel(\"Idade\")\n",
    "ax8.set_xlabel(\"Idade\")\n",
    "ax9.set_xlabel(\"Idade\")\n",
    "#  y Label\n",
    "ax0.set_ylabel(\"ALB\")\n",
    "ax1.set_ylabel(\"ALP\")\n",
    "ax2.set_ylabel(\"ALT\")\n",
    "ax3.set_ylabel(\"AST\")\n",
    "ax4.set_ylabel(\"BIL\")\n",
    "ax5.set_ylabel(\"CHE\")\n",
    "ax6.set_ylabel(\"CHOL\")\n",
    "ax7.set_ylabel(\"CREA\")\n",
    "ax8.set_ylabel(\"GGT\")\n",
    "ax9.set_ylabel(\"PROT\")\n",
    "\n",
    "# Change background color\n",
    "background_color = \"#ffffff\"\n",
    "fig.patch.set_facecolor(background_color) # figure background color\n",
    "ax0.set_facecolor(background_color) # axes background color\n",
    "ax1.set_facecolor(background_color) # axes background color\n",
    "ax2.set_facecolor(background_color) # axes background color\n",
    "ax3.set_facecolor(background_color) # axes background color\n",
    "ax4.set_facecolor(background_color) # axes background color\n",
    "ax5.set_facecolor(background_color) # axes background color\n",
    "ax6.set_facecolor(background_color) # axes background color\n",
    "ax7.set_facecolor(background_color) # axes background color\n",
    "ax8.set_facecolor(background_color) # axes background color\n",
    "ax9.set_facecolor(background_color) # axes background color              \n",
    "#color_map = [\"#bdbdbd\" for _ in range(11)]\n",
    "#color_map[2] = \"#008294\"\n",
    "\n",
    "\n",
    "#plt.legend(fontsize=20, loc = 'right', shadow=True)\n",
    "#ax0.legend(loc='upper left')\n",
    "\n",
    "#plt.legend([ax1, ax2, ax3],[\"HHZ 1\", \"HHN\", \"HHE\"])\n",
    "\n",
    "#ax1.legend(loc=\"upper right\")\n",
    "#ax.legend(loc=\"upper right\")\n",
    "ax0.legend(*scatter.legend_elements(), title = 'Hepatite',bbox_to_anchor=(0.87,0.9) )\n",
    "\n",
    "ax0.text(20.5,130, \n",
    "         'Resultados Exames', \n",
    "         fontsize=20, \n",
    "         fontweight='bold', \n",
    "         fontfamily='serif',\n",
    "        )\n",
    "\n",
    "\n",
    "ax0.text(20.5,110, \n",
    "         'Valores dos resultados de exame de sangue para os nove parâmetros', \n",
    "         fontsize=15, \n",
    "         fontweight='light', \n",
    "         fontfamily='serif',\n",
    "        )\n",
    "\n",
    "\n",
    "\n",
    "\n",
    "\n",
    "#ax0.scatter(x = X, y = y, c = ds['Category'], cmap='winter')\n",
    "#ax0.grid(color='black', linestyle=':', axis='y', zorder=0,  dashes=(1,5))\n",
    "#ax0.bar(ds[\"Age\"], ds[\"ALB\"], \n",
    "      # color=cores[0]\n",
    "    \n",
    "plt.savefig(\"resul_exam.png\", dpi=200,bbox_inches='tight', transparente = True)\n",
    "\n",
    "plt.show()\n"
   ]
  },
  {
   "cell_type": "code",
   "execution_count": 101,
   "id": "eb05148d",
   "metadata": {},
   "outputs": [
    {
     "data": {
      "text/plain": [
       "['#011936', '#465362', '#82a3a1', '#9fc490', '#c0dfa1']"
      ]
     },
     "execution_count": 101,
     "metadata": {},
     "output_type": "execute_result"
    }
   ],
   "source": []
  },
  {
   "cell_type": "code",
   "execution_count": 113,
   "id": "78f0dba8",
   "metadata": {
    "execution": {
     "iopub.execute_input": "2021-09-05T21:00:59.039425Z",
     "iopub.status.busy": "2021-09-05T21:00:59.038804Z",
     "iopub.status.idle": "2021-09-05T21:00:59.050687Z",
     "shell.execute_reply": "2021-09-05T21:00:59.050184Z",
     "shell.execute_reply.started": "2021-09-02T19:48:04.313413Z"
    },
    "id": "JUJL8EXZlVyK",
    "outputId": "44af423c-d3de-4368-fee3-b8d948529947",
    "papermill": {
     "duration": 0.075398,
     "end_time": "2021-09-05T21:00:59.050818",
     "exception": false,
     "start_time": "2021-09-05T21:00:58.975420",
     "status": "completed"
    },
    "tags": []
   },
   "outputs": [
    {
     "data": {
      "text/html": [
       "<div>\n",
       "<style scoped>\n",
       "    .dataframe tbody tr th:only-of-type {\n",
       "        vertical-align: middle;\n",
       "    }\n",
       "\n",
       "    .dataframe tbody tr th {\n",
       "        vertical-align: top;\n",
       "    }\n",
       "\n",
       "    .dataframe thead th {\n",
       "        text-align: right;\n",
       "    }\n",
       "</style>\n",
       "<table border=\"1\" class=\"dataframe\">\n",
       "  <thead>\n",
       "    <tr style=\"text-align: right;\">\n",
       "      <th></th>\n",
       "      <th>Unnamed: 0</th>\n",
       "      <th>Category</th>\n",
       "      <th>Age</th>\n",
       "      <th>Sex</th>\n",
       "      <th>ALB</th>\n",
       "      <th>ALP</th>\n",
       "      <th>ALT</th>\n",
       "      <th>AST</th>\n",
       "      <th>BIL</th>\n",
       "      <th>CHE</th>\n",
       "      <th>CHOL</th>\n",
       "      <th>CREA</th>\n",
       "      <th>GGT</th>\n",
       "      <th>PROT</th>\n",
       "    </tr>\n",
       "  </thead>\n",
       "  <tbody>\n",
       "    <tr>\n",
       "      <th>0</th>\n",
       "      <td>1</td>\n",
       "      <td>0</td>\n",
       "      <td>32</td>\n",
       "      <td>1</td>\n",
       "      <td>38.5</td>\n",
       "      <td>52.5</td>\n",
       "      <td>7.7</td>\n",
       "      <td>22.1</td>\n",
       "      <td>7.5</td>\n",
       "      <td>6.93</td>\n",
       "      <td>3.23</td>\n",
       "      <td>106.0</td>\n",
       "      <td>12.1</td>\n",
       "      <td>69.0</td>\n",
       "    </tr>\n",
       "    <tr>\n",
       "      <th>1</th>\n",
       "      <td>2</td>\n",
       "      <td>0</td>\n",
       "      <td>32</td>\n",
       "      <td>1</td>\n",
       "      <td>38.5</td>\n",
       "      <td>70.3</td>\n",
       "      <td>18.0</td>\n",
       "      <td>24.7</td>\n",
       "      <td>3.9</td>\n",
       "      <td>11.17</td>\n",
       "      <td>4.80</td>\n",
       "      <td>74.0</td>\n",
       "      <td>15.6</td>\n",
       "      <td>76.5</td>\n",
       "    </tr>\n",
       "    <tr>\n",
       "      <th>2</th>\n",
       "      <td>3</td>\n",
       "      <td>0</td>\n",
       "      <td>32</td>\n",
       "      <td>1</td>\n",
       "      <td>46.9</td>\n",
       "      <td>74.7</td>\n",
       "      <td>36.2</td>\n",
       "      <td>52.6</td>\n",
       "      <td>6.1</td>\n",
       "      <td>8.84</td>\n",
       "      <td>5.20</td>\n",
       "      <td>86.0</td>\n",
       "      <td>33.2</td>\n",
       "      <td>79.3</td>\n",
       "    </tr>\n",
       "    <tr>\n",
       "      <th>3</th>\n",
       "      <td>4</td>\n",
       "      <td>0</td>\n",
       "      <td>32</td>\n",
       "      <td>1</td>\n",
       "      <td>43.2</td>\n",
       "      <td>52.0</td>\n",
       "      <td>30.6</td>\n",
       "      <td>22.6</td>\n",
       "      <td>18.9</td>\n",
       "      <td>7.33</td>\n",
       "      <td>4.74</td>\n",
       "      <td>80.0</td>\n",
       "      <td>33.8</td>\n",
       "      <td>75.7</td>\n",
       "    </tr>\n",
       "    <tr>\n",
       "      <th>4</th>\n",
       "      <td>5</td>\n",
       "      <td>0</td>\n",
       "      <td>32</td>\n",
       "      <td>1</td>\n",
       "      <td>39.2</td>\n",
       "      <td>74.1</td>\n",
       "      <td>32.6</td>\n",
       "      <td>24.8</td>\n",
       "      <td>9.6</td>\n",
       "      <td>9.15</td>\n",
       "      <td>4.32</td>\n",
       "      <td>76.0</td>\n",
       "      <td>29.9</td>\n",
       "      <td>68.7</td>\n",
       "    </tr>\n",
       "  </tbody>\n",
       "</table>\n",
       "</div>"
      ],
      "text/plain": [
       "   Unnamed: 0 Category  Age  Sex   ALB   ALP   ALT   AST   BIL    CHE  CHOL  \\\n",
       "0           1        0   32    1  38.5  52.5   7.7  22.1   7.5   6.93  3.23   \n",
       "1           2        0   32    1  38.5  70.3  18.0  24.7   3.9  11.17  4.80   \n",
       "2           3        0   32    1  46.9  74.7  36.2  52.6   6.1   8.84  5.20   \n",
       "3           4        0   32    1  43.2  52.0  30.6  22.6  18.9   7.33  4.74   \n",
       "4           5        0   32    1  39.2  74.1  32.6  24.8   9.6   9.15  4.32   \n",
       "\n",
       "    CREA   GGT  PROT  \n",
       "0  106.0  12.1  69.0  \n",
       "1   74.0  15.6  76.5  \n",
       "2   86.0  33.2  79.3  \n",
       "3   80.0  33.8  75.7  \n",
       "4   76.0  29.9  68.7  "
      ]
     },
     "execution_count": 113,
     "metadata": {},
     "output_type": "execute_result"
    }
   ],
   "source": [
    "ds[\"Sex\"] = ds['Sex'].map({'m':1,'f':2})\n",
    "ds.head()"
   ]
  },
  {
   "cell_type": "code",
   "execution_count": 114,
   "id": "616c7b00",
   "metadata": {
    "execution": {
     "iopub.execute_input": "2021-09-05T21:00:59.160859Z",
     "iopub.status.busy": "2021-09-05T21:00:59.159966Z",
     "iopub.status.idle": "2021-09-05T21:00:59.163062Z",
     "shell.execute_reply": "2021-09-05T21:00:59.162526Z",
     "shell.execute_reply.started": "2021-09-02T19:48:04.340389Z"
    },
    "id": "2DA4P0h8lV1E",
    "papermill": {
     "duration": 0.05845,
     "end_time": "2021-09-05T21:00:59.163212",
     "exception": false,
     "start_time": "2021-09-05T21:00:59.104762",
     "status": "completed"
    },
    "tags": []
   },
   "outputs": [],
   "source": [
    "ds['Category']=ds['Category'].astype(float)"
   ]
  },
  {
   "cell_type": "code",
   "execution_count": 115,
   "id": "c1cd4fc8",
   "metadata": {
    "execution": {
     "iopub.execute_input": "2021-09-05T21:00:59.270342Z",
     "iopub.status.busy": "2021-09-05T21:00:59.269741Z",
     "iopub.status.idle": "2021-09-05T21:00:59.272652Z",
     "shell.execute_reply": "2021-09-05T21:00:59.272107Z",
     "shell.execute_reply.started": "2021-09-02T19:48:04.35437Z"
    },
    "id": "FQKU3T44llst",
    "papermill": {
     "duration": 0.058928,
     "end_time": "2021-09-05T21:00:59.272781",
     "exception": false,
     "start_time": "2021-09-05T21:00:59.213853",
     "status": "completed"
    },
    "tags": []
   },
   "outputs": [],
   "source": [
    "ds=ds.drop('Unnamed: 0', axis=1)"
   ]
  },
  {
   "cell_type": "code",
   "execution_count": 419,
   "id": "e6f8f775",
   "metadata": {},
   "outputs": [
    {
     "data": {
      "text/plain": [
       "['#011936', '#465362', '#82a3a1', '#9fc490', '#c0dfa1']"
      ]
     },
     "execution_count": 419,
     "metadata": {},
     "output_type": "execute_result"
    }
   ],
   "source": [
    "cores"
   ]
  },
  {
   "cell_type": "code",
   "execution_count": 420,
   "id": "88e70e10",
   "metadata": {},
   "outputs": [],
   "source": [
    "#customPalette = sns.set_palette(sns.color_palette(cores))"
   ]
  },
  {
   "cell_type": "code",
   "execution_count": 421,
   "id": "37ccb57e",
   "metadata": {},
   "outputs": [],
   "source": [
    "custom_cores = list(cores)\n",
    "#custom_cores = custom_cores.reverse()\n"
   ]
  },
  {
   "cell_type": "code",
   "execution_count": 422,
   "id": "915bf1b2",
   "metadata": {},
   "outputs": [],
   "source": [
    "#custom_cores.reverse()"
   ]
  },
  {
   "cell_type": "code",
   "execution_count": 423,
   "id": "dcd2100d",
   "metadata": {},
   "outputs": [
    {
     "data": {
      "text/plain": [
       "['#011936', '#465362', '#82a3a1', '#9fc490', '#c0dfa1']"
      ]
     },
     "execution_count": 423,
     "metadata": {},
     "output_type": "execute_result"
    }
   ],
   "source": [
    "custom_cores"
   ]
  },
  {
   "cell_type": "code",
   "execution_count": null,
   "id": "b56a743d",
   "metadata": {},
   "outputs": [],
   "source": []
  },
  {
   "cell_type": "code",
   "execution_count": 598,
   "id": "18b4346c",
   "metadata": {},
   "outputs": [
    {
     "data": {
      "text/plain": [
       "<matplotlib.collections.PathCollection at 0x7f1b9497d1c0>"
      ]
     },
     "execution_count": 598,
     "metadata": {},
     "output_type": "execute_result"
    },
    {
     "data": {
      "image/png": "[encoded data removed]",
      "text/plain": [
       "<Figure size 576x396 with 1 Axes>"
      ]
     },
     "metadata": {},
     "output_type": "display_data"
    }
   ],
   "source": []
  },
  {
   "cell_type": "code",
   "execution_count": null,
   "id": "1a6f44c9",
   "metadata": {},
   "outputs": [],
   "source": []
  },
  {
   "cell_type": "code",
   "execution_count": null,
   "id": "66bf796c",
   "metadata": {},
   "outputs": [],
   "source": []
  },
  {
   "cell_type": "code",
   "execution_count": 597,
   "id": "af457edb",
   "metadata": {
    "execution": {
     "iopub.execute_input": "2021-09-05T21:00:59.392792Z",
     "iopub.status.busy": "2021-09-05T21:00:59.383334Z",
     "iopub.status.idle": "2021-09-05T21:01:00.431605Z",
     "shell.execute_reply": "2021-09-05T21:01:00.432180Z",
     "shell.execute_reply.started": "2021-09-02T19:48:04.370504Z"
    },
    "id": "DRx8oA7SllwC",
    "outputId": "91fc89c0-44b2-49a2-b487-b69d5e3dad76",
    "papermill": {
     "duration": 1.109132,
     "end_time": "2021-09-05T21:01:00.432349",
     "exception": false,
     "start_time": "2021-09-05T21:00:59.323217",
     "status": "completed"
    },
    "tags": []
   },
   "outputs": [
    {
     "data": {
      "image/png": "[encoded data removed]",
      "text/plain": [
       "<Figure size 720x576 with 2 Axes>"
      ]
     },
     "metadata": {},
     "output_type": "display_data"
    }
   ],
   "source": [
    "# Correlação entre os Dados:\n",
    "\n",
    "# Fig:\n",
    " \n",
    "fig, ax = plt.subplots(figsize=(10,8))\n",
    "\n",
    "# Plot: \n",
    "matrix = np.triu(ds.corr())\n",
    "\n",
    "sns.heatmap(ds.corr(), annot=True, fmt='.2f', cmap=custom_cores,vmin=-1,center=0, mask=matrix,vmax=1,ax=ax)\n",
    "\n",
    "\n",
    "\n",
    "ax.text(0,-0.65, \n",
    "         'Correlação', \n",
    "         fontsize=20, \n",
    "         fontweight='bold', \n",
    "         fontfamily='serif',\n",
    "        )\n",
    "\n",
    "\n",
    "ax.text(0,-0.2, \n",
    "         'Matriz com a correlação de Pearson entre os parâmetros', \n",
    "         fontsize=15, \n",
    "         fontweight='light', \n",
    "         fontfamily='serif',\n",
    "        )\n",
    "#plt.savefig(\"corre.png\", dpi=200,bbox_inches='tight', transparente = True)\n",
    "\n",
    "\n",
    "plt.show()\n"
   ]
  },
  {
   "cell_type": "code",
   "execution_count": 19,
   "id": "64bde682",
   "metadata": {
    "execution": {
     "iopub.execute_input": "2021-09-05T21:01:00.541784Z",
     "iopub.status.busy": "2021-09-05T21:01:00.540884Z",
     "iopub.status.idle": "2021-09-05T21:01:00.548676Z",
     "shell.execute_reply": "2021-09-05T21:01:00.549347Z",
     "shell.execute_reply.started": "2021-09-02T19:48:05.499553Z"
    },
    "id": "sLGMOPzIlx0i",
    "outputId": "233171ca-a43b-472b-f372-c3647d9ffff8",
    "papermill": {
     "duration": 0.063948,
     "end_time": "2021-09-05T21:01:00.549582",
     "exception": false,
     "start_time": "2021-09-05T21:01:00.485634",
     "status": "completed"
    },
    "tags": []
   },
   "outputs": [
    {
     "name": "stdout",
     "output_type": "stream",
     "text": [
      "Total de Pacientes Suspeitos: 56\n",
      "Total de Pacientes Saudáveis: 533\n"
     ]
    }
   ],
   "source": [
    "print ( f'Total de Pacientes Suspeitos: {ds.Category.value_counts()[1]}')\n",
    "print(f'Total de Pacientes Saudáveis: {ds.Category.value_counts()[0]}')"
   ]
  },
  {
   "cell_type": "code",
   "execution_count": 20,
   "id": "51b73aab",
   "metadata": {
    "execution": {
     "iopub.execute_input": "2021-09-05T21:01:00.672166Z",
     "iopub.status.busy": "2021-09-05T21:01:00.671225Z",
     "iopub.status.idle": "2021-09-05T21:01:00.787523Z",
     "shell.execute_reply": "2021-09-05T21:01:00.788159Z",
     "shell.execute_reply.started": "2021-09-02T19:48:05.512123Z"
    },
    "id": "txnO6bIclx3h",
    "outputId": "89e35b51-ff59-4c90-91c6-bb76fbfe4009",
    "papermill": {
     "duration": 0.183622,
     "end_time": "2021-09-05T21:01:00.788328",
     "exception": false,
     "start_time": "2021-09-05T21:01:00.604706",
     "status": "completed"
    },
    "tags": []
   },
   "outputs": [
    {
     "data": {
      "image/png": "[encoded data removed]",
      "text/plain": [
       "<Figure size 576x576 with 1 Axes>"
      ]
     },
     "metadata": {},
     "output_type": "display_data"
    }
   ],
   "source": [
    "# Comparação entre pacientes Saudáveis e suspeitos:\n",
    "\n",
    "plt.style.use('seaborn')\n",
    "fig,ax = plt.subplots(figsize=(8,8))\n",
    "plt.pie(x= ds['Category'].value_counts(),\n",
    "        colors=['turquoise','salmon'],\n",
    "        labels=['Pacientes Saudáveis',\"Pacientes Suspeitos\"],\n",
    "        shadow= True,\n",
    "        explode = (0,0.1)\n",
    "        \n",
    "        )\n",
    "plt.show()"
   ]
  },
  {
   "cell_type": "code",
   "execution_count": 21,
   "id": "568c37b7",
   "metadata": {
    "execution": {
     "iopub.execute_input": "2021-09-05T21:01:00.900887Z",
     "iopub.status.busy": "2021-09-05T21:01:00.899962Z",
     "iopub.status.idle": "2021-09-05T21:01:00.906857Z",
     "shell.execute_reply": "2021-09-05T21:01:00.907352Z",
     "shell.execute_reply.started": "2021-09-02T19:48:05.667079Z"
    },
    "id": "tLWkb_-VmAVG",
    "outputId": "cc976df6-342a-41cc-80ca-0e29d0f6dd9f",
    "papermill": {
     "duration": 0.063997,
     "end_time": "2021-09-05T21:01:00.907521",
     "exception": false,
     "start_time": "2021-09-05T21:01:00.843524",
     "status": "completed"
    },
    "tags": []
   },
   "outputs": [
    {
     "data": {
      "text/plain": [
       "1    363\n",
       "2    226\n",
       "Name: Sex, dtype: int64"
      ]
     },
     "execution_count": 21,
     "metadata": {},
     "output_type": "execute_result"
    }
   ],
   "source": [
    "ds.Sex.value_counts()"
   ]
  },
  {
   "cell_type": "code",
   "execution_count": 22,
   "id": "226dd6ed",
   "metadata": {
    "execution": {
     "iopub.execute_input": "2021-09-05T21:01:01.019293Z",
     "iopub.status.busy": "2021-09-05T21:01:01.018381Z",
     "iopub.status.idle": "2021-09-05T21:01:01.240292Z",
     "shell.execute_reply": "2021-09-05T21:01:01.240785Z",
     "shell.execute_reply.started": "2021-09-02T19:48:05.679271Z"
    },
    "id": "32B-k7p0mAYb",
    "outputId": "d34e1d8f-07e5-4a0a-dad6-5f9cfaee503a",
    "papermill": {
     "duration": 0.279373,
     "end_time": "2021-09-05T21:01:01.240943",
     "exception": false,
     "start_time": "2021-09-05T21:01:00.961570",
     "status": "completed"
    },
    "tags": []
   },
   "outputs": [
    {
     "data": {
      "image/png": "[encoded data removed]",
      "text/plain": [
       "<Figure size 576x576 with 1 Axes>"
      ]
     },
     "metadata": {},
     "output_type": "display_data"
    }
   ],
   "source": [
    "plt.style.use('seaborn')\n",
    "fig,ax = plt.subplots(figsize=(8,8))\n",
    "plt.pie(x=ds['Sex'].value_counts(),\n",
    "        colors=[\"forestgreen\",'tomato'],\n",
    "        labels=[\"Homens\", \"Mulheres\"],\n",
    "        shadow = True,\n",
    "        autopct =\"%1.2f%%\",\n",
    "        explode=(0,0.1)\n",
    ")\n",
    "plt.show()"
   ]
  },
  {
   "cell_type": "markdown",
   "id": "64454477",
   "metadata": {
    "id": "MQzYqOTChxCi",
    "papermill": {
     "duration": 0.055162,
     "end_time": "2021-09-05T21:01:01.351588",
     "exception": false,
     "start_time": "2021-09-05T21:01:01.296426",
     "status": "completed"
    },
    "tags": []
   },
   "source": [
    "<div style=\"background-color:#99EEAA; color:#000066;\">\n",
    "    <h2><center>Modelagem:</center></h2>\n",
    "</div>"
   ]
  },
  {
   "cell_type": "code",
   "execution_count": null,
   "id": "5306d947",
   "metadata": {
    "id": "nlz24QkjmK40",
    "papermill": {
     "duration": 0.055111,
     "end_time": "2021-09-05T21:01:01.462089",
     "exception": false,
     "start_time": "2021-09-05T21:01:01.406978",
     "status": "completed"
    },
    "tags": []
   },
   "outputs": [],
   "source": []
  },
  {
   "cell_type": "markdown",
   "id": "f9809564",
   "metadata": {
    "id": "jIX-zWlzmLIh",
    "papermill": {
     "duration": 0.055899,
     "end_time": "2021-09-05T21:01:01.574285",
     "exception": false,
     "start_time": "2021-09-05T21:01:01.518386",
     "status": "completed"
    },
    "tags": []
   },
   "source": [
    "Dividindo os Dados de Treino e Teste:"
   ]
  },
  {
   "cell_type": "code",
   "execution_count": 184,
   "id": "4b9d8271",
   "metadata": {
    "execution": {
     "iopub.execute_input": "2021-09-05T21:01:01.689616Z",
     "iopub.status.busy": "2021-09-05T21:01:01.688698Z",
     "iopub.status.idle": "2021-09-05T21:01:01.708604Z",
     "shell.execute_reply": "2021-09-05T21:01:01.708097Z",
     "shell.execute_reply.started": "2021-09-02T19:48:06.022357Z"
    },
    "id": "X6sYUTZTmLL6",
    "outputId": "2e66ddd1-9bef-44fe-a455-e6bd250698b5",
    "papermill": {
     "duration": 0.078495,
     "end_time": "2021-09-05T21:01:01.708743",
     "exception": false,
     "start_time": "2021-09-05T21:01:01.630248",
     "status": "completed"
    },
    "tags": []
   },
   "outputs": [
    {
     "data": {
      "text/html": [
       "<div>\n",
       "<style scoped>\n",
       "    .dataframe tbody tr th:only-of-type {\n",
       "        vertical-align: middle;\n",
       "    }\n",
       "\n",
       "    .dataframe tbody tr th {\n",
       "        vertical-align: top;\n",
       "    }\n",
       "\n",
       "    .dataframe thead th {\n",
       "        text-align: right;\n",
       "    }\n",
       "</style>\n",
       "<table border=\"1\" class=\"dataframe\">\n",
       "  <thead>\n",
       "    <tr style=\"text-align: right;\">\n",
       "      <th></th>\n",
       "      <th>Age</th>\n",
       "      <th>Sex</th>\n",
       "      <th>ALB</th>\n",
       "      <th>ALP</th>\n",
       "      <th>ALT</th>\n",
       "      <th>AST</th>\n",
       "      <th>BIL</th>\n",
       "      <th>CHE</th>\n",
       "      <th>CHOL</th>\n",
       "      <th>CREA</th>\n",
       "      <th>GGT</th>\n",
       "      <th>PROT</th>\n",
       "    </tr>\n",
       "  </thead>\n",
       "  <tbody>\n",
       "    <tr>\n",
       "      <th>0</th>\n",
       "      <td>32</td>\n",
       "      <td>1</td>\n",
       "      <td>38.5</td>\n",
       "      <td>52.5</td>\n",
       "      <td>7.7</td>\n",
       "      <td>22.1</td>\n",
       "      <td>7.5</td>\n",
       "      <td>6.93</td>\n",
       "      <td>3.23</td>\n",
       "      <td>106.0</td>\n",
       "      <td>12.1</td>\n",
       "      <td>69.0</td>\n",
       "    </tr>\n",
       "    <tr>\n",
       "      <th>1</th>\n",
       "      <td>32</td>\n",
       "      <td>1</td>\n",
       "      <td>38.5</td>\n",
       "      <td>70.3</td>\n",
       "      <td>18.0</td>\n",
       "      <td>24.7</td>\n",
       "      <td>3.9</td>\n",
       "      <td>11.17</td>\n",
       "      <td>4.80</td>\n",
       "      <td>74.0</td>\n",
       "      <td>15.6</td>\n",
       "      <td>76.5</td>\n",
       "    </tr>\n",
       "    <tr>\n",
       "      <th>2</th>\n",
       "      <td>32</td>\n",
       "      <td>1</td>\n",
       "      <td>46.9</td>\n",
       "      <td>74.7</td>\n",
       "      <td>36.2</td>\n",
       "      <td>52.6</td>\n",
       "      <td>6.1</td>\n",
       "      <td>8.84</td>\n",
       "      <td>5.20</td>\n",
       "      <td>86.0</td>\n",
       "      <td>33.2</td>\n",
       "      <td>79.3</td>\n",
       "    </tr>\n",
       "    <tr>\n",
       "      <th>3</th>\n",
       "      <td>32</td>\n",
       "      <td>1</td>\n",
       "      <td>43.2</td>\n",
       "      <td>52.0</td>\n",
       "      <td>30.6</td>\n",
       "      <td>22.6</td>\n",
       "      <td>18.9</td>\n",
       "      <td>7.33</td>\n",
       "      <td>4.74</td>\n",
       "      <td>80.0</td>\n",
       "      <td>33.8</td>\n",
       "      <td>75.7</td>\n",
       "    </tr>\n",
       "    <tr>\n",
       "      <th>4</th>\n",
       "      <td>32</td>\n",
       "      <td>1</td>\n",
       "      <td>39.2</td>\n",
       "      <td>74.1</td>\n",
       "      <td>32.6</td>\n",
       "      <td>24.8</td>\n",
       "      <td>9.6</td>\n",
       "      <td>9.15</td>\n",
       "      <td>4.32</td>\n",
       "      <td>76.0</td>\n",
       "      <td>29.9</td>\n",
       "      <td>68.7</td>\n",
       "    </tr>\n",
       "  </tbody>\n",
       "</table>\n",
       "</div>"
      ],
      "text/plain": [
       "   Age  Sex   ALB   ALP   ALT   AST   BIL    CHE  CHOL   CREA   GGT  PROT\n",
       "0   32    1  38.5  52.5   7.7  22.1   7.5   6.93  3.23  106.0  12.1  69.0\n",
       "1   32    1  38.5  70.3  18.0  24.7   3.9  11.17  4.80   74.0  15.6  76.5\n",
       "2   32    1  46.9  74.7  36.2  52.6   6.1   8.84  5.20   86.0  33.2  79.3\n",
       "3   32    1  43.2  52.0  30.6  22.6  18.9   7.33  4.74   80.0  33.8  75.7\n",
       "4   32    1  39.2  74.1  32.6  24.8   9.6   9.15  4.32   76.0  29.9  68.7"
      ]
     },
     "execution_count": 184,
     "metadata": {},
     "output_type": "execute_result"
    }
   ],
   "source": [
    " # X\n",
    "X = ds.drop(\"Category\",axis=1)\n",
    "X.head()"
   ]
  },
  {
   "cell_type": "code",
   "execution_count": 185,
   "id": "d6f67ea0",
   "metadata": {
    "execution": {
     "iopub.execute_input": "2021-09-05T21:01:01.828419Z",
     "iopub.status.busy": "2021-09-05T21:01:01.827812Z",
     "iopub.status.idle": "2021-09-05T21:01:01.830499Z",
     "shell.execute_reply": "2021-09-05T21:01:01.830898Z",
     "shell.execute_reply.started": "2021-09-02T19:48:06.052727Z"
    },
    "id": "gkWASJwhmfGY",
    "outputId": "7dc451d3-d3bf-4f67-aa8c-43b402368308",
    "papermill": {
     "duration": 0.06466,
     "end_time": "2021-09-05T21:01:01.831060",
     "exception": false,
     "start_time": "2021-09-05T21:01:01.766400",
     "status": "completed"
    },
    "tags": []
   },
   "outputs": [
    {
     "data": {
      "text/plain": [
       "0    0.0\n",
       "1    0.0\n",
       "2    0.0\n",
       "3    0.0\n",
       "4    0.0\n",
       "Name: Category, dtype: float64"
      ]
     },
     "execution_count": 185,
     "metadata": {},
     "output_type": "execute_result"
    }
   ],
   "source": [
    "# Y \n",
    "y = ds['Category']\n",
    "y.head()"
   ]
  },
  {
   "cell_type": "code",
   "execution_count": 186,
   "id": "027ff702",
   "metadata": {
    "execution": {
     "iopub.execute_input": "2021-09-05T21:01:01.950358Z",
     "iopub.status.busy": "2021-09-05T21:01:01.949701Z",
     "iopub.status.idle": "2021-09-05T21:01:01.952814Z",
     "shell.execute_reply": "2021-09-05T21:01:01.953268Z",
     "shell.execute_reply.started": "2021-09-02T19:48:06.063583Z"
    },
    "id": "FEGrafHjmfIk",
    "papermill": {
     "duration": 0.065664,
     "end_time": "2021-09-05T21:01:01.953453",
     "exception": false,
     "start_time": "2021-09-05T21:01:01.887789",
     "status": "completed"
    },
    "tags": []
   },
   "outputs": [],
   "source": [
    "x_train, x_test, y_train, y_test = train_test_split(X,y, test_size = 0.2, random_state=42)\n"
   ]
  },
  {
   "cell_type": "code",
   "execution_count": 187,
   "id": "caf2f014",
   "metadata": {
    "execution": {
     "iopub.execute_input": "2021-09-05T21:01:02.072701Z",
     "iopub.status.busy": "2021-09-05T21:01:02.071757Z",
     "iopub.status.idle": "2021-09-05T21:01:02.075348Z",
     "shell.execute_reply": "2021-09-05T21:01:02.075748Z",
     "shell.execute_reply.started": "2021-09-02T19:48:06.07857Z"
    },
    "id": "7LV12LvHmfK3",
    "outputId": "f37ceaac-cc8a-453f-ff39-8964e0e3d25e",
    "papermill": {
     "duration": 0.065659,
     "end_time": "2021-09-05T21:01:02.075913",
     "exception": false,
     "start_time": "2021-09-05T21:01:02.010254",
     "status": "completed"
    },
    "tags": []
   },
   "outputs": [
    {
     "data": {
      "text/plain": [
       "(118, 471)"
      ]
     },
     "execution_count": 187,
     "metadata": {},
     "output_type": "execute_result"
    }
   ],
   "source": [
    "len(x_test), len(x_train)"
   ]
  },
  {
   "cell_type": "code",
   "execution_count": 692,
   "id": "a5e510f4",
   "metadata": {},
   "outputs": [
    {
     "data": {
      "text/plain": [
       "118"
      ]
     },
     "execution_count": 692,
     "metadata": {},
     "output_type": "execute_result"
    }
   ],
   "source": [
    "len(x_test)"
   ]
  },
  {
   "cell_type": "code",
   "execution_count": 693,
   "id": "a7cd88c8",
   "metadata": {},
   "outputs": [
    {
     "data": {
      "text/plain": [
       "471"
      ]
     },
     "execution_count": 693,
     "metadata": {},
     "output_type": "execute_result"
    }
   ],
   "source": [
    "len(x_train)"
   ]
  },
  {
   "cell_type": "code",
   "execution_count": 188,
   "id": "30b18a70",
   "metadata": {
    "execution": {
     "iopub.execute_input": "2021-09-05T21:01:02.196063Z",
     "iopub.status.busy": "2021-09-05T21:01:02.195486Z",
     "iopub.status.idle": "2021-09-05T21:01:02.204735Z",
     "shell.execute_reply": "2021-09-05T21:01:02.204072Z",
     "shell.execute_reply.started": "2021-09-02T19:48:06.092421Z"
    },
    "id": "rzxikTlFmLTo",
    "papermill": {
     "duration": 0.072607,
     "end_time": "2021-09-05T21:01:02.204877",
     "exception": false,
     "start_time": "2021-09-05T21:01:02.132270",
     "status": "completed"
    },
    "tags": []
   },
   "outputs": [],
   "source": [
    "# Scalando os dados:\n",
    "\n",
    "scaler = StandardScaler()\n",
    "x_train = scaler.fit_transform(x_train)\n",
    "x_test= scaler.transform(x_test)"
   ]
  },
  {
   "cell_type": "markdown",
   "id": "59838195",
   "metadata": {
    "id": "SOat5f1UmzFB",
    "papermill": {
     "duration": 0.056142,
     "end_time": "2021-09-05T21:01:02.317959",
     "exception": false,
     "start_time": "2021-09-05T21:01:02.261817",
     "status": "completed"
    },
    "tags": []
   },
   "source": [
    "<div style=\"background-color:#99EEAA; color:#000066;\">\n",
    "    <h3><center>Regressão Logística</center></h3>\n",
    "</div>\n",
    " "
   ]
  },
  {
   "cell_type": "code",
   "execution_count": 189,
   "id": "84726d95",
   "metadata": {
    "execution": {
     "iopub.execute_input": "2021-09-05T21:01:02.436104Z",
     "iopub.status.busy": "2021-09-05T21:01:02.435250Z",
     "iopub.status.idle": "2021-09-05T21:01:02.613717Z",
     "shell.execute_reply": "2021-09-05T21:01:02.613228Z",
     "shell.execute_reply.started": "2021-09-02T19:48:06.116955Z"
    },
    "id": "_L3TQzWdmzHZ",
    "outputId": "bcb0a361-b129-4385-984e-194fa99bb85f",
    "papermill": {
     "duration": 0.239413,
     "end_time": "2021-09-05T21:01:02.613870",
     "exception": false,
     "start_time": "2021-09-05T21:01:02.374457",
     "status": "completed"
    },
    "tags": []
   },
   "outputs": [
    {
     "data": {
      "text/plain": [
       "LogisticRegression()"
      ]
     },
     "execution_count": 189,
     "metadata": {},
     "output_type": "execute_result"
    }
   ],
   "source": [
    "lr = LogisticRegression()\n",
    "lr.fit(x_train,y_train)"
   ]
  },
  {
   "cell_type": "code",
   "execution_count": 190,
   "id": "b59a843c",
   "metadata": {
    "execution": {
     "iopub.execute_input": "2021-09-05T21:01:02.736836Z",
     "iopub.status.busy": "2021-09-05T21:01:02.736179Z",
     "iopub.status.idle": "2021-09-05T21:01:02.740002Z",
     "shell.execute_reply": "2021-09-05T21:01:02.740618Z",
     "shell.execute_reply.started": "2021-09-02T19:48:06.292392Z"
    },
    "id": "xSt5rH1dnCfU",
    "outputId": "2c1aa885-b8dd-4539-fc57-cb1b4a2744ae",
    "papermill": {
     "duration": 0.069275,
     "end_time": "2021-09-05T21:01:02.740812",
     "exception": false,
     "start_time": "2021-09-05T21:01:02.671537",
     "status": "completed"
    },
    "tags": []
   },
   "outputs": [
    {
     "name": "stdout",
     "output_type": "stream",
     "text": [
      "Precisão do modelo LogisticRegression: 0.9576271186440678\n"
     ]
    }
   ],
   "source": [
    "LogisticRegressionScore = lr.score(x_test, y_test)\n",
    "print(f'Precisão do modelo LogisticRegression: {LogisticRegressionScore}')"
   ]
  },
  {
   "cell_type": "markdown",
   "id": "25b623a9",
   "metadata": {
    "id": "NtAnpwqtnChk",
    "papermill": {
     "duration": 0.05808,
     "end_time": "2021-09-05T21:01:02.857648",
     "exception": false,
     "start_time": "2021-09-05T21:01:02.799568",
     "status": "completed"
    },
    "tags": []
   },
   "source": [
    "<div style=\"background-color:#99EEAA; color:#000066;\">\n",
    "    <h4><center>Confussion Matrix para RL</center></h4>\n",
    "</div>\n"
   ]
  },
  {
   "cell_type": "code",
   "execution_count": 716,
   "id": "8116dbd2",
   "metadata": {
    "execution": {
     "iopub.execute_input": "2021-09-05T21:01:02.978378Z",
     "iopub.status.busy": "2021-09-05T21:01:02.977754Z",
     "iopub.status.idle": "2021-09-05T21:01:03.212639Z",
     "shell.execute_reply": "2021-09-05T21:01:03.211586Z",
     "shell.execute_reply.started": "2021-09-02T19:48:06.300682Z"
    },
    "id": "nKbM6tr8nCkS",
    "outputId": "27186a31-d31c-477f-d899-e1191dcb5d75",
    "papermill": {
     "duration": 0.296204,
     "end_time": "2021-09-05T21:01:03.212877",
     "exception": false,
     "start_time": "2021-09-05T21:01:02.916673",
     "status": "completed"
    },
    "tags": []
   },
   "outputs": [
    {
     "data": {
      "text/plain": [
       "<AxesSubplot:>"
      ]
     },
     "execution_count": 716,
     "metadata": {},
     "output_type": "execute_result"
    },
    {
     "data": {
      "image/png": "[encoded data removed]",
      "text/plain": [
       "<Figure size 576x396 with 2 Axes>"
      ]
     },
     "metadata": {},
     "output_type": "display_data"
    }
   ],
   "source": [
    "y_pred_lr = lr.predict(x_test)\n",
    "matrix_lr = confusion_matrix(y_test, y_pred_lr)\n",
    "sns.heatmap(matrix_lr, annot=True, cmap='flare',fmt='g')"
   ]
  },
  {
   "cell_type": "code",
   "execution_count": 192,
   "id": "806767c0",
   "metadata": {
    "execution": {
     "iopub.execute_input": "2021-09-05T21:01:03.338830Z",
     "iopub.status.busy": "2021-09-05T21:01:03.338240Z",
     "iopub.status.idle": "2021-09-05T21:01:03.345566Z",
     "shell.execute_reply": "2021-09-05T21:01:03.345973Z",
     "shell.execute_reply.started": "2021-09-02T19:48:06.53845Z"
    },
    "id": "r6MdSFJzmzJ2",
    "outputId": "1325e2eb-8643-4f99-fb1f-023c3ca7c348",
    "papermill": {
     "duration": 0.070089,
     "end_time": "2021-09-05T21:01:03.346164",
     "exception": false,
     "start_time": "2021-09-05T21:01:03.276075",
     "status": "completed"
    },
    "tags": []
   },
   "outputs": [
    {
     "name": "stdout",
     "output_type": "stream",
     "text": [
      "              precision    recall  f1-score   support\n",
      "\n",
      "         0.0       0.95      1.00      0.98       101\n",
      "         1.0       1.00      0.71      0.83        17\n",
      "\n",
      "    accuracy                           0.96       118\n",
      "   macro avg       0.98      0.85      0.90       118\n",
      "weighted avg       0.96      0.96      0.95       118\n",
      "\n"
     ]
    }
   ],
   "source": [
    "# Dados precisão do modelo:\n",
    "\n",
    "print(metrics.classification_report(y_test, y_pred_lr))"
   ]
  },
  {
   "cell_type": "markdown",
   "id": "988ef2bc",
   "metadata": {
    "id": "QsQcvZNRnTmC",
    "papermill": {
     "duration": 0.057613,
     "end_time": "2021-09-05T21:01:03.461851",
     "exception": false,
     "start_time": "2021-09-05T21:01:03.404238",
     "status": "completed"
    },
    "tags": []
   },
   "source": [
    "<div style=\"background-color:#99EEAA; color:#000066;\">\n",
    "    <h3><center> Random Forest Classifier  </center></h3>\n",
    "</div>\n",
    "\n"
   ]
  },
  {
   "cell_type": "code",
   "execution_count": 193,
   "id": "9d7b838e",
   "metadata": {
    "execution": {
     "iopub.execute_input": "2021-09-05T21:01:03.609707Z",
     "iopub.status.busy": "2021-09-05T21:01:03.608748Z",
     "iopub.status.idle": "2021-09-05T21:01:03.758569Z",
     "shell.execute_reply": "2021-09-05T21:01:03.758040Z",
     "shell.execute_reply.started": "2021-09-02T19:48:06.552437Z"
    },
    "id": "yj3KLYkunTom",
    "outputId": "cb0e0fd7-bfcc-4434-aa8e-794ac2950a8f",
    "papermill": {
     "duration": 0.239124,
     "end_time": "2021-09-05T21:01:03.758707",
     "exception": false,
     "start_time": "2021-09-05T21:01:03.519583",
     "status": "completed"
    },
    "tags": []
   },
   "outputs": [
    {
     "data": {
      "text/plain": [
       "RandomForestClassifier()"
      ]
     },
     "execution_count": 193,
     "metadata": {},
     "output_type": "execute_result"
    }
   ],
   "source": [
    "rfc = RandomForestClassifier()\n",
    "rfc.fit(x_train, y_train)"
   ]
  },
  {
   "cell_type": "code",
   "execution_count": 194,
   "id": "15ba15be",
   "metadata": {
    "execution": {
     "iopub.execute_input": "2021-09-05T21:01:03.886163Z",
     "iopub.status.busy": "2021-09-05T21:01:03.885549Z",
     "iopub.status.idle": "2021-09-05T21:01:03.898824Z",
     "shell.execute_reply": "2021-09-05T21:01:03.898171Z",
     "shell.execute_reply.started": "2021-09-02T19:48:06.794587Z"
    },
    "id": "udonpRdbnTro",
    "outputId": "c8780ae5-38f7-42bf-d125-5163ab5668c5",
    "papermill": {
     "duration": 0.080247,
     "end_time": "2021-09-05T21:01:03.898960",
     "exception": false,
     "start_time": "2021-09-05T21:01:03.818713",
     "status": "completed"
    },
    "tags": []
   },
   "outputs": [
    {
     "name": "stdout",
     "output_type": "stream",
     "text": [
      "Precisão do modelo RandomForestClassifier: 0.940677966101695\n"
     ]
    }
   ],
   "source": [
    "RandomForestClassifierScore = rfc.score(x_test, y_test)\n",
    "print(f'Precisão do modelo RandomForestClassifier: {RandomForestClassifierScore}')"
   ]
  },
  {
   "cell_type": "markdown",
   "id": "52204475",
   "metadata": {
    "id": "aaQCdF2QnTuA",
    "papermill": {
     "duration": 0.058086,
     "end_time": "2021-09-05T21:01:04.016187",
     "exception": false,
     "start_time": "2021-09-05T21:01:03.958101",
     "status": "completed"
    },
    "tags": []
   },
   "source": [
    "<div style=\"background-color:#99EEAA; color:#000066;\">\n",
    "    <h4><center> Confusion Matrix para RFC  </center></h4>\n",
    "</div>\n"
   ]
  },
  {
   "cell_type": "code",
   "execution_count": 715,
   "id": "30153a5b",
   "metadata": {
    "execution": {
     "iopub.execute_input": "2021-09-05T21:01:04.153912Z",
     "iopub.status.busy": "2021-09-05T21:01:04.153284Z",
     "iopub.status.idle": "2021-09-05T21:01:04.371097Z",
     "shell.execute_reply": "2021-09-05T21:01:04.371542Z",
     "shell.execute_reply.started": "2021-09-02T19:48:06.815632Z"
    },
    "id": "-jG2vHbknyLh",
    "outputId": "f8799184-eae8-4426-861a-293365fa1839",
    "papermill": {
     "duration": 0.283104,
     "end_time": "2021-09-05T21:01:04.371714",
     "exception": false,
     "start_time": "2021-09-05T21:01:04.088610",
     "status": "completed"
    },
    "tags": []
   },
   "outputs": [
    {
     "data": {
      "text/plain": [
       "<AxesSubplot:>"
      ]
     },
     "execution_count": 715,
     "metadata": {},
     "output_type": "execute_result"
    },
    {
     "data": {
      "image/png": "[encoded data removed]",
      "text/plain": [
       "<Figure size 576x396 with 2 Axes>"
      ]
     },
     "metadata": {},
     "output_type": "display_data"
    }
   ],
   "source": [
    "y_pred_rfc = rfc.predict(x_test)\n",
    "matrix_rfc = confusion_matrix(y_test, y_pred_rfc)\n",
    "sns.heatmap(matrix_rfc, annot=True, cmap=\"PuOr\",fmt='g')"
   ]
  },
  {
   "cell_type": "code",
   "execution_count": 196,
   "id": "a0bfd972",
   "metadata": {
    "execution": {
     "iopub.execute_input": "2021-09-05T21:01:04.492879Z",
     "iopub.status.busy": "2021-09-05T21:01:04.492313Z",
     "iopub.status.idle": "2021-09-05T21:01:04.502021Z",
     "shell.execute_reply": "2021-09-05T21:01:04.501196Z",
     "shell.execute_reply.started": "2021-09-02T19:48:07.082024Z"
    },
    "id": "bWWxhc3Jn087",
    "outputId": "56963ff2-4531-4317-c4ac-bd2bf275577a",
    "papermill": {
     "duration": 0.071208,
     "end_time": "2021-09-05T21:01:04.502226",
     "exception": false,
     "start_time": "2021-09-05T21:01:04.431018",
     "status": "completed"
    },
    "tags": []
   },
   "outputs": [
    {
     "name": "stdout",
     "output_type": "stream",
     "text": [
      "              precision    recall  f1-score   support\n",
      "\n",
      "         0.0       0.94      1.00      0.97       101\n",
      "         1.0       1.00      0.59      0.74        17\n",
      "\n",
      "    accuracy                           0.94       118\n",
      "   macro avg       0.97      0.79      0.85       118\n",
      "weighted avg       0.94      0.94      0.93       118\n",
      "\n"
     ]
    }
   ],
   "source": [
    "print(metrics.classification_report(y_test, y_pred_rfc))"
   ]
  },
  {
   "cell_type": "markdown",
   "id": "3d5f67c7",
   "metadata": {
    "id": "Fit3nZURn0_f",
    "papermill": {
     "duration": 0.059139,
     "end_time": "2021-09-05T21:01:04.622856",
     "exception": false,
     "start_time": "2021-09-05T21:01:04.563717",
     "status": "completed"
    },
    "tags": []
   },
   "source": [
    "<div style=\"background-color:#99EEAA; color:#000066;\">\n",
    "    <h3><center> K Neighbors Classifier:  </center></h3>\n",
    "</div>\n",
    " "
   ]
  },
  {
   "cell_type": "code",
   "execution_count": 197,
   "id": "872a39cf",
   "metadata": {
    "execution": {
     "iopub.execute_input": "2021-09-05T21:01:04.749638Z",
     "iopub.status.busy": "2021-09-05T21:01:04.748773Z",
     "iopub.status.idle": "2021-09-05T21:01:04.752853Z",
     "shell.execute_reply": "2021-09-05T21:01:04.752308Z",
     "shell.execute_reply.started": "2021-09-02T19:48:07.09775Z"
    },
    "id": "-MOc8627n1DJ",
    "outputId": "ff0e16a8-788c-4f53-ffe0-8d51b7f0a4b3",
    "papermill": {
     "duration": 0.070639,
     "end_time": "2021-09-05T21:01:04.752994",
     "exception": false,
     "start_time": "2021-09-05T21:01:04.682355",
     "status": "completed"
    },
    "tags": []
   },
   "outputs": [
    {
     "data": {
      "text/plain": [
       "KNeighborsClassifier()"
      ]
     },
     "execution_count": 197,
     "metadata": {},
     "output_type": "execute_result"
    }
   ],
   "source": [
    "knc = KNeighborsClassifier()\n",
    "knc.fit(x_train, y_train)"
   ]
  },
  {
   "cell_type": "code",
   "execution_count": 198,
   "id": "4da4dfd4",
   "metadata": {
    "execution": {
     "iopub.execute_input": "2021-09-05T21:01:04.876812Z",
     "iopub.status.busy": "2021-09-05T21:01:04.876168Z",
     "iopub.status.idle": "2021-09-05T21:01:04.886451Z",
     "shell.execute_reply": "2021-09-05T21:01:04.886913Z",
     "shell.execute_reply.started": "2021-09-02T19:48:07.112909Z"
    },
    "id": "aprEl2xkoVfA",
    "outputId": "f76de17c-21f8-4cae-8d85-cec432a65b4a",
    "papermill": {
     "duration": 0.073858,
     "end_time": "2021-09-05T21:01:04.887076",
     "exception": false,
     "start_time": "2021-09-05T21:01:04.813218",
     "status": "completed"
    },
    "tags": []
   },
   "outputs": [
    {
     "name": "stdout",
     "output_type": "stream",
     "text": [
      "Precisão do Modelo KNC: 0.9322033898305084\n"
     ]
    }
   ],
   "source": [
    "KNeighborsClassifierScore = knc.score(x_test, y_test)\n",
    "print(f'Precisão do Modelo KNC: {KNeighborsClassifierScore}')"
   ]
  },
  {
   "cell_type": "markdown",
   "id": "122ac439",
   "metadata": {
    "id": "7JJsok3hoVhy",
    "papermill": {
     "duration": 0.059897,
     "end_time": "2021-09-05T21:01:05.006644",
     "exception": false,
     "start_time": "2021-09-05T21:01:04.946747",
     "status": "completed"
    },
    "tags": []
   },
   "source": [
    "<div style=\"background-color:#99EEAA; color:#000066;\">\n",
    "    <h4><center>Confusion Matrix para KNC   </center></h4>\n",
    "</div>\n"
   ]
  },
  {
   "cell_type": "code",
   "execution_count": 714,
   "id": "257bd558",
   "metadata": {
    "execution": {
     "iopub.execute_input": "2021-09-05T21:01:05.131099Z",
     "iopub.status.busy": "2021-09-05T21:01:05.130543Z",
     "iopub.status.idle": "2021-09-05T21:01:05.350531Z",
     "shell.execute_reply": "2021-09-05T21:01:05.350924Z",
     "shell.execute_reply.started": "2021-09-02T19:48:07.137288Z"
    },
    "id": "G0RrHB20oVk3",
    "outputId": "3ea31052-48b1-4aee-8974-1bbf09eba8e3",
    "papermill": {
     "duration": 0.283549,
     "end_time": "2021-09-05T21:01:05.351100",
     "exception": false,
     "start_time": "2021-09-05T21:01:05.067551",
     "status": "completed"
    },
    "tags": []
   },
   "outputs": [
    {
     "data": {
      "text/plain": [
       "<AxesSubplot:>"
      ]
     },
     "execution_count": 714,
     "metadata": {},
     "output_type": "execute_result"
    },
    {
     "data": {
      "image/png": "[encoded data removed]",
      "text/plain": [
       "<Figure size 576x396 with 2 Axes>"
      ]
     },
     "metadata": {},
     "output_type": "display_data"
    }
   ],
   "source": [
    "y_pred_knc = knc.predict(x_test)\n",
    "matrix_knc = confusion_matrix(y_test, y_pred_knc)\n",
    "sns.heatmap(matrix_knc, annot=True, cmap='PuRd',fmt='g')"
   ]
  },
  {
   "cell_type": "code",
   "execution_count": 200,
   "id": "351caa7e",
   "metadata": {
    "execution": {
     "iopub.execute_input": "2021-09-05T21:01:05.475861Z",
     "iopub.status.busy": "2021-09-05T21:01:05.475287Z",
     "iopub.status.idle": "2021-09-05T21:01:05.483427Z",
     "shell.execute_reply": "2021-09-05T21:01:05.484064Z",
     "shell.execute_reply.started": "2021-09-02T19:48:07.408035Z"
    },
    "id": "h7LBDXeZoVnE",
    "outputId": "8a6e469e-f476-41d3-85c7-e5f294a92547",
    "papermill": {
     "duration": 0.072556,
     "end_time": "2021-09-05T21:01:05.484323",
     "exception": false,
     "start_time": "2021-09-05T21:01:05.411767",
     "status": "completed"
    },
    "tags": []
   },
   "outputs": [
    {
     "name": "stdout",
     "output_type": "stream",
     "text": [
      "              precision    recall  f1-score   support\n",
      "\n",
      "         0.0       0.93      1.00      0.96       101\n",
      "         1.0       1.00      0.53      0.69        17\n",
      "\n",
      "    accuracy                           0.93       118\n",
      "   macro avg       0.96      0.76      0.83       118\n",
      "weighted avg       0.94      0.93      0.92       118\n",
      "\n"
     ]
    }
   ],
   "source": [
    "print(metrics.classification_report(y_test,y_pred_knc))"
   ]
  },
  {
   "cell_type": "markdown",
   "id": "c4fcac5c",
   "metadata": {
    "id": "jx2RIK4SoyOr",
    "papermill": {
     "duration": 0.060887,
     "end_time": "2021-09-05T21:01:05.607556",
     "exception": false,
     "start_time": "2021-09-05T21:01:05.546669",
     "status": "completed"
    },
    "tags": []
   },
   "source": [
    "<div style=\"background-color:#99EEAA; color:#000066;\">\n",
    "    <h3><center> Decision Tree Classifier:  </center></h3>\n",
    "</div>\n"
   ]
  },
  {
   "cell_type": "code",
   "execution_count": 201,
   "id": "7e7440cd",
   "metadata": {
    "execution": {
     "iopub.execute_input": "2021-09-05T21:01:05.732721Z",
     "iopub.status.busy": "2021-09-05T21:01:05.732096Z",
     "iopub.status.idle": "2021-09-05T21:01:05.739908Z",
     "shell.execute_reply": "2021-09-05T21:01:05.740469Z",
     "shell.execute_reply.started": "2021-09-02T19:48:07.423401Z"
    },
    "id": "TIgxo62YoyRu",
    "outputId": "f8e206ca-cc51-411b-f9ca-7543e90a0118",
    "papermill": {
     "duration": 0.072064,
     "end_time": "2021-09-05T21:01:05.740635",
     "exception": false,
     "start_time": "2021-09-05T21:01:05.668571",
     "status": "completed"
    },
    "tags": []
   },
   "outputs": [
    {
     "data": {
      "text/plain": [
       "DecisionTreeClassifier()"
      ]
     },
     "execution_count": 201,
     "metadata": {},
     "output_type": "execute_result"
    }
   ],
   "source": [
    "tree = DecisionTreeClassifier()\n",
    "tree.fit(x_train, y_train)"
   ]
  },
  {
   "cell_type": "code",
   "execution_count": 202,
   "id": "c23ee28f",
   "metadata": {
    "execution": {
     "iopub.execute_input": "2021-09-05T21:01:05.866079Z",
     "iopub.status.busy": "2021-09-05T21:01:05.865410Z",
     "iopub.status.idle": "2021-09-05T21:01:05.872973Z",
     "shell.execute_reply": "2021-09-05T21:01:05.872102Z",
     "shell.execute_reply.started": "2021-09-02T19:48:07.435099Z"
    },
    "id": "j8qMxiPqoyU3",
    "outputId": "c2e4c692-ae43-4a6d-9a08-1cdb0917fc65",
    "papermill": {
     "duration": 0.071432,
     "end_time": "2021-09-05T21:01:05.873208",
     "exception": false,
     "start_time": "2021-09-05T21:01:05.801776",
     "status": "completed"
    },
    "tags": []
   },
   "outputs": [
    {
     "name": "stdout",
     "output_type": "stream",
     "text": [
      "Precisão do modelo DTC: 0.940677966101695\n"
     ]
    }
   ],
   "source": [
    "DecisionTreeClassifierScore = tree.score(x_test, y_test)\n",
    "print(f'Precisão do modelo DTC: {DecisionTreeClassifierScore}')"
   ]
  },
  {
   "cell_type": "markdown",
   "id": "452f9097",
   "metadata": {
    "id": "Gy9BVBbQo_oN",
    "papermill": {
     "duration": 0.069621,
     "end_time": "2021-09-05T21:01:06.020823",
     "exception": false,
     "start_time": "2021-09-05T21:01:05.951202",
     "status": "completed"
    },
    "tags": []
   },
   "source": [
    "\n",
    "<div style=\"background-color:#99EEAA; color:#000066;\">\n",
    "    <h4><center>   Confusion Matrix para DTC </center></h4>\n",
    "</div>"
   ]
  },
  {
   "cell_type": "code",
   "execution_count": 713,
   "id": "7acb2525",
   "metadata": {
    "execution": {
     "iopub.execute_input": "2021-09-05T21:01:06.167178Z",
     "iopub.status.busy": "2021-09-05T21:01:06.166569Z",
     "iopub.status.idle": "2021-09-05T21:01:06.418748Z",
     "shell.execute_reply": "2021-09-05T21:01:06.419292Z",
     "shell.execute_reply.started": "2021-09-02T19:48:07.442737Z"
    },
    "id": "af_y9XTgo-7y",
    "outputId": "05e82c39-996a-47b3-ce7a-add032ea37a1",
    "papermill": {
     "duration": 0.333032,
     "end_time": "2021-09-05T21:01:06.419463",
     "exception": false,
     "start_time": "2021-09-05T21:01:06.086431",
     "status": "completed"
    },
    "tags": []
   },
   "outputs": [
    {
     "data": {
      "text/plain": [
       "<AxesSubplot:>"
      ]
     },
     "execution_count": 713,
     "metadata": {},
     "output_type": "execute_result"
    },
    {
     "data": {
      "image/png": "[encoded data removed]",
      "text/plain": [
       "<Figure size 576x396 with 2 Axes>"
      ]
     },
     "metadata": {},
     "output_type": "display_data"
    }
   ],
   "source": [
    "y_pred_tree = tree.predict(x_test)\n",
    "matrix_tree = confusion_matrix(y_test, y_pred_tree)\n",
    "sns.heatmap(matrix_tree, annot=True, cmap='winter',fmt='g')"
   ]
  },
  {
   "cell_type": "code",
   "execution_count": 204,
   "id": "658440ad",
   "metadata": {
    "execution": {
     "iopub.execute_input": "2021-09-05T21:01:06.553588Z",
     "iopub.status.busy": "2021-09-05T21:01:06.552666Z",
     "iopub.status.idle": "2021-09-05T21:01:06.561890Z",
     "shell.execute_reply": "2021-09-05T21:01:06.562621Z",
     "shell.execute_reply.started": "2021-09-02T19:48:07.703538Z"
    },
    "id": "Dt1pfe-Uo--Y",
    "outputId": "e4167c10-5e65-49a6-bebc-df30911c07e4",
    "papermill": {
     "duration": 0.077613,
     "end_time": "2021-09-05T21:01:06.562841",
     "exception": false,
     "start_time": "2021-09-05T21:01:06.485228",
     "status": "completed"
    },
    "tags": []
   },
   "outputs": [
    {
     "name": "stdout",
     "output_type": "stream",
     "text": [
      "              precision    recall  f1-score   support\n",
      "\n",
      "         0.0       0.94      1.00      0.97       101\n",
      "         1.0       1.00      0.59      0.74        17\n",
      "\n",
      "    accuracy                           0.94       118\n",
      "   macro avg       0.97      0.79      0.85       118\n",
      "weighted avg       0.94      0.94      0.93       118\n",
      "\n"
     ]
    }
   ],
   "source": [
    "print(metrics.classification_report(y_test, y_pred_tree))"
   ]
  },
  {
   "cell_type": "markdown",
   "id": "0a17a8ec",
   "metadata": {
    "id": "anOfgzPapNq3",
    "papermill": {
     "duration": 0.065591,
     "end_time": "2021-09-05T21:01:06.692407",
     "exception": false,
     "start_time": "2021-09-05T21:01:06.626816",
     "status": "completed"
    },
    "tags": []
   },
   "source": [
    "\n",
    "<div style=\"background-color:#99EEAA; color:#000066;\">\n",
    "    <h3><center>  CatBoost Classifier: </center></h3>\n",
    "</div>"
   ]
  },
  {
   "cell_type": "code",
   "execution_count": 205,
   "id": "9dcdae0f",
   "metadata": {
    "execution": {
     "iopub.execute_input": "2021-09-05T21:01:06.832886Z",
     "iopub.status.busy": "2021-09-05T21:01:06.831991Z",
     "iopub.status.idle": "2021-09-05T21:01:07.016419Z",
     "shell.execute_reply": "2021-09-05T21:01:07.015925Z",
     "shell.execute_reply.started": "2021-09-02T19:48:07.717855Z"
    },
    "id": "T_7Z0xgFo_Bw",
    "outputId": "6b57348e-c78e-4fe8-81da-f36b62254d81",
    "papermill": {
     "duration": 0.261213,
     "end_time": "2021-09-05T21:01:07.016567",
     "exception": false,
     "start_time": "2021-09-05T21:01:06.755354",
     "status": "completed"
    },
    "tags": []
   },
   "outputs": [
    {
     "name": "stdout",
     "output_type": "stream",
     "text": [
      "Learning rate set to 0.5\n",
      "0:\tlearn: 0.3991804\ttotal: 52.5ms\tremaining: 472ms\n",
      "1:\tlearn: 0.2753486\ttotal: 54ms\tremaining: 216ms\n",
      "2:\tlearn: 0.1954765\ttotal: 55.4ms\tremaining: 129ms\n",
      "3:\tlearn: 0.1492212\ttotal: 58.3ms\tremaining: 87.4ms\n",
      "4:\tlearn: 0.1179036\ttotal: 61.4ms\tremaining: 61.4ms\n",
      "5:\tlearn: 0.0916512\ttotal: 63.8ms\tremaining: 42.5ms\n",
      "6:\tlearn: 0.0731898\ttotal: 65.8ms\tremaining: 28.2ms\n",
      "7:\tlearn: 0.0608813\ttotal: 67.5ms\tremaining: 16.9ms\n",
      "8:\tlearn: 0.0529468\ttotal: 69.3ms\tremaining: 7.7ms\n",
      "9:\tlearn: 0.0469205\ttotal: 70.8ms\tremaining: 0us\n"
     ]
    },
    {
     "data": {
      "text/plain": [
       "<catboost.core.CatBoostClassifier at 0x7f1be6576f70>"
      ]
     },
     "execution_count": 205,
     "metadata": {},
     "output_type": "execute_result"
    }
   ],
   "source": [
    "cat = CatBoostClassifier(iterations= 10)\n",
    "cat.fit(x_train, y_train)"
   ]
  },
  {
   "cell_type": "code",
   "execution_count": 206,
   "id": "06b41784",
   "metadata": {
    "execution": {
     "iopub.execute_input": "2021-09-05T21:01:07.148553Z",
     "iopub.status.busy": "2021-09-05T21:01:07.146730Z",
     "iopub.status.idle": "2021-09-05T21:01:07.151186Z",
     "shell.execute_reply": "2021-09-05T21:01:07.151703Z",
     "shell.execute_reply.started": "2021-09-02T19:48:07.874483Z"
    },
    "id": "x2YHFp8Vo_D-",
    "outputId": "cd9b85d9-6ebe-444e-9479-82fe51145f44",
    "papermill": {
     "duration": 0.072352,
     "end_time": "2021-09-05T21:01:07.151862",
     "exception": false,
     "start_time": "2021-09-05T21:01:07.079510",
     "status": "completed"
    },
    "tags": []
   },
   "outputs": [
    {
     "name": "stdout",
     "output_type": "stream",
     "text": [
      "Precisão do modelo CBC: 0.9576271186440678\n"
     ]
    }
   ],
   "source": [
    "CatBoostClassifierScore= cat.score(x_test,y_test)\n",
    "print(f'Precisão do modelo CBC: {CatBoostClassifierScore}')"
   ]
  },
  {
   "cell_type": "markdown",
   "id": "f96c36fa",
   "metadata": {
    "id": "aCfsi5McpYfo",
    "papermill": {
     "duration": 0.062957,
     "end_time": "2021-09-05T21:01:07.277842",
     "exception": false,
     "start_time": "2021-09-05T21:01:07.214885",
     "status": "completed"
    },
    "tags": []
   },
   "source": [
    "<div style=\"background-color:#99EEAA; color:#000066;\">\n",
    "    <h4><center> Confusion Matrix para CBC:  </center></h4>\n",
    "</div>"
   ]
  },
  {
   "cell_type": "code",
   "execution_count": 712,
   "id": "9abc40d5",
   "metadata": {
    "execution": {
     "iopub.execute_input": "2021-09-05T21:01:07.409920Z",
     "iopub.status.busy": "2021-09-05T21:01:07.409003Z",
     "iopub.status.idle": "2021-09-05T21:01:07.620517Z",
     "shell.execute_reply": "2021-09-05T21:01:07.620907Z",
     "shell.execute_reply.started": "2021-09-02T19:48:07.885237Z"
    },
    "id": "KoozTyFmo_Gt",
    "outputId": "8b0ac7cc-55c2-437f-8b01-974329ee6e1c",
    "papermill": {
     "duration": 0.280269,
     "end_time": "2021-09-05T21:01:07.621077",
     "exception": false,
     "start_time": "2021-09-05T21:01:07.340808",
     "status": "completed"
    },
    "tags": []
   },
   "outputs": [
    {
     "data": {
      "text/plain": [
       "<AxesSubplot:>"
      ]
     },
     "execution_count": 712,
     "metadata": {},
     "output_type": "execute_result"
    },
    {
     "data": {
      "image/png": "[encoded data removed]",
      "text/plain": [
       "<Figure size 576x396 with 2 Axes>"
      ]
     },
     "metadata": {},
     "output_type": "display_data"
    }
   ],
   "source": [
    "y_pred_cat = cat.predict(x_test)\n",
    "matrix_cat = confusion_matrix(y_test, y_pred_cat)\n",
    "sns.heatmap(matrix_cat, annot=True, cmap='gist_earth',fmt='g')"
   ]
  },
  {
   "cell_type": "code",
   "execution_count": 706,
   "id": "d728d57d",
   "metadata": {
    "execution": {
     "iopub.execute_input": "2021-09-05T21:01:07.753812Z",
     "iopub.status.busy": "2021-09-05T21:01:07.753158Z",
     "iopub.status.idle": "2021-09-05T21:01:07.760850Z",
     "shell.execute_reply": "2021-09-05T21:01:07.761507Z",
     "shell.execute_reply.started": "2021-09-02T19:48:08.148112Z"
    },
    "id": "4m56FHB7pf1A",
    "outputId": "086cd300-a6f3-424a-fd3c-0483ffac8fae",
    "papermill": {
     "duration": 0.076745,
     "end_time": "2021-09-05T21:01:07.761737",
     "exception": false,
     "start_time": "2021-09-05T21:01:07.684992",
     "status": "completed"
    },
    "tags": []
   },
   "outputs": [
    {
     "name": "stdout",
     "output_type": "stream",
     "text": [
      "              precision    recall  f1-score   support\n",
      "\n",
      "         0.0       0.95      1.00      0.98       101\n",
      "         1.0       1.00      0.71      0.83        17\n",
      "\n",
      "    accuracy                           0.96       118\n",
      "   macro avg       0.98      0.85      0.90       118\n",
      "weighted avg       0.96      0.96      0.95       118\n",
      "\n"
     ]
    },
    {
     "data": {
      "text/plain": [
       "<Figure size 576x396 with 0 Axes>"
      ]
     },
     "metadata": {},
     "output_type": "display_data"
    }
   ],
   "source": [
    "print(metrics.classification_report(y_test,y_pred_cat))\n"
   ]
  },
  {
   "cell_type": "markdown",
   "id": "6efc08fa",
   "metadata": {
    "id": "6QFVqO8vppzV",
    "papermill": {
     "duration": 0.065281,
     "end_time": "2021-09-05T21:01:07.892196",
     "exception": false,
     "start_time": "2021-09-05T21:01:07.826915",
     "status": "completed"
    },
    "tags": []
   },
   "source": [
    "\n",
    "<div style=\"background-color:#99EEAA; color:#000066;\">\n",
    "    <h3><center> Gradient Boosting Classifier:  </center></h3>\n",
    "</div>"
   ]
  },
  {
   "cell_type": "code",
   "execution_count": 209,
   "id": "3165b929",
   "metadata": {
    "execution": {
     "iopub.execute_input": "2021-09-05T21:01:08.029068Z",
     "iopub.status.busy": "2021-09-05T21:01:08.028483Z",
     "iopub.status.idle": "2021-09-05T21:01:08.214071Z",
     "shell.execute_reply": "2021-09-05T21:01:08.213576Z",
     "shell.execute_reply.started": "2021-09-02T19:48:08.161684Z"
    },
    "id": "xbSdj1A-pf38",
    "outputId": "ffb3bf8a-c9ed-4e78-f5d6-ce1e5214290e",
    "papermill": {
     "duration": 0.25674,
     "end_time": "2021-09-05T21:01:08.214216",
     "exception": false,
     "start_time": "2021-09-05T21:01:07.957476",
     "status": "completed"
    },
    "tags": []
   },
   "outputs": [
    {
     "data": {
      "text/plain": [
       "GradientBoostingClassifier()"
      ]
     },
     "execution_count": 209,
     "metadata": {},
     "output_type": "execute_result"
    }
   ],
   "source": [
    "gbc =  GradientBoostingClassifier()\n",
    "gbc.fit(x_train, y_train)"
   ]
  },
  {
   "cell_type": "code",
   "execution_count": 210,
   "id": "0ce8b1ec",
   "metadata": {
    "execution": {
     "iopub.execute_input": "2021-09-05T21:01:08.351494Z",
     "iopub.status.busy": "2021-09-05T21:01:08.350713Z",
     "iopub.status.idle": "2021-09-05T21:01:08.354649Z",
     "shell.execute_reply": "2021-09-05T21:01:08.354143Z",
     "shell.execute_reply.started": "2021-09-02T19:48:08.365686Z"
    },
    "id": "AFglLbHapf7V",
    "outputId": "2556ab9d-ef3d-4c43-aa4d-f34f6d4ffd1c",
    "papermill": {
     "duration": 0.075433,
     "end_time": "2021-09-05T21:01:08.354784",
     "exception": false,
     "start_time": "2021-09-05T21:01:08.279351",
     "status": "completed"
    },
    "tags": []
   },
   "outputs": [
    {
     "name": "stdout",
     "output_type": "stream",
     "text": [
      "Precisão do modelo GBC: 0.940677966101695\n"
     ]
    }
   ],
   "source": [
    "GradientBoostingClassifierScore = gbc.score(x_test,y_test)\n",
    "print(f'Precisão do modelo GBC: {GradientBoostingClassifierScore}')"
   ]
  },
  {
   "cell_type": "markdown",
   "id": "03e57671",
   "metadata": {
    "id": "UdD7y0RIp9pP",
    "papermill": {
     "duration": 0.064457,
     "end_time": "2021-09-05T21:01:08.485101",
     "exception": false,
     "start_time": "2021-09-05T21:01:08.420644",
     "status": "completed"
    },
    "tags": []
   },
   "source": [
    "\n",
    "<div style=\"background-color:#99EEAA; color:#000066;\">\n",
    "    <h4><center>   Confusion Matrix para GBC: </center></h4>\n",
    "</div>"
   ]
  },
  {
   "cell_type": "code",
   "execution_count": 711,
   "id": "cb175df4",
   "metadata": {
    "execution": {
     "iopub.execute_input": "2021-09-05T21:01:08.655073Z",
     "iopub.status.busy": "2021-09-05T21:01:08.635000Z",
     "iopub.status.idle": "2021-09-05T21:01:08.834628Z",
     "shell.execute_reply": "2021-09-05T21:01:08.834032Z",
     "shell.execute_reply.started": "2021-09-02T19:48:08.375454Z"
    },
    "id": "BL69JNBepyOC",
    "outputId": "e1ea53c3-c8d5-44f6-f65c-85c81675ce30",
    "papermill": {
     "duration": 0.28487,
     "end_time": "2021-09-05T21:01:08.834763",
     "exception": false,
     "start_time": "2021-09-05T21:01:08.549893",
     "status": "completed"
    },
    "tags": []
   },
   "outputs": [
    {
     "data": {
      "text/plain": [
       "<AxesSubplot:>"
      ]
     },
     "execution_count": 711,
     "metadata": {},
     "output_type": "execute_result"
    },
    {
     "data": {
      "image/png": "[encoded data removed]",
      "text/plain": [
       "<Figure size 576x396 with 2 Axes>"
      ]
     },
     "metadata": {},
     "output_type": "display_data"
    }
   ],
   "source": [
    "y_pred_gbc = gbc.predict(x_test)\n",
    "matrix_gbc = confusion_matrix(y_test,y_pred_gbc)\n",
    "sns.heatmap(matrix_gbc, annot=True, cmap='brg', fmt='g')"
   ]
  },
  {
   "cell_type": "code",
   "execution_count": 601,
   "id": "0eaf14e4",
   "metadata": {
    "execution": {
     "iopub.execute_input": "2021-09-05T21:01:08.973113Z",
     "iopub.status.busy": "2021-09-05T21:01:08.971570Z",
     "iopub.status.idle": "2021-09-05T21:01:08.980303Z",
     "shell.execute_reply": "2021-09-05T21:01:08.979763Z",
     "shell.execute_reply.started": "2021-09-02T19:48:08.650756Z"
    },
    "id": "aW6TaClzqFSE",
    "outputId": "6658645a-1154-43cb-ab07-1209f24740e6",
    "papermill": {
     "duration": 0.079124,
     "end_time": "2021-09-05T21:01:08.980451",
     "exception": false,
     "start_time": "2021-09-05T21:01:08.901327",
     "status": "completed"
    },
    "tags": []
   },
   "outputs": [
    {
     "name": "stdout",
     "output_type": "stream",
     "text": [
      "              precision    recall  f1-score   support\n",
      "\n",
      "         0.0       0.94      1.00      0.97       101\n",
      "         1.0       1.00      0.59      0.74        17\n",
      "\n",
      "    accuracy                           0.94       118\n",
      "   macro avg       0.97      0.79      0.85       118\n",
      "weighted avg       0.94      0.94      0.93       118\n",
      "\n"
     ]
    }
   ],
   "source": [
    "print(metrics.classification_report(y_test, y_pred_gbc))"
   ]
  },
  {
   "cell_type": "markdown",
   "id": "55c66f93",
   "metadata": {
    "id": "eGtIbN_lqJNY",
    "papermill": {
     "duration": 0.066914,
     "end_time": "2021-09-05T21:01:09.115323",
     "exception": false,
     "start_time": "2021-09-05T21:01:09.048409",
     "status": "completed"
    },
    "tags": []
   },
   "source": [
    "\n",
    "<div style=\"background-color:#99EEAA; color:#000066;\">\n",
    "    <h2><center> Comparando Modelos:  </center></h2>\n",
    "</div>"
   ]
  },
  {
   "cell_type": "code",
   "execution_count": 722,
   "id": "cee05faa",
   "metadata": {},
   "outputs": [
    {
     "name": "stderr",
     "output_type": "stream",
     "text": [
      "<ipython-input-722-cb0a49d822db>:58: MatplotlibDeprecationWarning: savefig() got unexpected keyword argument \"transparente\" which is no longer supported as of 3.3 and will become an error two minor releases later\n",
      "  plt.savefig(\"matriz_confu.png\", dpi=200,bbox_inches='tight', transparente = True)\n"
     ]
    },
    {
     "data": {
      "image/png": "[encoded data removed]",
      "text/plain": [
       "<Figure size 1080x1440 with 12 Axes>"
      ]
     },
     "metadata": {},
     "output_type": "display_data"
    }
   ],
   "source": [
    "\n",
    "\n",
    "\n",
    "fig = plt.figure(figsize=(15,20)) # create figure\n",
    "\n",
    "\n",
    "\n",
    "gs = fig.add_gridspec(4, 2 )\n",
    "gs.update(wspace=0, hspace=0.5)\n",
    "ax0 = fig.add_subplot(gs[0, 0], ylim=(0, 95))\n",
    "ax1 = fig.add_subplot(gs[0,1], ylim=(0,400)) # create axes\n",
    "ax2 = fig.add_subplot(gs[1, 0], ylim=(0, 300)) # create axes\n",
    "ax3 = fig.add_subplot(gs[1, 1], ylim=(0, 300)) # create axes\n",
    "ax4 = fig.add_subplot(gs[2, 0]) # create axes\n",
    "ax5 = fig.add_subplot(gs[2, 1], ylim=(0, 100))\n",
    "\n",
    "\n",
    "sns.heatmap(matrix_lr, annot=True,cmap=\"magma\" , ax = ax0, label = \"fsdgsd\",fmt='g')\n",
    "sns.heatmap(matrix_rfc, annot=True, cmap='mako',ax = ax1,fmt='g')\n",
    "sns.heatmap(matrix_knc, annot=True, cmap='vlag',ax = ax2,fmt='g')\n",
    "sns.heatmap(matrix_tree, annot=True, cmap='icefire',ax = ax3,fmt='g')\n",
    "sns.heatmap(matrix_cat, annot=True, cmap=\"flare\",ax = ax4,fmt='g')\n",
    "sns.heatmap(matrix_gbc, annot=True, cmap=\"crest\",ax = ax5,fmt='g')\n",
    "\n",
    "\n",
    "\n",
    "\n",
    "ax0.text(-0.026,-0.28, \n",
    "         'Matriz Confusão', \n",
    "         fontsize=24, \n",
    "         fontweight='bold', \n",
    "         fontfamily='serif',\n",
    "        )\n",
    "\n",
    "\n",
    "ax0.text(-0.026,-0.08, \n",
    "         'Vizualização do desempenho dos algoritmos de classificação', \n",
    "         fontsize=15, \n",
    "         fontweight='light', \n",
    "         fontfamily='serif',\n",
    "        )\n",
    "\n",
    "\n",
    "# x Label ,fontsize=18\n",
    "ax0.set_xlabel(\"Matriz Logistic Regression\",fontsize=18)\n",
    "ax1.set_xlabel(\"Matriz Random Forest\",fontsize=18)\n",
    "ax2.set_xlabel(\"Matriz K-Neighbor\",fontsize=18)\n",
    "ax3.set_xlabel(\"Matriz Decision Tree\",fontsize=18)\n",
    "ax4.set_xlabel(\"Matriz CatBoosting\",fontsize=18)\n",
    "ax5.set_xlabel(\"Matriz Gradient Boosting\",fontsize=18)\n",
    "\n",
    "\n",
    "\n",
    "\n",
    "#ax0.tick_params(labelsize=20)\n",
    "\n",
    "\n",
    "\n",
    "#gridspec_kw=dict(width_ratios=[4,1,0.2])\n",
    "\n",
    "plt.savefig(\"matriz_confu.png\", dpi=200,bbox_inches='tight', transparente = True)\n",
    "\n",
    "#plt.show()"
   ]
  },
  {
   "cell_type": "code",
   "execution_count": 694,
   "id": "3499eb04",
   "metadata": {},
   "outputs": [
    {
     "name": "stdout",
     "output_type": "stream",
     "text": [
      "Collecting tabulate\n",
      "  Downloading tabulate-0.8.9-py3-none-any.whl (25 kB)\n",
      "Installing collected packages: tabulate\n",
      "Successfully installed tabulate-0.8.9\n",
      "Note: you may need to restart the kernel to use updated packages.\n"
     ]
    }
   ],
   "source": [
    "pip install tabulate"
   ]
  },
  {
   "cell_type": "code",
   "execution_count": null,
   "id": "a4a25e29",
   "metadata": {},
   "outputs": [],
   "source": []
  },
  {
   "cell_type": "code",
   "execution_count": 695,
   "id": "03988193",
   "metadata": {},
   "outputs": [],
   "source": [
    "from tabulate import tabulate "
   ]
  },
  {
   "cell_type": "code",
   "execution_count": 698,
   "id": "57f4ef09",
   "metadata": {},
   "outputs": [],
   "source": [
    "table = [['Modelo', 'Precisão', 'f1-score'], ['John', 'Smith', 39], ['Mary', 'Jane', 25], ['Jennifer', 'Doe', 28]]"
   ]
  },
  {
   "cell_type": "code",
   "execution_count": 699,
   "id": "4fce1485",
   "metadata": {},
   "outputs": [
    {
     "name": "stdout",
     "output_type": "stream",
     "text": [
      "--------  --------  --------\n",
      "Modelo    Precisão  f1-score\n",
      "John      Smith     39\n",
      "Mary      Jane      25\n",
      "Jennifer  Doe       28\n",
      "--------  --------  --------\n"
     ]
    }
   ],
   "source": [
    "print(tabulate(table))"
   ]
  },
  {
   "cell_type": "code",
   "execution_count": 705,
   "id": "1eda5f39",
   "metadata": {},
   "outputs": [],
   "source": [
    "info = {\"Modelos:\": ['LogisticRegression', \n",
    "     \"DecisionTreeClassifier\",\n",
    "     'RandomForestClassifier',\n",
    "     \"KNeighborsClassifier\",\n",
    "     'CatBoostClassifier',\n",
    "     'GradientBoostingClassifier'],\n",
    "    \"Precisão\":[LogisticRegressionScore, \n",
    "     DecisionTreeClassifierScore,\n",
    "     RandomForestClassifierScore,\n",
    "     KNeighborsClassifierScore,\n",
    "     CatBoostClassifierScore,\n",
    "     GradientBoostingClassifierScore]}"
   ]
  },
  {
   "cell_type": "code",
   "execution_count": 707,
   "id": "6ec83d7f",
   "metadata": {},
   "outputs": [
    {
     "name": "stdout",
     "output_type": "stream",
     "text": [
      "╒════════════════════════════╤════════════╕\n",
      "│ Modelos:                   │   Precisão │\n",
      "╞════════════════════════════╪════════════╡\n",
      "│ LogisticRegression         │   0.957627 │\n",
      "├────────────────────────────┼────────────┤\n",
      "│ DecisionTreeClassifier     │   0.940678 │\n",
      "├────────────────────────────┼────────────┤\n",
      "│ RandomForestClassifier     │   0.940678 │\n",
      "├────────────────────────────┼────────────┤\n",
      "│ KNeighborsClassifier       │   0.932203 │\n",
      "├────────────────────────────┼────────────┤\n",
      "│ CatBoostClassifier         │   0.957627 │\n",
      "├────────────────────────────┼────────────┤\n",
      "│ GradientBoostingClassifier │   0.940678 │\n",
      "╘════════════════════════════╧════════════╛\n"
     ]
    },
    {
     "data": {
      "text/plain": [
       "<Figure size 576x396 with 0 Axes>"
      ]
     },
     "metadata": {},
     "output_type": "display_data"
    }
   ],
   "source": [
    "print(tabulate(info, headers='keys', tablefmt='fancy_grid'))\n",
    "plt.savefig('mytable.png')"
   ]
  },
  {
   "cell_type": "code",
   "execution_count": null,
   "id": "a93e5891",
   "metadata": {},
   "outputs": [],
   "source": []
  },
  {
   "cell_type": "markdown",
   "id": "26a8c8ac",
   "metadata": {
    "id": "SPz7yaClqJdf",
    "papermill": {
     "duration": 0.06543,
     "end_time": "2021-09-05T21:01:09.248583",
     "exception": false,
     "start_time": "2021-09-05T21:01:09.183153",
     "status": "completed"
    },
    "tags": []
   },
   "source": []
  },
  {
   "cell_type": "code",
   "execution_count": 375,
   "id": "5ed9ebba",
   "metadata": {
    "execution": {
     "iopub.execute_input": "2021-09-05T21:01:09.384082Z",
     "iopub.status.busy": "2021-09-05T21:01:09.383196Z",
     "iopub.status.idle": "2021-09-05T21:01:09.571658Z",
     "shell.execute_reply": "2021-09-05T21:01:09.572074Z",
     "shell.execute_reply.started": "2021-09-02T19:48:08.664021Z"
    },
    "id": "v-ds4oj_c2VP",
    "outputId": "b458017d-91dd-46c8-a63d-412ddb1c2e3e",
    "papermill": {
     "duration": 0.257993,
     "end_time": "2021-09-05T21:01:09.572269",
     "exception": false,
     "start_time": "2021-09-05T21:01:09.314276",
     "status": "completed"
    },
    "tags": []
   },
   "outputs": [
    {
     "name": "stderr",
     "output_type": "stream",
     "text": [
      "<ipython-input-375-bfb78c7eecd6>:53: MatplotlibDeprecationWarning: savefig() got unexpected keyword argument \"transparente\" which is no longer supported as of 3.3 and will become an error two minor releases later\n",
      "  plt.savefig(\"presc.png\", dpi=200,bbox_inches='tight', transparente = True)\n"
     ]
    },
    {
     "data": {
      "image/png": "[encoded data removed]",
      "text/plain": [
       "<Figure size 720x576 with 1 Axes>"
      ]
     },
     "metadata": {},
     "output_type": "display_data"
    }
   ],
   "source": [
    "plt.style.use('seaborn')\n",
    "\n",
    "fig,ax= plt.subplots(figsize=(10,8))\n",
    "sns.barplot(x=X, y=y, palette='crest')\n",
    "\n",
    "\n",
    "\n",
    "\n",
    "X = ['LogisticRegression', \n",
    "     \"DecisionTreeClassifier\",\n",
    "     'RandomForestClassifier',\n",
    "     \"KNeighborsClassifier\",\n",
    "     'CatBoostClassifier',\n",
    "     'GradientBoostingClassifier']\n",
    "\n",
    "y = [LogisticRegressionScore, \n",
    "     DecisionTreeClassifierScore,\n",
    "     RandomForestClassifierScore,\n",
    "     KNeighborsClassifierScore,\n",
    "     CatBoostClassifierScore,\n",
    "     GradientBoostingClassifierScore]\n",
    "\n",
    "\n",
    "\n",
    "ax.text(-0.5,1.06, \n",
    "         'Precisão dos Modelos', \n",
    "         fontsize=20, \n",
    "         fontweight='bold', \n",
    "         fontfamily='serif',\n",
    "        )\n",
    "\n",
    "\n",
    "ax.text(-0.5,1.02, \n",
    "         'Valor da precisão dos modelos testados', \n",
    "         fontsize=13, \n",
    "         fontweight='light', \n",
    "         fontfamily='serif',\n",
    "        )\n",
    "\n",
    "background_color = \"#ffffff\"\n",
    "fig.patch.set_facecolor(background_color) # figure background color\n",
    "ax.set_facecolor(background_color)\n",
    "\n",
    "\n",
    "ax.tick_params(labelsize=15)\n",
    "\n",
    "\n",
    "\n",
    "plt.ylabel('Precisão do Modelo')\n",
    "plt.xticks(rotation=40)\n",
    "#plt.title('Comparação de Modelos')\n",
    "\n",
    "plt.savefig(\"presc.png\", dpi=200,bbox_inches='tight', transparente = True)\n",
    "\n",
    "\n",
    "plt.show()"
   ]
  },
  {
   "cell_type": "markdown",
   "id": "8db1aa93",
   "metadata": {
    "id": "pzrl49olq4_b",
    "papermill": {
     "duration": 0.067586,
     "end_time": "2021-09-05T21:01:09.707838",
     "exception": false,
     "start_time": "2021-09-05T21:01:09.640252",
     "status": "completed"
    },
    "tags": []
   },
   "source": [
    "\n",
    "<div style=\"background-color:#99EEAA; color:#000066;\">\n",
    "    <h2><center> Relatório Final:  </center></h2>\n",
    "</div>\n",
    "\n",
    "* O modelo de classificação que apresentou melhor performance tendo como parâmentro a precisão foi o CatBoostClassifier."
   ]
  }
 ],
 "metadata": {
  "kernelspec": {
   "display_name": "Python 3",
   "language": "python",
   "name": "python3"
  },
  "language_info": {
   "codemirror_mode": {
    "name": "ipython",
    "version": 3
   },
   "file_extension": ".py",
   "mimetype": "text/x-python",
   "name": "python",
   "nbconvert_exporter": "python",
   "pygments_lexer": "ipython3",
   "version": "3.8.5"
  },
  "papermill": {
   "default_parameters": {},
   "duration": 24.559044,
   "end_time": "2021-09-05T21:01:10.586113",
   "environment_variables": {},
   "exception": null,
   "input_path": "__notebook__.ipynb",
   "output_path": "__notebook__.ipynb",
   "parameters": {},
   "start_time": "2021-09-05T21:00:46.027069",
   "version": "2.3.3"
  }
 },
 "nbformat": 4,
 "nbformat_minor": 5
}
